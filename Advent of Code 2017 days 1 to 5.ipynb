{
 "cells": [
  {
   "cell_type": "markdown",
   "metadata": {},
   "source": [
    "# day 5: A Maze of Twisty Trampolines, All Alike"
   ]
  },
  {
   "cell_type": "code",
   "execution_count": 1,
   "metadata": {},
   "outputs": [],
   "source": [
    "jos = []\n",
    "with open('input_day_5.txt') as f:\n",
    "    for line in f:\n",
    "        jos.append(int(line))\n",
    "\n",
    "max_index = len(jos) - 1\n",
    "index = 0\n",
    "steps = 0\n",
    "while 0 <= index <= max_index:\n",
    "    jo = jos[index]\n",
    "    jos[index] += 1 if jo < 3 else -1\n",
    "    steps += 1\n",
    "    index += jo"
   ]
  },
  {
   "cell_type": "code",
   "execution_count": 2,
   "metadata": {},
   "outputs": [
    {
     "data": {
      "text/plain": [
       "24490906"
      ]
     },
     "execution_count": 2,
     "metadata": {},
     "output_type": "execute_result"
    }
   ],
   "source": [
    "steps"
   ]
  },
  {
   "cell_type": "code",
   "execution_count": null,
   "metadata": {},
   "outputs": [],
   "source": []
  },
  {
   "cell_type": "code",
   "execution_count": null,
   "metadata": {},
   "outputs": [],
   "source": []
  },
  {
   "cell_type": "markdown",
   "metadata": {},
   "source": [
    "# day 4: High-Entropy Passphrases"
   ]
  },
  {
   "cell_type": "code",
   "execution_count": 1,
   "metadata": {},
   "outputs": [
    {
     "data": {
      "text/plain": [
       "167"
      ]
     },
     "execution_count": 1,
     "metadata": {},
     "output_type": "execute_result"
    }
   ],
   "source": [
    "valid_count = 0\n",
    "with open('input_day_4.txt') as f:\n",
    "    for line in f:\n",
    "        words = line.split()\n",
    "        words = [''.join(sorted(list(w))) for w in words]\n",
    "        if len(words) == len(set(words)):\n",
    "            valid_count += 1\n",
    "valid_count"
   ]
  },
  {
   "cell_type": "code",
   "execution_count": null,
   "metadata": {},
   "outputs": [],
   "source": []
  },
  {
   "cell_type": "code",
   "execution_count": null,
   "metadata": {},
   "outputs": [],
   "source": []
  },
  {
   "cell_type": "markdown",
   "metadata": {},
   "source": [
    "# day 3: Spiral Memory\n",
    "\n",
    "I watched Joel Grus’ livecoding solution of same, and learned two things:\n",
    "1. Using a dictionary for storing the grid cells allows direct lookup and modification, and saves space vs. a fixed size grid (which is made larger than it needs to be in order to accommodate uncertainty in the final required size). The easier lookup is a very compelling reason to use this approach.\n",
    "2. This was an opportunity to use generator functions (a modest number of yields, vs looping over three lists of indices."
   ]
  },
  {
   "cell_type": "code",
   "execution_count": 2,
   "metadata": {},
   "outputs": [],
   "source": [
    "puzzle_input = 277678"
   ]
  },
  {
   "cell_type": "code",
   "execution_count": 3,
   "metadata": {},
   "outputs": [],
   "source": [
    "puzzle_input = 1024"
   ]
  },
  {
   "cell_type": "code",
   "execution_count": 4,
   "metadata": {},
   "outputs": [
    {
     "name": "stdout",
     "output_type": "stream",
     "text": [
      "25 5 2 1 1\n",
      "25 5 2 2 0\n",
      "1089 33 16 1 15\n"
     ]
    }
   ],
   "source": [
    "import math\n",
    "\n",
    "\n",
    "def next_square_of_odd(inp):\n",
    "    trial = inp\n",
    "    while math.sqrt(trial) % 2 != 1:\n",
    "        trial += 1\n",
    "    return int(math.sqrt(trial))\n",
    "\n",
    "def day_3(inp):\n",
    "    ns = next_square_of_odd(inp)\n",
    "    te = (ns - 1)//2\n",
    "    fo = (ns**2-inp) % (ns - 1)\n",
    "    print(ns**2, ns, te, fo, abs(fo-te))\n",
    "    return te + abs(fo-te)\n",
    "\n",
    "#assert day_3(1) == 0\n",
    "assert day_3(12) == 3\n",
    "assert day_3(23) == 2\n",
    "assert day_3(1024) == 31"
   ]
  },
  {
   "cell_type": "code",
   "execution_count": 5,
   "metadata": {},
   "outputs": [
    {
     "name": "stdout",
     "output_type": "stream",
     "text": [
      "25 5 2 3 1\n"
     ]
    },
    {
     "data": {
      "text/plain": [
       "3"
      ]
     },
     "execution_count": 5,
     "metadata": {},
     "output_type": "execute_result"
    }
   ],
   "source": [
    "day_3(22)"
   ]
  },
  {
   "cell_type": "code",
   "execution_count": 6,
   "metadata": {},
   "outputs": [
    {
     "name": "stdout",
     "output_type": "stream",
     "text": [
      "25 5 2 2 0\n"
     ]
    },
    {
     "data": {
      "text/plain": [
       "2"
      ]
     },
     "execution_count": 6,
     "metadata": {},
     "output_type": "execute_result"
    }
   ],
   "source": [
    "day_3(23)"
   ]
  },
  {
   "cell_type": "code",
   "execution_count": 7,
   "metadata": {},
   "outputs": [
    {
     "name": "stdout",
     "output_type": "stream",
     "text": [
      "1089 33 16 1 15\n"
     ]
    },
    {
     "data": {
      "text/plain": [
       "31"
      ]
     },
     "execution_count": 7,
     "metadata": {},
     "output_type": "execute_result"
    }
   ],
   "source": [
    "day_3(1024)"
   ]
  },
  {
   "cell_type": "code",
   "execution_count": 8,
   "metadata": {},
   "outputs": [
    {
     "name": "stdout",
     "output_type": "stream",
     "text": [
      "277729 527 263 51 212\n"
     ]
    },
    {
     "data": {
      "text/plain": [
       "475"
      ]
     },
     "execution_count": 8,
     "metadata": {},
     "output_type": "execute_result"
    }
   ],
   "source": [
    "day_3(277678)"
   ]
  },
  {
   "cell_type": "code",
   "execution_count": 9,
   "metadata": {},
   "outputs": [],
   "source": [
    "def solution(num):\n",
    "    width = 1001\n",
    "    solarr = [[0] * width] * width\n",
    "    cr = (width - 1) // 2\n",
    "    cc = (width - 1) // 2\n",
    "    \n",
    "    def set_cell_in_solarr(r, c, v):\n",
    "        row = solarr[r][:]\n",
    "        row[c] = v\n",
    "        solarr[r] = row\n",
    "    \n",
    "    def sum_around(center_row, center_col):\n",
    "        sa = sum(solarr[center_row - 1][center_col - 1:center_col + 2])\n",
    "        sa += sum(solarr[center_row ][center_col - 1:center_col + 2])\n",
    "        sa += sum(solarr[center_row + 1][center_col - 1:center_col + 2])\n",
    "        return sa\n",
    "\n",
    "    set_cell_in_solarr(cr, cc, 1)\n",
    "    loop_num = 0\n",
    "    found = False\n",
    "    while not found:\n",
    "        loop_num += 1\n",
    "        edge_list = range(2*loop_num)\n",
    "        cr += 1\n",
    "        cc += 1\n",
    "        # loop proceeds up, left, down, right, loop_num + 2 steps each time\n",
    "        for rc_step in ((-1, 0), (0, -1), (1, 0), (0, 1)):\n",
    "            for _ in edge_list:\n",
    "                if not found:\n",
    "                    cr, cc = cr + rc_step[0], cc + rc_step[1]\n",
    "                    csum = sum_around(cr, cc)\n",
    "                    if csum > num:\n",
    "                        found = True\n",
    "                    set_cell_in_solarr(cr, cc, csum)\n",
    "    for r in solarr[496:506]:\n",
    "        print(r[496:506])\n",
    "    return csum"
   ]
  },
  {
   "cell_type": "code",
   "execution_count": 10,
   "metadata": {},
   "outputs": [
    {
     "name": "stdout",
     "output_type": "stream",
     "text": [
      "[0, 0, 0, 0, 0, 0, 279138, 266330, 130654, 0]\n",
      "[0, 6591, 6444, 6155, 5733, 5336, 5022, 2450, 128204, 0]\n",
      "[0, 13486, 147, 142, 133, 122, 59, 2391, 123363, 0]\n",
      "[0, 14267, 304, 5, 4, 2, 57, 2275, 116247, 0]\n",
      "[0, 15252, 330, 10, 1, 1, 54, 2105, 109476, 0]\n",
      "[0, 16295, 351, 11, 23, 25, 26, 1968, 103128, 0]\n",
      "[0, 17008, 362, 747, 806, 880, 931, 957, 98098, 0]\n",
      "[0, 17370, 35487, 37402, 39835, 42452, 45220, 47108, 48065, 0]\n",
      "[0, 0, 0, 0, 0, 0, 0, 0, 0, 0]\n",
      "[0, 0, 0, 0, 0, 0, 0, 0, 0, 0]\n"
     ]
    },
    {
     "data": {
      "text/plain": [
       "279138"
      ]
     },
     "execution_count": 10,
     "metadata": {},
     "output_type": "execute_result"
    }
   ],
   "source": [
    "puzzle_input = 277678\n",
    "solution(puzzle_input)"
   ]
  },
  {
   "cell_type": "code",
   "execution_count": 11,
   "metadata": {},
   "outputs": [
    {
     "name": "stdout",
     "output_type": "stream",
     "text": [
      "[0, 0, 0, 0, 0, 0, 0, 0, 0, 0]\n",
      "[0, 0, 0, 0, 0, 0, 0, 0, 0, 0]\n",
      "[0, 0, 147, 142, 133, 122, 59, 0, 0, 0]\n",
      "[0, 0, 0, 5, 4, 2, 57, 0, 0, 0]\n",
      "[0, 0, 0, 10, 1, 1, 54, 0, 0, 0]\n",
      "[0, 0, 0, 11, 23, 25, 26, 0, 0, 0]\n",
      "[0, 0, 0, 0, 0, 0, 0, 0, 0, 0]\n",
      "[0, 0, 0, 0, 0, 0, 0, 0, 0, 0]\n",
      "[0, 0, 0, 0, 0, 0, 0, 0, 0, 0]\n",
      "[0, 0, 0, 0, 0, 0, 0, 0, 0, 0]\n"
     ]
    },
    {
     "data": {
      "text/plain": [
       "147"
      ]
     },
     "execution_count": 11,
     "metadata": {},
     "output_type": "execute_result"
    }
   ],
   "source": [
    "solution(142)"
   ]
  },
  {
   "cell_type": "code",
   "execution_count": null,
   "metadata": {},
   "outputs": [],
   "source": []
  },
  {
   "cell_type": "code",
   "execution_count": null,
   "metadata": {},
   "outputs": [],
   "source": []
  },
  {
   "cell_type": "markdown",
   "metadata": {},
   "source": [
    "# day 2: Corruption Checksum"
   ]
  },
  {
   "cell_type": "code",
   "execution_count": 1,
   "metadata": {},
   "outputs": [],
   "source": [
    "def ev_div(data):\n",
    "    for a in data:\n",
    "        for b in data:\n",
    "            lrg = max([a, b])\n",
    "            sm = min([a, b])\n",
    "            if lrg != sm and lrg % sm == 0:\n",
    "                return lrg//sm"
   ]
  },
  {
   "cell_type": "code",
   "execution_count": 2,
   "metadata": {},
   "outputs": [
    {
     "data": {
      "text/plain": [
       "(45158, 294)"
      ]
     },
     "execution_count": 2,
     "metadata": {},
     "output_type": "execute_result"
    }
   ],
   "source": [
    "spreadsheet_sum = 0\n",
    "ev_div_sum = 0\n",
    "with open('input_day_2.txt') as f:\n",
    "    for line in f:\n",
    "        line_dat = [int(el) for el in line.strip().split('\\t')]\n",
    "        spreadsheet_sum += max(line_dat) - min(line_dat)\n",
    "        div = ev_div(line_dat)\n",
    "        ev_div_sum += div\n",
    "        \n",
    "spreadsheet_sum, ev_div_sum"
   ]
  },
  {
   "cell_type": "code",
   "execution_count": null,
   "metadata": {},
   "outputs": [],
   "source": []
  },
  {
   "cell_type": "code",
   "execution_count": null,
   "metadata": {},
   "outputs": [],
   "source": []
  },
  {
   "cell_type": "markdown",
   "metadata": {},
   "source": [
    "# day 1: Inverse Captcha"
   ]
  },
  {
   "cell_type": "code",
   "execution_count": 1,
   "metadata": {},
   "outputs": [],
   "source": [
    "puzzle_input = '111831362354551173134957758417849716877188716338227121869992652972154651632296676464285261171625892888598738721925357479249486886375279741651224686642647267979445939836673253446489428761486828844713816198414852769942459766921928735591892723619845983117283575762694758223956262583556675379533479458964152461973321432768858165818549484229241869657725166769662249574889435227698271439423511175653875622976121749344756734658248245212273242115488961818719828258936653236351924292251821352389471971641957941593141159982696396228218461855752555358856127582128823657548151545741663495182446281491763249374581774426225822474112338745629194213976328762985884127324443984163571711941113986826168921187567861288268744663142867866165546795621466134333541274633769865956692539151971953651886381195877638919355216642731848659649263217258599456646635412623461138792945854536154976732167439355548965778313264824237176152196614333748919711422188148687299757751955297978137561935963366682742334867854892581388263132968999722366495346854828316842352829827989419393594846893842746149235681921951476132585199265366836257322121681471877187847219712325933714149151568922456111149524629995933156924418468567649494728828858254296824372929211977446729691143995333874752448315632185286348657293395339475256796591968717487615896959976413637422536563273537972841783386358764761364989261322293887361558128521915542454126546182855197637753115352541578972298715522386683914777967729562229395936593272269661295295223113186683594678533511783187422193626234573849881185849626389774394351115527451886962844431947188429195191724662982411619815811652741733744864411666766133951954595344837179635668177845937578575117168875754181523584442699384167111317875138179567939174589917894597492816476662186746837552978671142265114426813792549412632291424594239391853358914643327549192165466628737614581458189732579814919468795493415762517372227862614224911844744711698557324454211123571327224554259626961741919243229688684838813912553397698937237114287944446722919198743189848428399356842626198635297851274879128322358195585284984366515428245928111112613638341345371'"
   ]
  },
  {
   "cell_type": "code",
   "execution_count": 2,
   "metadata": {},
   "outputs": [],
   "source": [
    "pi_rot = puzzle_input[1:] + puzzle_input[0]"
   ]
  },
  {
   "cell_type": "code",
   "execution_count": 3,
   "metadata": {},
   "outputs": [
    {
     "data": {
      "text/plain": [
       "1044"
      ]
     },
     "execution_count": 3,
     "metadata": {},
     "output_type": "execute_result"
    }
   ],
   "source": [
    "sum([int(a) for a, b in zip(puzzle_input, pi_rot) if a == b])"
   ]
  },
  {
   "cell_type": "code",
   "execution_count": 4,
   "metadata": {},
   "outputs": [],
   "source": [
    "rot = len(puzzle_input)//2"
   ]
  },
  {
   "cell_type": "code",
   "execution_count": 5,
   "metadata": {},
   "outputs": [],
   "source": [
    "pi_rot = puzzle_input[rot:] + puzzle_input[:rot]"
   ]
  },
  {
   "cell_type": "code",
   "execution_count": 6,
   "metadata": {},
   "outputs": [
    {
     "data": {
      "text/plain": [
       "1054"
      ]
     },
     "execution_count": 6,
     "metadata": {},
     "output_type": "execute_result"
    }
   ],
   "source": [
    "sum([int(a) for a, b in zip(puzzle_input, pi_rot) if a == b])"
   ]
  },
  {
   "cell_type": "code",
   "execution_count": null,
   "metadata": {},
   "outputs": [],
   "source": []
  },
  {
   "cell_type": "code",
   "execution_count": null,
   "metadata": {},
   "outputs": [],
   "source": []
  }
 ],
 "metadata": {
  "kernelspec": {
   "display_name": "Python 3",
   "language": "python",
   "name": "python3"
  },
  "language_info": {
   "codemirror_mode": {
    "name": "ipython",
    "version": 3
   },
   "file_extension": ".py",
   "mimetype": "text/x-python",
   "name": "python",
   "nbconvert_exporter": "python",
   "pygments_lexer": "ipython3",
   "version": "3.6.3"
  }
 },
 "nbformat": 4,
 "nbformat_minor": 2
}
