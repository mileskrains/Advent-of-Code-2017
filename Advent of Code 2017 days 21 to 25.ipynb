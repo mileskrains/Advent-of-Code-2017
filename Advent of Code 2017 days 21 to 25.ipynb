{
 "cells": [
  {
   "cell_type": "markdown",
   "metadata": {},
   "source": [
    "# day 25"
   ]
  },
  {
   "cell_type": "code",
   "execution_count": null,
   "metadata": {},
   "outputs": [],
   "source": []
  },
  {
   "cell_type": "code",
   "execution_count": null,
   "metadata": {},
   "outputs": [],
   "source": []
  },
  {
   "cell_type": "markdown",
   "metadata": {},
   "source": [
    "# day 24"
   ]
  },
  {
   "cell_type": "code",
   "execution_count": null,
   "metadata": {},
   "outputs": [],
   "source": []
  },
  {
   "cell_type": "code",
   "execution_count": null,
   "metadata": {},
   "outputs": [],
   "source": []
  },
  {
   "cell_type": "markdown",
   "metadata": {},
   "source": [
    "# day 23"
   ]
  },
  {
   "cell_type": "code",
   "execution_count": null,
   "metadata": {},
   "outputs": [],
   "source": []
  },
  {
   "cell_type": "code",
   "execution_count": null,
   "metadata": {},
   "outputs": [],
   "source": []
  },
  {
   "cell_type": "markdown",
   "metadata": {},
   "source": [
    "# day 22"
   ]
  },
  {
   "cell_type": "code",
   "execution_count": null,
   "metadata": {},
   "outputs": [],
   "source": []
  },
  {
   "cell_type": "code",
   "execution_count": null,
   "metadata": {},
   "outputs": [],
   "source": []
  },
  {
   "cell_type": "markdown",
   "metadata": {},
   "source": [
    "# day 21: Fractal Art"
   ]
  },
  {
   "cell_type": "code",
   "execution_count": null,
   "metadata": {},
   "outputs": [],
   "source": []
  },
  {
   "cell_type": "code",
   "execution_count": null,
   "metadata": {},
   "outputs": [],
   "source": []
  },
  {
   "cell_type": "markdown",
   "metadata": {},
   "source": [
    "# day 20: Particle Swarm"
   ]
  },
  {
   "cell_type": "code",
   "execution_count": null,
   "metadata": {},
   "outputs": [],
   "source": []
  },
  {
   "cell_type": "code",
   "execution_count": null,
   "metadata": {},
   "outputs": [],
   "source": []
  },
  {
   "cell_type": "markdown",
   "metadata": {},
   "source": [
    "# day 18: Duet"
   ]
  },
  {
   "cell_type": "code",
   "execution_count": 11,
   "metadata": {},
   "outputs": [],
   "source": [
    "from collections import defaultdict\n",
    "\n",
    "\n",
    "def do_instruction(instr):\n",
    "    offset = 1\n",
    "    \n",
    "    ins, *args = instr.split()\n",
    "    if len(args) == 1:\n",
    "        [reg] = args\n",
    "    else:\n",
    "        reg, arg = args\n",
    "        if arg.isalpha():\n",
    "            arg = registers[arg]\n",
    "        arg = int(arg)\n",
    "        \n",
    "    if ins == 'snd':\n",
    "        registers['played'] = registers[reg]\n",
    "    elif ins == 'set':\n",
    "        registers[reg] = arg\n",
    "    elif ins == 'add':\n",
    "        registers[reg] += arg\n",
    "    elif ins == 'mul':\n",
    "        registers[reg] = registers[reg] * arg\n",
    "    elif ins == 'mod':\n",
    "        registers[reg] = registers[reg] % arg\n",
    "    elif ins == 'rcv':\n",
    "        freq = registers[reg]\n",
    "        if freq:\n",
    "            registers['recovered'] = freq\n",
    "            print(f\"last played freq = {registers['played']}\")\n",
    "            offset += 2*len(instructions)\n",
    "    elif ins == 'jgz':\n",
    "        if reg.isalpha():\n",
    "            val = registers[reg]\n",
    "        else:\n",
    "            val in int(reg)\n",
    "        if val > 0:\n",
    "            offset = int(arg)\n",
    "            \n",
    "    return offset"
   ]
  },
  {
   "cell_type": "code",
   "execution_count": 12,
   "metadata": {},
   "outputs": [],
   "source": [
    "test_input = '''set a 1\n",
    "add a 2\n",
    "mul a a\n",
    "mod a 5\n",
    "snd a\n",
    "set a 0\n",
    "rcv a\n",
    "jgz a -1\n",
    "set a 1\n",
    "jgz a -2'''\n",
    "instructions = test_input.split('\\n')"
   ]
  },
  {
   "cell_type": "code",
   "execution_count": 13,
   "metadata": {},
   "outputs": [
    {
     "name": "stdout",
     "output_type": "stream",
     "text": [
      "last played freq = 4\n"
     ]
    },
    {
     "data": {
      "text/plain": [
       "defaultdict(int, {'a': 1, 'played': 4, 'recovered': 1})"
      ]
     },
     "execution_count": 13,
     "metadata": {},
     "output_type": "execute_result"
    }
   ],
   "source": [
    "registers = defaultdict(int)\n",
    "cur_ins = 0\n",
    "while 0 <= cur_ins <= len(instructions):\n",
    "    cur_ins += do_instruction(instructions[cur_ins])\n",
    "    \n",
    "registers"
   ]
  },
  {
   "cell_type": "code",
   "execution_count": 14,
   "metadata": {},
   "outputs": [],
   "source": [
    "instructions = []\n",
    "with open('input_day_18.txt') as f:\n",
    "    for line in f:\n",
    "        instructions.append(line.strip())"
   ]
  },
  {
   "cell_type": "code",
   "execution_count": 15,
   "metadata": {},
   "outputs": [
    {
     "name": "stdout",
     "output_type": "stream",
     "text": [
      "last played freq = 3423\n"
     ]
    },
    {
     "data": {
      "text/plain": [
       "defaultdict(int,\n",
       "            {'a': 2147483647,\n",
       "             'b': 3423,\n",
       "             'f': 0,\n",
       "             'i': 126,\n",
       "             'p': 1254123423,\n",
       "             'played': 3423,\n",
       "             'recovered': 2147483647})"
      ]
     },
     "execution_count": 15,
     "metadata": {},
     "output_type": "execute_result"
    }
   ],
   "source": [
    "registers = defaultdict(int)\n",
    "cur_ins = 0\n",
    "while 0 <= cur_ins <= len(instructions):\n",
    "    cur_ins += do_instruction(instructions[cur_ins])\n",
    "    \n",
    "registers"
   ]
  },
  {
   "cell_type": "code",
   "execution_count": null,
   "metadata": {},
   "outputs": [],
   "source": []
  },
  {
   "cell_type": "code",
   "execution_count": null,
   "metadata": {},
   "outputs": [],
   "source": []
  }
 ],
 "metadata": {
  "kernelspec": {
   "display_name": "Python 3",
   "language": "python",
   "name": "python3"
  },
  "language_info": {
   "codemirror_mode": {
    "name": "ipython",
    "version": 3
   },
   "file_extension": ".py",
   "mimetype": "text/x-python",
   "name": "python",
   "nbconvert_exporter": "python",
   "pygments_lexer": "ipython3",
   "version": "3.6.3"
  }
 },
 "nbformat": 4,
 "nbformat_minor": 2
}
