{
 "cells": [
  {
   "cell_type": "markdown",
   "metadata": {},
   "source": [
    "# day 20: Particle Swarm\n",
    "\n",
    "Answer to part one is simply: of particles with smallest accels, choose particles with smallest velocities, and then with closest positions (as needed in case of ties)."
   ]
  },
  {
   "cell_type": "code",
   "execution_count": 1,
   "metadata": {},
   "outputs": [],
   "source": [
    "test_input = '''\n",
    "p=< 3,0,0>, v=< 2,0,0>, a=<-1,0,0>\n",
    "p=< 4,0,0>, v=< 0,0,0>, a=<-2,0,0>\n",
    "'''\n",
    "\n",
    "# particle 0 has smaller abs accel than 1, so it stays closest over time"
   ]
  },
  {
   "cell_type": "code",
   "execution_count": 2,
   "metadata": {},
   "outputs": [],
   "source": [
    "particle_specs = []\n",
    "with open('input_day_20.txt') as f:\n",
    "    for line in f:\n",
    "        particle_specs.append(line.strip('\\n'))"
   ]
  },
  {
   "cell_type": "code",
   "execution_count": 3,
   "metadata": {},
   "outputs": [
    {
     "data": {
      "text/plain": [
       "[(279, 'p=<-1103,92,1785>, v=<49,-4,-97>, a=<1,0,0>'),\n",
       " (308, 'p=<2978,2082,4280>, v=<-135,-88,-178>, a=<1,0,0>'),\n",
       " (435, 'p=<2030,-4343,-355>, v=<-69,145,25>, a=<0,0,-1>')]"
      ]
     },
     "execution_count": 3,
     "metadata": {},
     "output_type": "execute_result"
    }
   ],
   "source": [
    "def get_abs_accel(particle_spec):\n",
    "    aa = sum([abs(int(ac)) for ac in (particle_spec.split()[2][3:-1]).split(',')])\n",
    "    return aa\n",
    "    \n",
    "accel_part = sorted([(get_abs_accel(p), pi) for pi, p in enumerate(particle_specs)])\n",
    "min_accel_part_inds = [ap[1] for ap in accel_part if ap[0] == accel_part[0][0]]\n",
    "ma_particles = [(ind, particle_specs[ind]) for ind in min_accel_part_inds]\n",
    "ma_particles"
   ]
  },
  {
   "cell_type": "markdown",
   "metadata": {},
   "source": [
    "By inspection, particle 308 has larger initial velocity than 279 or 435, so of the three particles with minimum acceleration, it will stay closest.\n",
    "\n",
    "\n",
    "Part two is not so trivial, here we need to do the actual simulation, and we can stop when the distance ordering by (accel, vel, dist) is equal to the ordering by (dist)."
   ]
  },
  {
   "cell_type": "code",
   "execution_count": 4,
   "metadata": {},
   "outputs": [
    {
     "name": "stdout",
     "output_type": "stream",
     "text": [
      "[10, 11, 13, 14, 15, 16, 17, 18, 19, 20, 21, 23, 24, 25, 26, 27, 28, 29, 30, 31, 32, 33, 34, 35, 36, 37, 38, 39]\n",
      "504\n"
     ]
    }
   ],
   "source": [
    "def spec_to_particle(particle_spec):\n",
    "    coll = False\n",
    "    p, v, a = particle_spec.split(', ')\n",
    "    p = [int(n) for n in p[3:-1].split(',')]\n",
    "    v = [int(n) for n in v[3:-1].split(',')]\n",
    "    a = [int(n) for n in a[3:-1].split(',')]\n",
    "    return coll, p, v, a\n",
    "\n",
    "\n",
    "def effect_collision(particle, col_locs):\n",
    "    coll, p, v, a = particle\n",
    "    if not coll:\n",
    "        if p in col_locs:\n",
    "            coll = True\n",
    "            v = [0, 0, 0]\n",
    "            a = [0, 0, 0]\n",
    "    return coll, p, v, a\n",
    "\n",
    "\n",
    "def check_for_collisions(particle_list):\n",
    "    collision_locations = []\n",
    "    seen_locations = []\n",
    "    for particle in particle_list:\n",
    "        coll, p, v, a = particle\n",
    "        if not coll:\n",
    "            if p in seen_locations:\n",
    "                collision_locations.append(p)\n",
    "            else:\n",
    "                seen_locations.append(p)\n",
    "    return collision_locations\n",
    "\n",
    "\n",
    "def timestep_particle(particle):\n",
    "    coll, p, v, a = particle\n",
    "    if not coll:\n",
    "        v[0] += a[0]\n",
    "        p[0] += v[0]\n",
    "        v[1] += a[1]\n",
    "        p[1] += v[1]\n",
    "        v[2] += a[2]\n",
    "        p[2] += v[2]\n",
    "    return coll, p, v, a\n",
    "\n",
    "\n",
    "particle_list = [spec_to_particle(ps) for ps in particle_specs]\n",
    "\n",
    "# try this before implementing the stricter ordering convergence test\n",
    "cts = []\n",
    "for ts in range(100):\n",
    "    col_locs = check_for_collisions(particle_list)\n",
    "    if col_locs:\n",
    "        cts.append(ts)\n",
    "        particle_list = [effect_collision(p, col_locs) for p in particle_list]\n",
    "    particle_list = [timestep_particle(p) for p in particle_list] \n",
    "\n",
    "print(cts)\n",
    "print(sum([not p[0] for p in particle_list]))"
   ]
  },
  {
   "cell_type": "code",
   "execution_count": null,
   "metadata": {},
   "outputs": [],
   "source": []
  },
  {
   "cell_type": "code",
   "execution_count": null,
   "metadata": {},
   "outputs": [],
   "source": []
  },
  {
   "cell_type": "markdown",
   "metadata": {},
   "source": [
    "# day 19: A Series of Tubes"
   ]
  },
  {
   "cell_type": "code",
   "execution_count": 1,
   "metadata": {},
   "outputs": [],
   "source": [
    "from collections import defaultdict\n",
    "\n",
    "\n",
    "def map_from_rows(rows):\n",
    "    map_dict = defaultdict(str)\n",
    "    for r, row in enumerate(rows):\n",
    "        for c, col in enumerate(row):\n",
    "            map_dict[r, c] = col\n",
    "    return map_dict\n",
    "\n",
    "\n",
    "def find_start_col(row_0):\n",
    "    for c, cc in enumerate(row_0):\n",
    "        if cc == '|':\n",
    "            return c\n",
    "        \n",
    "\n",
    "def traverse_from_rows(rows):\n",
    "    up, down, left, right = ((-1, 0), (1, 0), (0, -1), (0, 1))\n",
    "    letters_seen = []\n",
    "\n",
    "    map_dict = map_from_rows(rows)\n",
    "    r = 0\n",
    "    c = find_start_col(rows[0])\n",
    "    ch = map_dict[r, c]\n",
    "    direction = down\n",
    "    ended = False\n",
    "    steps = 0\n",
    "\n",
    "    while not ended and ch not in (' ', ''):\n",
    "        steps += 1\n",
    "        if ch.isalpha():\n",
    "            letters_seen.append(ch)\n",
    "        elif ch == '+':\n",
    "            if direction in (down, up):\n",
    "                left_ch = map_dict[r, c-1]\n",
    "                right_ch = map_dict[r, c+1]\n",
    "                if left_ch == '-' or (left_ch.isalpha() and right_ch != '-'):\n",
    "                    direction = left\n",
    "                elif right_ch == '-' or right_ch.isalpha():\n",
    "                    direction = right\n",
    "                else:\n",
    "                    ended = True\n",
    "            else:  # direction in (left, right):\n",
    "                up_ch = map_dict[r-1, c]\n",
    "                down_ch = map_dict[r+1, c]\n",
    "                if up_ch == '|' or (up_ch.isalpha() and down_ch != '|'):\n",
    "                    direction = up\n",
    "                elif down_ch == '|' or down_ch.isalpha():\n",
    "                    direction = down\n",
    "                else:\n",
    "                    ended = True\n",
    "        r, c = r + direction[0], c + direction[1]\n",
    "        ch = map_dict[r, c]\n",
    "\n",
    "    return ''.join(letters_seen), steps"
   ]
  },
  {
   "cell_type": "code",
   "execution_count": 2,
   "metadata": {},
   "outputs": [
    {
     "data": {
      "text/plain": [
       "('ABCDEF', 38)"
      ]
     },
     "execution_count": 2,
     "metadata": {},
     "output_type": "execute_result"
    }
   ],
   "source": [
    "test_input = \"\"\"\n",
    "     |          \n",
    "     |  +--+    \n",
    "     A  |  C    \n",
    " F---|----E|--+ \n",
    "     |  |  |  D \n",
    "     +B-+  +--+ \n",
    "\"\"\"\n",
    "\n",
    "rows = test_input.split('\\n')[1:-1]\n",
    "\n",
    "traverse_from_rows(rows)"
   ]
  },
  {
   "cell_type": "code",
   "execution_count": 3,
   "metadata": {},
   "outputs": [
    {
     "data": {
      "text/plain": [
       "('SXWAIBUZY', 16676)"
      ]
     },
     "execution_count": 3,
     "metadata": {},
     "output_type": "execute_result"
    }
   ],
   "source": [
    "rows = []\n",
    "with open('input_day_19.txt') as f:\n",
    "    for line in f:\n",
    "        rows.append(line.strip('\\n'))\n",
    "\n",
    "traverse_from_rows(rows)"
   ]
  },
  {
   "cell_type": "code",
   "execution_count": null,
   "metadata": {},
   "outputs": [],
   "source": []
  },
  {
   "cell_type": "code",
   "execution_count": null,
   "metadata": {},
   "outputs": [],
   "source": []
  },
  {
   "cell_type": "markdown",
   "metadata": {},
   "source": [
    "# day 18: Duet"
   ]
  },
  {
   "cell_type": "code",
   "execution_count": 1,
   "metadata": {},
   "outputs": [],
   "source": [
    "from collections import defaultdict\n",
    "\n",
    "\n",
    "def do_instruction(instr):\n",
    "    offset = 1\n",
    "    \n",
    "    ins, *args = instr.split()\n",
    "    if len(args) == 1:\n",
    "        [reg] = args\n",
    "    else:\n",
    "        reg, arg = args\n",
    "        if arg.isalpha():\n",
    "            arg = registers[arg]\n",
    "        arg = int(arg)\n",
    "        \n",
    "    if ins == 'snd':\n",
    "        registers['played'] = registers[reg]\n",
    "    elif ins == 'set':\n",
    "        registers[reg] = arg\n",
    "    elif ins == 'add':\n",
    "        registers[reg] += arg\n",
    "    elif ins == 'mul':\n",
    "        registers[reg] = registers[reg] * arg\n",
    "    elif ins == 'mod':\n",
    "        registers[reg] = registers[reg] % arg\n",
    "    elif ins == 'rcv':\n",
    "        freq = registers[reg]\n",
    "        if freq:\n",
    "            registers['recovered'] = freq\n",
    "            print(f\"last played freq = {registers['played']}\")\n",
    "            offset += 2*len(instructions)\n",
    "    elif ins == 'jgz':\n",
    "        if reg.isalpha():\n",
    "            val = registers[reg]\n",
    "        else:\n",
    "            val = int(reg)\n",
    "        if val > 0:\n",
    "            offset = int(arg)\n",
    "            \n",
    "    return offset"
   ]
  },
  {
   "cell_type": "code",
   "execution_count": 2,
   "metadata": {},
   "outputs": [],
   "source": [
    "test_input = '''set a 1\n",
    "add a 2\n",
    "mul a a\n",
    "mod a 5\n",
    "snd a\n",
    "set a 0\n",
    "rcv a\n",
    "jgz a -1\n",
    "set a 1\n",
    "jgz a -2'''\n",
    "instructions = test_input.split('\\n')"
   ]
  },
  {
   "cell_type": "code",
   "execution_count": 3,
   "metadata": {},
   "outputs": [
    {
     "name": "stdout",
     "output_type": "stream",
     "text": [
      "last played freq = 4\n"
     ]
    },
    {
     "data": {
      "text/plain": [
       "defaultdict(int, {'a': 1, 'played': 4, 'recovered': 1})"
      ]
     },
     "execution_count": 3,
     "metadata": {},
     "output_type": "execute_result"
    }
   ],
   "source": [
    "registers = defaultdict(int)\n",
    "cur_ins = 0\n",
    "while 0 <= cur_ins <= len(instructions):\n",
    "    cur_ins += do_instruction(instructions[cur_ins])\n",
    "    \n",
    "registers"
   ]
  },
  {
   "cell_type": "code",
   "execution_count": 4,
   "metadata": {},
   "outputs": [],
   "source": [
    "instructions = []\n",
    "with open('input_day_18.txt') as f:\n",
    "    for line in f:\n",
    "        instructions.append(line.strip())"
   ]
  },
  {
   "cell_type": "code",
   "execution_count": 5,
   "metadata": {},
   "outputs": [
    {
     "name": "stdout",
     "output_type": "stream",
     "text": [
      "last played freq = 3423\n"
     ]
    },
    {
     "data": {
      "text/plain": [
       "defaultdict(int,\n",
       "            {'a': 2147483647,\n",
       "             'b': 3423,\n",
       "             'f': 0,\n",
       "             'i': 126,\n",
       "             'p': 1254123423,\n",
       "             'played': 3423,\n",
       "             'recovered': 2147483647})"
      ]
     },
     "execution_count": 5,
     "metadata": {},
     "output_type": "execute_result"
    }
   ],
   "source": [
    "registers = defaultdict(int)\n",
    "cur_ins = 0\n",
    "while 0 <= cur_ins <= len(instructions):\n",
    "    cur_ins += do_instruction(instructions[cur_ins])\n",
    "    \n",
    "registers"
   ]
  },
  {
   "cell_type": "markdown",
   "metadata": {},
   "source": [
    "## part two\n",
    "\n",
    "The Executor class isn't terminating on simultaneous 'rcv' like it should, but the right answer is obtained on interrupt ...\n",
    "\n"
   ]
  },
  {
   "cell_type": "code",
   "execution_count": 6,
   "metadata": {},
   "outputs": [],
   "source": [
    "class Executor:\n",
    "    def __init__(self):\n",
    "        self.registers = defaultdict(int)\n",
    "        self.messages = []\n",
    "        self.instructions = None\n",
    "        self.send_ct = 0\n",
    "        self.cur_ins = 0\n",
    "        self.corresponder = None\n",
    "        self.waiting = False\n",
    "        self.terminated = False\n",
    "        \n",
    "    def nudge(self):\n",
    "        if self.messages:\n",
    "            self.waiting = False\n",
    "        while not self.terminated and not self.waiting:\n",
    "            try: \n",
    "                self.do_instruction(self.instructions[self.cur_ins])\n",
    "            except IndexError:\n",
    "                self.terminated = True\n",
    "    \n",
    "    def do_instruction(self, instr):\n",
    "        offset = 1\n",
    "        ins, *args = instr.split()\n",
    "        if len(args) == 1:\n",
    "            [reg] = args\n",
    "        else:\n",
    "            reg, arg = args\n",
    "            if arg.isalpha():\n",
    "                arg = self.registers[arg]\n",
    "            arg = int(arg)\n",
    "        if ins == 'snd':\n",
    "            if reg.isalpha():\n",
    "                reg = self.registers[reg]\n",
    "            self.corresponder.messages.append(int(reg))\n",
    "            self.send_ct += 1\n",
    "        elif ins == 'set':\n",
    "            self.registers[reg] = arg\n",
    "        elif ins == 'add':\n",
    "            self.registers[reg] += arg\n",
    "        elif ins == 'mul':\n",
    "            self.registers[reg] = self.registers[reg] * arg\n",
    "        elif ins == 'mod':\n",
    "            self.registers[reg] = self.registers[reg] % arg\n",
    "        elif ins == 'rcv':\n",
    "            if self.messages:\n",
    "                val = self.messages.pop(0)\n",
    "                self.registers[reg] = val\n",
    "            else:\n",
    "                offset = 0\n",
    "                self.waiting = True\n",
    "        elif ins == 'jgz':\n",
    "            if reg.isalpha():\n",
    "                val = self.registers[reg]\n",
    "            else:\n",
    "                val = int(reg)\n",
    "            if val > 0:\n",
    "                offset = int(arg)\n",
    "        self.cur_ins += offset"
   ]
  },
  {
   "cell_type": "code",
   "execution_count": 7,
   "metadata": {},
   "outputs": [
    {
     "ename": "KeyboardInterrupt",
     "evalue": "",
     "output_type": "error",
     "traceback": [
      "\u001b[0;31m---------------------------------------------------------------------------\u001b[0m",
      "\u001b[0;31mKeyboardInterrupt\u001b[0m                         Traceback (most recent call last)",
      "\u001b[0;32m<ipython-input-7-1f8418af669c>\u001b[0m in \u001b[0;36m<module>\u001b[0;34m()\u001b[0m\n\u001b[1;32m     12\u001b[0m \u001b[0;34m\u001b[0m\u001b[0m\n\u001b[1;32m     13\u001b[0m \u001b[0;32mwhile\u001b[0m \u001b[0;32mnot\u001b[0m \u001b[0;34m(\u001b[0m\u001b[0mexec_one\u001b[0m\u001b[0;34m.\u001b[0m\u001b[0mterminated\u001b[0m \u001b[0;32mand\u001b[0m \u001b[0mexec_two\u001b[0m\u001b[0;34m.\u001b[0m\u001b[0mterminated\u001b[0m\u001b[0;34m)\u001b[0m\u001b[0;34m:\u001b[0m\u001b[0;34m\u001b[0m\u001b[0m\n\u001b[0;32m---> 14\u001b[0;31m     \u001b[0mexec_one\u001b[0m\u001b[0;34m.\u001b[0m\u001b[0mnudge\u001b[0m\u001b[0;34m(\u001b[0m\u001b[0;34m)\u001b[0m\u001b[0;34m\u001b[0m\u001b[0m\n\u001b[0m\u001b[1;32m     15\u001b[0m     \u001b[0mexec_two\u001b[0m\u001b[0;34m.\u001b[0m\u001b[0mnudge\u001b[0m\u001b[0;34m(\u001b[0m\u001b[0;34m)\u001b[0m\u001b[0;34m\u001b[0m\u001b[0m\n",
      "\u001b[0;32m<ipython-input-6-c1ed58c41295>\u001b[0m in \u001b[0;36mnudge\u001b[0;34m(self)\u001b[0m\n\u001b[1;32m     13\u001b[0m         \u001b[0;32mif\u001b[0m \u001b[0mself\u001b[0m\u001b[0;34m.\u001b[0m\u001b[0mmessages\u001b[0m\u001b[0;34m:\u001b[0m\u001b[0;34m\u001b[0m\u001b[0m\n\u001b[1;32m     14\u001b[0m             \u001b[0mself\u001b[0m\u001b[0;34m.\u001b[0m\u001b[0mwaiting\u001b[0m \u001b[0;34m=\u001b[0m \u001b[0;32mFalse\u001b[0m\u001b[0;34m\u001b[0m\u001b[0m\n\u001b[0;32m---> 15\u001b[0;31m         \u001b[0;32mwhile\u001b[0m \u001b[0;32mnot\u001b[0m \u001b[0mself\u001b[0m\u001b[0;34m.\u001b[0m\u001b[0mterminated\u001b[0m \u001b[0;32mand\u001b[0m \u001b[0;32mnot\u001b[0m \u001b[0mself\u001b[0m\u001b[0;34m.\u001b[0m\u001b[0mwaiting\u001b[0m\u001b[0;34m:\u001b[0m\u001b[0;34m\u001b[0m\u001b[0m\n\u001b[0m\u001b[1;32m     16\u001b[0m             \u001b[0;32mtry\u001b[0m\u001b[0;34m:\u001b[0m\u001b[0;34m\u001b[0m\u001b[0m\n\u001b[1;32m     17\u001b[0m                 \u001b[0mself\u001b[0m\u001b[0;34m.\u001b[0m\u001b[0mdo_instruction\u001b[0m\u001b[0;34m(\u001b[0m\u001b[0mself\u001b[0m\u001b[0;34m.\u001b[0m\u001b[0minstructions\u001b[0m\u001b[0;34m[\u001b[0m\u001b[0mself\u001b[0m\u001b[0;34m.\u001b[0m\u001b[0mcur_ins\u001b[0m\u001b[0;34m]\u001b[0m\u001b[0;34m)\u001b[0m\u001b[0;34m\u001b[0m\u001b[0m\n",
      "\u001b[0;31mKeyboardInterrupt\u001b[0m: "
     ]
    }
   ],
   "source": [
    "exec_one = Executor()\n",
    "exec_two = Executor()\n",
    "\n",
    "exec_one.corresponder = exec_two\n",
    "exec_two.corresponder = exec_one\n",
    "\n",
    "exec_one.registers['p'] = 0\n",
    "exec_one.registers['p'] = 1\n",
    "\n",
    "exec_one.instructions = instructions\n",
    "exec_two.instructions = instructions\n",
    "\n",
    "while not (exec_one.terminated and exec_two.terminated):\n",
    "    exec_one.nudge()\n",
    "    exec_two.nudge()"
   ]
  },
  {
   "cell_type": "code",
   "execution_count": 8,
   "metadata": {},
   "outputs": [
    {
     "data": {
      "text/plain": [
       "7493"
      ]
     },
     "execution_count": 8,
     "metadata": {},
     "output_type": "execute_result"
    }
   ],
   "source": [
    "exec_one.send_ct"
   ]
  },
  {
   "cell_type": "code",
   "execution_count": null,
   "metadata": {},
   "outputs": [],
   "source": []
  },
  {
   "cell_type": "code",
   "execution_count": null,
   "metadata": {},
   "outputs": [],
   "source": []
  },
  {
   "cell_type": "markdown",
   "metadata": {},
   "source": [
    "# day 17: Spinlock"
   ]
  },
  {
   "cell_type": "code",
   "execution_count": 1,
   "metadata": {},
   "outputs": [
    {
     "name": "stdout",
     "output_type": "stream",
     "text": [
      "[0, 1]\n",
      "[0, 2, 1]\n",
      "[0, 2, 3, 1]\n",
      "[0, 2, 4, 3, 1]\n",
      "[0, 5, 2, 4, 3, 1]\n",
      "[0, 5, 2, 4, 3, 6, 1]\n",
      "[0, 5, 7, 2, 4, 3, 6, 1]\n",
      "[0, 5, 7, 2, 4, 3, 8, 6, 1]\n",
      "[0, 9, 5, 7, 2, 4, 3, 8, 6, 1]\n"
     ]
    }
   ],
   "source": [
    "fwd_steps = 3\n",
    "\n",
    "buffer = [0]\n",
    "cur_pos = 0\n",
    "for ins in range(1, 10):\n",
    "    cur_pos = (cur_pos + fwd_steps) % len(buffer)\n",
    "    cur_pos += 1\n",
    "    if cur_pos > len(buffer)-1:\n",
    "        buffer.append(ins)\n",
    "    else:\n",
    "        buffer = buffer[:cur_pos] + [ins] + buffer[cur_pos:]\n",
    "    print(buffer)"
   ]
  },
  {
   "cell_type": "code",
   "execution_count": 2,
   "metadata": {},
   "outputs": [
    {
     "name": "stdout",
     "output_type": "stream",
     "text": [
      "CPU times: user 23 ms, sys: 1.08 ms, total: 24.1 ms\n",
      "Wall time: 23.2 ms\n"
     ]
    }
   ],
   "source": [
    "%%time\n",
    "fwd_steps = 344\n",
    "\n",
    "buffer = [0]\n",
    "cur_pos = 0\n",
    "for ins in range(1, 2018):\n",
    "    cur_pos = (cur_pos + fwd_steps) % len(buffer)\n",
    "    cur_pos += 1\n",
    "    if cur_pos > len(buffer)-1:\n",
    "        buffer.append(ins)\n",
    "    else:\n",
    "        buffer = buffer[:cur_pos] + [ins] + buffer[cur_pos:]"
   ]
  },
  {
   "cell_type": "code",
   "execution_count": 3,
   "metadata": {},
   "outputs": [
    {
     "data": {
      "text/plain": [
       "[337, 1071, 2017, 996, 1155]"
      ]
     },
     "execution_count": 3,
     "metadata": {},
     "output_type": "execute_result"
    }
   ],
   "source": [
    "buffer[cur_pos-2:cur_pos+3]"
   ]
  },
  {
   "cell_type": "markdown",
   "metadata": {},
   "source": [
    "Another *trick* question, where we don't have the time/efficiency (or more importantly, need) to simply extend the part one solution to the larger number of itertions ...\n",
    "\n",
    "As we only need the value after 0, and as it appears nothing is ever inserted in position 0, we simply need keep track of the value in position 1."
   ]
  },
  {
   "cell_type": "code",
   "execution_count": 4,
   "metadata": {},
   "outputs": [
    {
     "name": "stdout",
     "output_type": "stream",
     "text": [
      "1898341\n",
      "CPU times: user 21.6 s, sys: 128 ms, total: 21.8 s\n",
      "Wall time: 22.3 s\n"
     ]
    }
   ],
   "source": [
    "%%time\n",
    "fwd_steps = 344\n",
    "\n",
    "pos_zero = 0\n",
    "buffer_len = 1\n",
    "pos_one = 0\n",
    "cur_pos = 0\n",
    "for ins in range(1, 50_000_000+1):\n",
    "    cur_pos = (cur_pos + fwd_steps) % buffer_len\n",
    "    cur_pos += 1\n",
    "    if cur_pos == 0:\n",
    "        raise IndexError\n",
    "    elif cur_pos == 1:\n",
    "        pos_one = ins\n",
    "    buffer_len += 1\n",
    "print(pos_one)"
   ]
  },
  {
   "cell_type": "code",
   "execution_count": null,
   "metadata": {},
   "outputs": [],
   "source": []
  },
  {
   "cell_type": "code",
   "execution_count": null,
   "metadata": {},
   "outputs": [],
   "source": []
  },
  {
   "cell_type": "markdown",
   "metadata": {},
   "source": [
    "# day 16: Permutation Promenade"
   ]
  },
  {
   "cell_type": "code",
   "execution_count": 1,
   "metadata": {},
   "outputs": [],
   "source": [
    "def do_op(op):\n",
    "    global prog_list\n",
    "    op_kind = op[0]\n",
    "    op_targ = op[1:]\n",
    "    if op_kind == 's':\n",
    "        spin_len = int(op_targ)\n",
    "        prog_list = prog_list[-spin_len:] + prog_list[:-spin_len]\n",
    "    elif op_kind == 'x':\n",
    "        sp1, sp2 = [int(n) for n in op_targ.split('/')]\n",
    "        tmp = prog_list[sp1]\n",
    "        prog_list[sp1] = prog_list[sp2]\n",
    "        prog_list[sp2] = tmp\n",
    "    elif op_kind == 'p':\n",
    "        pp1, pp2 = op_targ.split('/')\n",
    "        sp1 = prog_list.index(pp1)\n",
    "        sp2 = prog_list.index(pp2)\n",
    "        tmp = prog_list[sp1]\n",
    "        prog_list[sp1] = prog_list[sp2]\n",
    "        prog_list[sp2] = tmp"
   ]
  },
  {
   "cell_type": "code",
   "execution_count": 2,
   "metadata": {},
   "outputs": [
    {
     "name": "stdout",
     "output_type": "stream",
     "text": [
      "['a', 'b', 'c', 'd', 'e']\n",
      "['e', 'a', 'b', 'c', 'd']\n",
      "['e', 'a', 'b', 'd', 'c']\n",
      "['b', 'a', 'e', 'd', 'c']\n"
     ]
    }
   ],
   "source": [
    "prog_list = list('abcde')\n",
    "print(prog_list)\n",
    "do_op('s1')\n",
    "print(prog_list)\n",
    "do_op('x3/4')\n",
    "print(prog_list)\n",
    "do_op('pe/b')\n",
    "print(prog_list)"
   ]
  },
  {
   "cell_type": "code",
   "execution_count": 3,
   "metadata": {},
   "outputs": [
    {
     "data": {
      "text/plain": [
       "10000"
      ]
     },
     "execution_count": 3,
     "metadata": {},
     "output_type": "execute_result"
    }
   ],
   "source": [
    "with open('input_day_16.txt') as f:\n",
    "    dance_steps = f.read().strip().split(',')\n",
    "len(dance_steps)"
   ]
  },
  {
   "cell_type": "code",
   "execution_count": 4,
   "metadata": {},
   "outputs": [
    {
     "data": {
      "text/plain": [
       "16"
      ]
     },
     "execution_count": 4,
     "metadata": {},
     "output_type": "execute_result"
    }
   ],
   "source": [
    "alpha_16 = 'abcdefghijklmnop'\n",
    "len(alpha_16)"
   ]
  },
  {
   "cell_type": "code",
   "execution_count": 5,
   "metadata": {},
   "outputs": [
    {
     "name": "stdout",
     "output_type": "stream",
     "text": [
      "Answer to Part One is: kpbodeajhlicngmf\n",
      "CPU times: user 14.3 ms, sys: 295 µs, total: 14.6 ms\n",
      "Wall time: 14.4 ms\n"
     ]
    }
   ],
   "source": [
    "%%time\n",
    "prog_list = list(alpha_16)\n",
    "for step in dance_steps:\n",
    "    do_op(step)\n",
    "post_dance = ''.join(prog_list)\n",
    "print(f'Answer to Part One is: {post_dance}')"
   ]
  },
  {
   "cell_type": "markdown",
   "metadata": {},
   "source": [
    "## 16p2\n",
    "\n",
    "We can't naively execute the 10k step dance 1 billion times, it would take far, far too long.\n",
    "\n",
    "Also, we can't simply repeat the 10k position remapping, because there are value-based as well as position-based changes.\n",
    "\n",
    "Q: Maybe there are cycles?\n",
    "- first, rewrite for a bit of a speedup by:\n",
    "    - pre-processing the dance move list\n",
    "    - consolidating the code into a single list, to avoid the (negligible?) function-call overhead\n",
    "    \n",
    "A: The cycle exists, and it is surprisingly short"
   ]
  },
  {
   "cell_type": "code",
   "execution_count": 6,
   "metadata": {},
   "outputs": [
    {
     "data": {
      "text/plain": [
       "495"
      ]
     },
     "execution_count": 6,
     "metadata": {},
     "output_type": "execute_result"
    }
   ],
   "source": [
    "len(set(dance_steps))"
   ]
  },
  {
   "cell_type": "code",
   "execution_count": 7,
   "metadata": {},
   "outputs": [],
   "source": [
    "step_func_dict = {}\n",
    "for step in set(dance_steps):\n",
    "    move = step[0]\n",
    "    args = step[1:].split('/')\n",
    "    if move != 'p':\n",
    "        args = [int(n) for n in args]\n",
    "    step_func_dict[step] = (move, tuple(args))\n",
    "\n",
    "x_dance_steps = [step_func_dict[step] for step in dance_steps]"
   ]
  },
  {
   "cell_type": "code",
   "execution_count": 8,
   "metadata": {},
   "outputs": [],
   "source": [
    "prog_list = list(alpha_16)\n",
    "prog_list_orig = list(alpha_16)\n",
    "dance_ct = 0\n",
    "found_cycle = False\n",
    "while not found_cycle:\n",
    "    for op, args in x_dance_steps:\n",
    "        if op == 's':\n",
    "            spin_len = args[0]\n",
    "            prog_list = prog_list[-spin_len:] + prog_list[:-spin_len]\n",
    "        elif op == 'x':\n",
    "            sp1, sp2 = args\n",
    "            prog_list[sp1], prog_list[sp2] = prog_list[sp2], prog_list[sp1]\n",
    "        elif op == 'p':\n",
    "            pp1, pp2 = args\n",
    "            sp1 = prog_list.index(pp1)\n",
    "            sp2 = prog_list.index(pp2)\n",
    "            prog_list[sp1], prog_list[sp2] = prog_list[sp2], prog_list[sp1]\n",
    "    dance_ct += 1\n",
    "    if prog_list == prog_list_orig:\n",
    "        found_cycle = True"
   ]
  },
  {
   "cell_type": "code",
   "execution_count": 9,
   "metadata": {},
   "outputs": [
    {
     "data": {
      "text/plain": [
       "44"
      ]
     },
     "execution_count": 9,
     "metadata": {},
     "output_type": "execute_result"
    }
   ],
   "source": [
    "dance_ct"
   ]
  },
  {
   "cell_type": "code",
   "execution_count": 10,
   "metadata": {},
   "outputs": [
    {
     "data": {
      "text/plain": [
       "32"
      ]
     },
     "execution_count": 10,
     "metadata": {},
     "output_type": "execute_result"
    }
   ],
   "source": [
    "1_000_000_000 % 44"
   ]
  },
  {
   "cell_type": "code",
   "execution_count": 11,
   "metadata": {},
   "outputs": [],
   "source": [
    "prog_list = list(alpha_16)\n",
    "for _ in range(32):\n",
    "    for op, args in x_dance_steps:\n",
    "        if op == 's':\n",
    "            spin_len = args[0]\n",
    "            prog_list = prog_list[-spin_len:] + prog_list[:-spin_len]\n",
    "        elif op == 'x':\n",
    "            sp1, sp2 = args\n",
    "            prog_list[sp1], prog_list[sp2] = prog_list[sp2], prog_list[sp1]\n",
    "        elif op == 'p':\n",
    "            pp1, pp2 = args\n",
    "            sp1 = prog_list.index(pp1)\n",
    "            sp2 = prog_list.index(pp2)\n",
    "            prog_list[sp1], prog_list[sp2] = prog_list[sp2], prog_list[sp1]"
   ]
  },
  {
   "cell_type": "code",
   "execution_count": 12,
   "metadata": {},
   "outputs": [
    {
     "data": {
      "text/plain": [
       "'ahgpjdkcbfmneloi'"
      ]
     },
     "execution_count": 12,
     "metadata": {},
     "output_type": "execute_result"
    }
   ],
   "source": [
    "''.join(prog_list)"
   ]
  },
  {
   "cell_type": "code",
   "execution_count": null,
   "metadata": {},
   "outputs": [],
   "source": []
  },
  {
   "cell_type": "code",
   "execution_count": null,
   "metadata": {},
   "outputs": [],
   "source": []
  }
 ],
 "metadata": {
  "kernelspec": {
   "display_name": "Python 3",
   "language": "python",
   "name": "python3"
  },
  "language_info": {
   "codemirror_mode": {
    "name": "ipython",
    "version": 3
   },
   "file_extension": ".py",
   "mimetype": "text/x-python",
   "name": "python",
   "nbconvert_exporter": "python",
   "pygments_lexer": "ipython3",
   "version": "3.6.3"
  }
 },
 "nbformat": 4,
 "nbformat_minor": 2
}
