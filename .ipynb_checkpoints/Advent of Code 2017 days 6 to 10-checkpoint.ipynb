{
 "cells": [
  {
   "cell_type": "markdown",
   "metadata": {},
   "source": [
    "# day 10: Knot Hash"
   ]
  },
  {
   "cell_type": "code",
   "execution_count": 12,
   "metadata": {},
   "outputs": [],
   "source": [
    "with open('input_day_10.txt') as f:\n",
    "    puzinp = f.read().strip()"
   ]
  },
  {
   "cell_type": "code",
   "execution_count": 2,
   "metadata": {},
   "outputs": [
    {
     "data": {
      "text/plain": [
       "8536"
      ]
     },
     "execution_count": 2,
     "metadata": {},
     "output_type": "execute_result"
    }
   ],
   "source": [
    "numbers_max = 255\n",
    "#numbers_max = 4\n",
    "numbers = list(range(numbers_max + 1))\n",
    "current_position = 0\n",
    "skip_size = 0\n",
    "overshot = False\n",
    "lengths = [int(n) for n in puzinp.split(',')]\n",
    "#lengths = [3, 4, 1, 5]\n",
    "\n",
    "for length in lengths:\n",
    "    #print(numbers)\n",
    "    rev_span_start = current_position\n",
    "    rev_span_end = rev_span_start + length\n",
    "    if rev_span_end > numbers_max:\n",
    "        overshot = True\n",
    "        overshoot = rev_span_end - numbers_max - 1\n",
    "        numbers = numbers + numbers\n",
    "    numbers[rev_span_start:rev_span_end] = reversed(numbers[rev_span_start:rev_span_end])\n",
    "    #print(list(reversed(numbers[rev_span_start:rev_span_end])))\n",
    "    if overshot:\n",
    "        numbers[0:overshoot] = numbers[numbers_max+1:numbers_max+1+overshoot]\n",
    "        numbers = numbers[:numbers_max + 1]\n",
    "        overshot = False\n",
    "    current_position = (current_position + length + skip_size) % (numbers_max + 1)\n",
    "    #print(f'position: {current_position}, skip size: {skip_size}')\n",
    "    skip_size += 1\n",
    "assert sorted(numbers) == list(range(256))\n",
    "#print()\n",
    "\n",
    "numbers[0]*numbers[1]"
   ]
  },
  {
   "cell_type": "code",
   "execution_count": 13,
   "metadata": {},
   "outputs": [],
   "source": [
    "part_two_input = [ord(ch) for ch in puzinp] + [17, 31, 73, 47, 23]"
   ]
  },
  {
   "cell_type": "code",
   "execution_count": 14,
   "metadata": {},
   "outputs": [],
   "source": [
    "from functools import reduce\n",
    "from operator import xor"
   ]
  },
  {
   "cell_type": "code",
   "execution_count": 15,
   "metadata": {},
   "outputs": [
    {
     "data": {
      "text/plain": [
       "'aff593797989d665349efe11bb4fd99b'"
      ]
     },
     "execution_count": 15,
     "metadata": {},
     "output_type": "execute_result"
    }
   ],
   "source": [
    "numbers_max = 255\n",
    "numbers = list(range(numbers_max + 1))\n",
    "current_position = 0\n",
    "skip_size = 0\n",
    "overshot = False\n",
    "lengths = part_two_input\n",
    "\n",
    "for _ in range(64):\n",
    "    for length in lengths:\n",
    "        rev_span_start = current_position\n",
    "        rev_span_end = rev_span_start + length\n",
    "        if rev_span_end > numbers_max:\n",
    "            overshot = True\n",
    "            overshoot = rev_span_end - numbers_max - 1\n",
    "            numbers = numbers + numbers\n",
    "        numbers[rev_span_start:rev_span_end] = reversed(numbers[rev_span_start:rev_span_end])\n",
    "        if overshot:\n",
    "            numbers[0:overshoot] = numbers[numbers_max+1:numbers_max+1+overshoot]\n",
    "            numbers = numbers[:numbers_max + 1]\n",
    "            overshot = False\n",
    "        current_position = (current_position + length + skip_size) % (numbers_max + 1)\n",
    "        skip_size += 1\n",
    "assert sorted(numbers) == list(range(256))\n",
    "\n",
    "sparse_hashes = []\n",
    "while numbers:\n",
    "    take, numbers = numbers[:16], numbers[16:]\n",
    "    sparse_hashes.append(reduce(xor, take))\n",
    "\n",
    "''.join([hex(n)[2:] for n in sparse_hashes])"
   ]
  },
  {
   "cell_type": "code",
   "execution_count": null,
   "metadata": {},
   "outputs": [],
   "source": []
  },
  {
   "cell_type": "code",
   "execution_count": null,
   "metadata": {},
   "outputs": [],
   "source": []
  },
  {
   "cell_type": "markdown",
   "metadata": {},
   "source": [
    "# day 9: Stream Processing\n",
    "\n",
    "Didn't like the nesting of the first approach.\n",
    "\n",
    "Tried combining conditions for the seconds approach. I think it is harder to read, even though less nested.\n",
    "\n",
    "For the third approach, I:\n",
    "- moved short / specific / non-'default' cases to earliest positions in if/elif stack\n",
    "- elif then allowed coverage of remaining options more clearly, allowing nesting to be halved\n",
    "\n",
    "I also tried seeing if commenting some of the later elif branches would add to readability, and my opinion was that it did not.\n",
    "\n",
    "Ultimately, I find the third version to be a modest but useful improvement in readability vs the first approach."
   ]
  },
  {
   "cell_type": "code",
   "execution_count": 1,
   "metadata": {},
   "outputs": [],
   "source": [
    "with open('input_day_9.txt') as f:\n",
    "    puzinp = f.read().strip()"
   ]
  },
  {
   "cell_type": "code",
   "execution_count": 2,
   "metadata": {},
   "outputs": [
    {
     "data": {
      "text/plain": [
       "24038"
      ]
     },
     "execution_count": 2,
     "metadata": {},
     "output_type": "execute_result"
    }
   ],
   "source": [
    "len(puzinp)"
   ]
  },
  {
   "cell_type": "code",
   "execution_count": 3,
   "metadata": {},
   "outputs": [
    {
     "data": {
      "text/plain": [
       "(16689, 7982)"
      ]
     },
     "execution_count": 3,
     "metadata": {},
     "output_type": "execute_result"
    }
   ],
   "source": [
    "score = 0\n",
    "nesting = 0\n",
    "garb_ct = 0\n",
    "in_garb = False\n",
    "skip = False\n",
    "for c in puzinp:\n",
    "    if not skip:\n",
    "        if c == '!':\n",
    "            skip = True\n",
    "        else:\n",
    "            if not in_garb:\n",
    "                if c == '<':\n",
    "                    in_garb = True\n",
    "                elif c == '{':\n",
    "                    nesting += 1\n",
    "                    score += nesting\n",
    "                elif c == '}':\n",
    "                    nesting -= 1\n",
    "            else:\n",
    "                if c == '>':\n",
    "                    in_garb = False\n",
    "                else:\n",
    "                    garb_ct += 1\n",
    "    else:\n",
    "        skip = False    \n",
    "\n",
    "score, garb_ct"
   ]
  },
  {
   "cell_type": "code",
   "execution_count": 4,
   "metadata": {},
   "outputs": [
    {
     "data": {
      "text/plain": [
       "(16689, 7982)"
      ]
     },
     "execution_count": 4,
     "metadata": {},
     "output_type": "execute_result"
    }
   ],
   "source": [
    "score = 0\n",
    "nesting = 0\n",
    "garb_ct = 0\n",
    "in_garb = False\n",
    "skip = False\n",
    "for c in puzinp:\n",
    "    if not skip and c == '!':\n",
    "        skip = True\n",
    "    elif not skip and not in_garb:\n",
    "        if c == '<':\n",
    "            in_garb = True\n",
    "        elif c == '{':\n",
    "            nesting += 1\n",
    "            score += nesting\n",
    "        elif c == '}':\n",
    "            nesting -= 1\n",
    "    elif not skip:  # and in_garb\n",
    "        if c == '>':\n",
    "            in_garb = False\n",
    "        else:\n",
    "            garb_ct += 1\n",
    "    else:  # skip == True, so only unset\n",
    "        skip = False    \n",
    "\n",
    "score, garb_ct"
   ]
  },
  {
   "cell_type": "code",
   "execution_count": 5,
   "metadata": {},
   "outputs": [
    {
     "data": {
      "text/plain": [
       "(16689, 7982)"
      ]
     },
     "execution_count": 5,
     "metadata": {},
     "output_type": "execute_result"
    }
   ],
   "source": [
    "score = 0\n",
    "nesting = 0\n",
    "garb_ct = 0\n",
    "in_garb = False\n",
    "skip = False\n",
    "for c in puzinp:\n",
    "    if skip:\n",
    "        skip = False\n",
    "    elif c == '!':\n",
    "        skip = True\n",
    "    elif in_garb:\n",
    "        if c == '>':\n",
    "            in_garb = False\n",
    "        else:\n",
    "            garb_ct += 1 \n",
    "    else:\n",
    "        if c == '<':\n",
    "            in_garb = True\n",
    "        elif c == '{':\n",
    "            nesting += 1\n",
    "            score += nesting\n",
    "        elif c == '}':\n",
    "            nesting -= 1  \n",
    "\n",
    "score, garb_ct"
   ]
  },
  {
   "cell_type": "code",
   "execution_count": null,
   "metadata": {},
   "outputs": [],
   "source": []
  },
  {
   "cell_type": "code",
   "execution_count": null,
   "metadata": {},
   "outputs": [],
   "source": []
  },
  {
   "cell_type": "markdown",
   "metadata": {},
   "source": [
    "# day 8: I Heard You Like Registers"
   ]
  },
  {
   "cell_type": "code",
   "execution_count": 1,
   "metadata": {},
   "outputs": [],
   "source": [
    "instructions = []\n",
    "with open('input_day_8.txt') as f:\n",
    "    for line in f:\n",
    "        instructions.append(line.strip())"
   ]
  },
  {
   "cell_type": "code",
   "execution_count": 2,
   "metadata": {
    "scrolled": false
   },
   "outputs": [
    {
     "data": {
      "text/plain": [
       "['o dec -427 if wnh < -1',\n",
       " 'ugc dec -128 if baj <= 3',\n",
       " 'ugc inc 294 if xml <= -1',\n",
       " 'ugc inc -277 if wfu < -2',\n",
       " 'l inc 302 if sqf == 0',\n",
       " 'l inc -940 if wnh > -6',\n",
       " 'vke inc 687 if fy >= -3',\n",
       " 'b inc 976 if ugc > 118',\n",
       " 'rz dec 201 if jyi < 5',\n",
       " 'y dec -960 if l >= -647']"
      ]
     },
     "execution_count": 2,
     "metadata": {},
     "output_type": "execute_result"
    }
   ],
   "source": [
    "instructions[:10]"
   ]
  },
  {
   "cell_type": "code",
   "execution_count": 3,
   "metadata": {},
   "outputs": [],
   "source": [
    "from collections import defaultdict\n",
    "\n",
    "registers = defaultdict(int)\n",
    "all_time_max = 0\n",
    "for ins in instructions:\n",
    "    reg, op, val, _, cond_reg, cond_rest = ins.split(maxsplit=5)\n",
    "    if op == 'inc':\n",
    "        op = '+='\n",
    "    elif op == 'dec':\n",
    "        op = '-='\n",
    "    test_expression = \"test = registers['\" + cond_reg + \"'] \" + cond_rest\n",
    "    action_expression = ' '.join([\"registers['\" + reg + \"']\", op, val])\n",
    "    exec(test_expression)\n",
    "    if test:\n",
    "        exec(action_expression)\n",
    "    all_time_max = max([all_time_max, max(registers.values())])"
   ]
  },
  {
   "cell_type": "code",
   "execution_count": 4,
   "metadata": {},
   "outputs": [
    {
     "data": {
      "text/plain": [
       "4448"
      ]
     },
     "execution_count": 4,
     "metadata": {},
     "output_type": "execute_result"
    }
   ],
   "source": [
    "max(registers.values())"
   ]
  },
  {
   "cell_type": "code",
   "execution_count": 5,
   "metadata": {},
   "outputs": [
    {
     "data": {
      "text/plain": [
       "6582"
      ]
     },
     "execution_count": 5,
     "metadata": {},
     "output_type": "execute_result"
    }
   ],
   "source": [
    "all_time_max"
   ]
  },
  {
   "cell_type": "code",
   "execution_count": null,
   "metadata": {},
   "outputs": [],
   "source": []
  },
  {
   "cell_type": "code",
   "execution_count": null,
   "metadata": {},
   "outputs": [],
   "source": []
  },
  {
   "cell_type": "markdown",
   "metadata": {},
   "source": [
    "# day 7: Recursive Circus"
   ]
  },
  {
   "cell_type": "code",
   "execution_count": 1,
   "metadata": {},
   "outputs": [],
   "source": [
    "reports = []\n",
    "with open('input_day_7.txt') as f:\n",
    "    for line in f:\n",
    "        reports.append(line.strip())"
   ]
  },
  {
   "cell_type": "code",
   "execution_count": 2,
   "metadata": {},
   "outputs": [
    {
     "name": "stdout",
     "output_type": "stream",
     "text": [
      "0 xsddbi (61)\n",
      "1 nqtowev (11)\n",
      "2 xwohr (82)\n",
      "3 flejt (36)\n",
      "4 idwpug (54)\n",
      "5 uoxzkp (51)\n",
      "6 choeijs (54)\n",
      "7 gmsjkn (65)\n",
      "8 txszqu (687) -> mvjqmad, lwqlyjq, jlgnsu\n",
      "9 zhlfdac (15)\n"
     ]
    }
   ],
   "source": [
    "for ri, r in enumerate(reports[:10]):\n",
    "    print(ri, r)"
   ]
  },
  {
   "cell_type": "code",
   "execution_count": 3,
   "metadata": {},
   "outputs": [],
   "source": [
    "from collections import defaultdict"
   ]
  },
  {
   "cell_type": "code",
   "execution_count": 4,
   "metadata": {},
   "outputs": [],
   "source": [
    "held_sets = []\n",
    "progs = defaultdict(dict)\n",
    "for rep in reports:\n",
    "    prog, *held = rep.replace(' -> ',',').split(',')\n",
    "    name, weight = prog.split()\n",
    "    weight = int(weight[1:-1])\n",
    "    progs[name]['weight'] = weight\n",
    "    held = [h.strip() for h in held]\n",
    "    progs[name]['holds'] = held\n",
    "    for h in held:\n",
    "        progs[h]['on'] = name\n",
    "    if held:\n",
    "        held_sets.append(held)"
   ]
  },
  {
   "cell_type": "code",
   "execution_count": 5,
   "metadata": {},
   "outputs": [
    {
     "name": "stdout",
     "output_type": "stream",
     "text": [
      "fbgguv\n"
     ]
    }
   ],
   "source": [
    "for k, v in progs.items():\n",
    "    if 'on' not in v.keys():\n",
    "        print(k)"
   ]
  },
  {
   "cell_type": "code",
   "execution_count": 6,
   "metadata": {},
   "outputs": [
    {
     "name": "stdout",
     "output_type": "stream",
     "text": [
      "xsddbi {'weight': 61, 'holds': [], 'on': 'ptawnqq'}\n",
      "nqtowev {'weight': 11, 'holds': [], 'on': 'nsxrvpg'}\n",
      "xwohr {'weight': 82, 'holds': [], 'on': 'utyrttu'}\n",
      "flejt {'weight': 36, 'holds': [], 'on': 'ydqgvnf'}\n",
      "idwpug {'weight': 54, 'holds': [], 'on': 'vgqmfj'}\n",
      "uoxzkp {'weight': 51, 'holds': [], 'on': 'ndhitxf'}\n",
      "choeijs {'weight': 54, 'holds': [], 'on': 'thneux'}\n",
      "gmsjkn {'weight': 65, 'holds': [], 'on': 'tmigcw'}\n",
      "txszqu {'weight': 687, 'holds': ['mvjqmad', 'lwqlyjq', 'jlgnsu'], 'on': 'evows'}\n",
      "mvjqmad {'on': 'txszqu', 'weight': 359, 'holds': ['swaxyxe', 'perbvgz']}\n"
     ]
    }
   ],
   "source": [
    "for k in list(progs.keys())[:10]:\n",
    "    print(k, progs[k])"
   ]
  },
  {
   "cell_type": "code",
   "execution_count": 7,
   "metadata": {},
   "outputs": [],
   "source": [
    "def get_tot_wt(prog):\n",
    "    wt = progs[prog]['weight']\n",
    "    for hp in progs[prog]['holds']:\n",
    "        wt += get_tot_wt(hp)\n",
    "    progs[prog]['tot_weight'] = wt\n",
    "    return wt"
   ]
  },
  {
   "cell_type": "code",
   "execution_count": 8,
   "metadata": {},
   "outputs": [
    {
     "data": {
      "text/plain": [
       "537824"
      ]
     },
     "execution_count": 8,
     "metadata": {},
     "output_type": "execute_result"
    }
   ],
   "source": [
    "get_tot_wt('fbgguv')"
   ]
  },
  {
   "cell_type": "code",
   "execution_count": 9,
   "metadata": {},
   "outputs": [
    {
     "data": {
      "text/plain": [
       "[['mvjqmad', 'lwqlyjq', 'jlgnsu'],\n",
       " ['nbrvl', 'bcmbao', 'vfimqtl'],\n",
       " ['molth', 'atqewc'],\n",
       " ['tyjyc', 'xyemll'],\n",
       " ['jxsmuey', 'uelnii', 'vcwezm', 'uxnwtp']]"
      ]
     },
     "execution_count": 9,
     "metadata": {},
     "output_type": "execute_result"
    }
   ],
   "source": [
    "held_sets[:5]"
   ]
  },
  {
   "cell_type": "code",
   "execution_count": 10,
   "metadata": {},
   "outputs": [
    {
     "name": "stdout",
     "output_type": "stream",
     "text": [
      "[('bkomu', 89627), ('tynxlau', 89627), ('sfruur', 89632), ('zxvbb', 89627), ('khupkt', 89627), ('xkntkvz', 89627)]\n",
      "[('twbxgv', 17913), ('evows', 17913), ('xwwzp', 17913), ('vsfgg', 17913), ('zsasjr', 17918)]\n",
      "[('jopcvyb', 2548), ('pyoma', 2548), ('jdxfsa', 2553), ('liwlcz', 2548), ('cxetjr', 2548), ('vifbi', 2548), ('tlmxygb', 2548)]\n"
     ]
    }
   ],
   "source": [
    "for hs in held_sets:\n",
    "    wts = [progs[h]['tot_weight'] for h in hs]\n",
    "    if len(set(wts)) > 1:\n",
    "        print(list(zip(hs, wts)))"
   ]
  },
  {
   "cell_type": "code",
   "execution_count": 11,
   "metadata": {},
   "outputs": [
    {
     "data": {
      "text/plain": [
       "[('twbxgv', 17913),\n",
       " ('evows', 17913),\n",
       " ('xwwzp', 17913),\n",
       " ('vsfgg', 17913),\n",
       " ('zsasjr', 17918)]"
      ]
     },
     "execution_count": 11,
     "metadata": {},
     "output_type": "execute_result"
    }
   ],
   "source": [
    "[(h, progs[h]['tot_weight']) for h in progs['sfruur']['holds']]"
   ]
  },
  {
   "cell_type": "code",
   "execution_count": 12,
   "metadata": {},
   "outputs": [
    {
     "data": {
      "text/plain": [
       "[('jopcvyb', 2548),\n",
       " ('pyoma', 2548),\n",
       " ('jdxfsa', 2553),\n",
       " ('liwlcz', 2548),\n",
       " ('cxetjr', 2548),\n",
       " ('vifbi', 2548),\n",
       " ('tlmxygb', 2548)]"
      ]
     },
     "execution_count": 12,
     "metadata": {},
     "output_type": "execute_result"
    }
   ],
   "source": [
    "[(h, progs[h]['tot_weight']) for h in progs['zsasjr']['holds']]"
   ]
  },
  {
   "cell_type": "code",
   "execution_count": 13,
   "metadata": {},
   "outputs": [
    {
     "data": {
      "text/plain": [
       "[('lugwl', 228), ('ckcjr', 228), ('umutl', 228)]"
      ]
     },
     "execution_count": 13,
     "metadata": {},
     "output_type": "execute_result"
    }
   ],
   "source": [
    "[(h, progs[h]['tot_weight']) for h in progs['jdxfsa']['holds']]"
   ]
  },
  {
   "cell_type": "code",
   "execution_count": 14,
   "metadata": {},
   "outputs": [
    {
     "data": {
      "text/plain": [
       "{'holds': ['lugwl', 'ckcjr', 'umutl'],\n",
       " 'on': 'zsasjr',\n",
       " 'tot_weight': 2553,\n",
       " 'weight': 1869}"
      ]
     },
     "execution_count": 14,
     "metadata": {},
     "output_type": "execute_result"
    }
   ],
   "source": [
    "progs['jdxfsa']"
   ]
  },
  {
   "cell_type": "code",
   "execution_count": null,
   "metadata": {},
   "outputs": [],
   "source": []
  },
  {
   "cell_type": "code",
   "execution_count": null,
   "metadata": {},
   "outputs": [],
   "source": []
  },
  {
   "cell_type": "markdown",
   "metadata": {},
   "source": [
    "# day 6: Memory Reallocation"
   ]
  },
  {
   "cell_type": "code",
   "execution_count": 1,
   "metadata": {},
   "outputs": [
    {
     "data": {
      "text/plain": [
       "5042"
      ]
     },
     "execution_count": 1,
     "metadata": {},
     "output_type": "execute_result"
    }
   ],
   "source": [
    "with open('input_day_6.txt') as f:\n",
    "    mem_banks = f.read().strip().split()\n",
    "    mem_banks = [int(b) for b in mem_banks]\n",
    "\n",
    "seen_configs = {}\n",
    "config_repeated = False\n",
    "bank_ct = len(mem_banks)\n",
    "redistribution_count = 0\n",
    "\n",
    "while not config_repeated:\n",
    "    dist_ct = max(mem_banks)\n",
    "    bank_index = mem_banks.index(dist_ct)\n",
    "    mem_banks[bank_index] = 0\n",
    "    while dist_ct:\n",
    "        bank_index += 1\n",
    "        if bank_index == bank_ct:\n",
    "            bank_index = 0\n",
    "        mem_banks[bank_index] += 1\n",
    "        dist_ct -= 1\n",
    "    redistribution_count += 1\n",
    "    if tuple(mem_banks) in seen_configs.keys():\n",
    "        config_repeated = True\n",
    "    else:\n",
    "        seen_configs[tuple(mem_banks)] = redistribution_count\n",
    "        \n",
    "redistribution_count"
   ]
  },
  {
   "cell_type": "code",
   "execution_count": 2,
   "metadata": {},
   "outputs": [
    {
     "data": {
      "text/plain": [
       "1086"
      ]
     },
     "execution_count": 2,
     "metadata": {},
     "output_type": "execute_result"
    }
   ],
   "source": [
    "redistribution_count-seen_configs[tuple(mem_banks)]"
   ]
  },
  {
   "cell_type": "code",
   "execution_count": null,
   "metadata": {},
   "outputs": [],
   "source": []
  },
  {
   "cell_type": "code",
   "execution_count": null,
   "metadata": {},
   "outputs": [],
   "source": []
  }
 ],
 "metadata": {
  "kernelspec": {
   "display_name": "Python 3",
   "language": "python",
   "name": "python3"
  },
  "language_info": {
   "codemirror_mode": {
    "name": "ipython",
    "version": 3
   },
   "file_extension": ".py",
   "mimetype": "text/x-python",
   "name": "python",
   "nbconvert_exporter": "python",
   "pygments_lexer": "ipython3",
   "version": "3.6.3"
  }
 },
 "nbformat": 4,
 "nbformat_minor": 2
}
