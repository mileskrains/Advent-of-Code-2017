{
 "cells": [
  {
   "cell_type": "code",
   "execution_count": null,
   "metadata": {},
   "outputs": [],
   "source": []
  },
  {
   "cell_type": "code",
   "execution_count": null,
   "metadata": {},
   "outputs": [],
   "source": []
  },
  {
   "cell_type": "code",
   "execution_count": null,
   "metadata": {},
   "outputs": [],
   "source": []
  },
  {
   "cell_type": "code",
   "execution_count": null,
   "metadata": {},
   "outputs": [],
   "source": []
  },
  {
   "cell_type": "markdown",
   "metadata": {},
   "source": [
    "# day 17"
   ]
  },
  {
   "cell_type": "code",
   "execution_count": null,
   "metadata": {},
   "outputs": [],
   "source": []
  },
  {
   "cell_type": "code",
   "execution_count": null,
   "metadata": {},
   "outputs": [],
   "source": []
  },
  {
   "cell_type": "code",
   "execution_count": null,
   "metadata": {},
   "outputs": [],
   "source": []
  },
  {
   "cell_type": "code",
   "execution_count": null,
   "metadata": {},
   "outputs": [],
   "source": []
  },
  {
   "cell_type": "markdown",
   "metadata": {},
   "source": [
    "# day 16"
   ]
  },
  {
   "cell_type": "code",
   "execution_count": null,
   "metadata": {},
   "outputs": [],
   "source": []
  },
  {
   "cell_type": "code",
   "execution_count": null,
   "metadata": {},
   "outputs": [],
   "source": []
  },
  {
   "cell_type": "code",
   "execution_count": null,
   "metadata": {},
   "outputs": [],
   "source": []
  },
  {
   "cell_type": "code",
   "execution_count": null,
   "metadata": {},
   "outputs": [],
   "source": []
  },
  {
   "cell_type": "markdown",
   "metadata": {},
   "source": [
    "# day 15"
   ]
  },
  {
   "cell_type": "code",
   "execution_count": null,
   "metadata": {},
   "outputs": [],
   "source": []
  },
  {
   "cell_type": "code",
   "execution_count": null,
   "metadata": {},
   "outputs": [],
   "source": []
  },
  {
   "cell_type": "code",
   "execution_count": null,
   "metadata": {},
   "outputs": [],
   "source": []
  },
  {
   "cell_type": "code",
   "execution_count": null,
   "metadata": {},
   "outputs": [],
   "source": []
  },
  {
   "cell_type": "markdown",
   "metadata": {},
   "source": [
    "# day 14"
   ]
  },
  {
   "cell_type": "code",
   "execution_count": null,
   "metadata": {},
   "outputs": [],
   "source": []
  },
  {
   "cell_type": "code",
   "execution_count": null,
   "metadata": {},
   "outputs": [],
   "source": []
  },
  {
   "cell_type": "code",
   "execution_count": null,
   "metadata": {},
   "outputs": [],
   "source": []
  },
  {
   "cell_type": "code",
   "execution_count": null,
   "metadata": {},
   "outputs": [],
   "source": []
  },
  {
   "cell_type": "markdown",
   "metadata": {},
   "source": [
    "# day 13\n",
    "\n",
    "My first attempt at Part Two was even slower, as it repeated the full timestep sequence for every delay duration calculation. Might have worked if I gave it a week to run ..."
   ]
  },
  {
   "cell_type": "code",
   "execution_count": 1,
   "metadata": {},
   "outputs": [],
   "source": [
    "from itertools import cycle\n",
    "\n",
    "\n",
    "def make_scanner(rng):\n",
    "    r = list(range(rng))\n",
    "    return cycle(r + r[-2:0:-1])\n",
    "\n",
    "\n",
    "def make_firewall(spec):\n",
    "    fw = []\n",
    "    max_depth = max(spec.keys())\n",
    "    for d in range(max_depth + 1):\n",
    "        r = spec.get(d, 0)\n",
    "        if r:\n",
    "            fw.append(make_scanner(r))\n",
    "        else:\n",
    "            fw.append(cycle([-1]))\n",
    "    return fw\n",
    "\n",
    "\n",
    "def make_fw_state_table(spec, table_len):\n",
    "    fw = make_firewall(spec)\n",
    "    fw_state_table = []\n",
    "    for _ in range(table_len):\n",
    "        fw_state_table.append([next(s) for s in fw])\n",
    "    return fw_state_table\n",
    "\n",
    "\n",
    "def make_traverse(fw_spec, delay):\n",
    "    fw = make_firewall(fw_spec)\n",
    "    for _ in range(delay):\n",
    "        fw_sp = [next(s) for s in fw]\n",
    "    severity = 0\n",
    "    for tp in range(max(fw_spec.keys())+1):\n",
    "        fw_sp = [next(s) for s in fw]\n",
    "        if fw_sp[tp] == 0:\n",
    "            severity += tp*fw_spec[tp]\n",
    "    return severity\n",
    "\n",
    "def make_traverse_w_state_table(fw_spec, fw_state_table, delay):\n",
    "    for tp in range(max(fw_spec.keys())+1):\n",
    "        if fw_state_table[tp+delay][tp] == 0:\n",
    "            return False\n",
    "    return True"
   ]
  },
  {
   "cell_type": "code",
   "execution_count": 2,
   "metadata": {},
   "outputs": [],
   "source": [
    "test_input = \"\"\"0: 3\n",
    "1: 2\n",
    "4: 4\n",
    "6: 4\"\"\"\n",
    "\n",
    "test_fw_spec = {}\n",
    "for line in test_input.split('\\n'):\n",
    "    dep, rng = [int(n) for n in line.split(': ')]\n",
    "    test_fw_spec[dep] = rng"
   ]
  },
  {
   "cell_type": "code",
   "execution_count": 3,
   "metadata": {},
   "outputs": [],
   "source": [
    "fw_spec = {}\n",
    "with open('input_day_13.txt') as f:\n",
    "    for line in f:\n",
    "            dep, rng = [int(n) for n in line.split(': ')]\n",
    "            fw_spec[dep] = rng"
   ]
  },
  {
   "cell_type": "code",
   "execution_count": 4,
   "metadata": {},
   "outputs": [
    {
     "data": {
      "text/plain": [
       "[(0, 24),\n",
       " (1, 2),\n",
       " (2, 16),\n",
       " (3, 2),\n",
       " (4, 0),\n",
       " (5, 2),\n",
       " (6, 24),\n",
       " (7, 2),\n",
       " (8, 16),\n",
       " (9, 2),\n",
       " (10, 0),\n",
       " (11, 2)]"
      ]
     },
     "execution_count": 4,
     "metadata": {},
     "output_type": "execute_result"
    }
   ],
   "source": [
    "[(d, make_traverse(test_fw_spec, d)) for d in range(12)]"
   ]
  },
  {
   "cell_type": "code",
   "execution_count": 5,
   "metadata": {},
   "outputs": [
    {
     "data": {
      "text/plain": [
       "[(0, False),\n",
       " (1, False),\n",
       " (2, False),\n",
       " (3, False),\n",
       " (4, False),\n",
       " (5, False),\n",
       " (6, False),\n",
       " (7, False),\n",
       " (8, False),\n",
       " (9, False),\n",
       " (10, True),\n",
       " (11, False)]"
      ]
     },
     "execution_count": 5,
     "metadata": {},
     "output_type": "execute_result"
    }
   ],
   "source": [
    "fw_state_table = make_fw_state_table(test_fw_spec, 1000)\n",
    "[(d, make_traverse_w_state_table(test_fw_spec, fw_state_table, d)) for d in range(12)]"
   ]
  },
  {
   "cell_type": "code",
   "execution_count": 6,
   "metadata": {},
   "outputs": [
    {
     "data": {
      "text/plain": [
       "1900"
      ]
     },
     "execution_count": 6,
     "metadata": {},
     "output_type": "execute_result"
    }
   ],
   "source": [
    "make_traverse(fw_spec, 0)"
   ]
  },
  {
   "cell_type": "code",
   "execution_count": 7,
   "metadata": {},
   "outputs": [
    {
     "name": "stdout",
     "output_type": "stream",
     "text": [
      "CPU times: user 3min 12s, sys: 53.2 s, total: 4min 5s\n",
      "Wall time: 4min 16s\n"
     ]
    }
   ],
   "source": [
    "%%time\n",
    "fw_state_table = make_fw_state_table(fw_spec, 10000000)"
   ]
  },
  {
   "cell_type": "code",
   "execution_count": 8,
   "metadata": {},
   "outputs": [
    {
     "name": "stdout",
     "output_type": "stream",
     "text": [
      "3966414\n",
      "CPU times: user 10.7 s, sys: 4.32 s, total: 15 s\n",
      "Wall time: 15.5 s\n"
     ]
    }
   ],
   "source": [
    "%%time\n",
    "d = 0\n",
    "while not make_traverse_w_state_table(fw_spec, fw_state_table, d):\n",
    "    d += 1\n",
    "\n",
    "print(d)"
   ]
  },
  {
   "cell_type": "code",
   "execution_count": 9,
   "metadata": {},
   "outputs": [
    {
     "name": "stdout",
     "output_type": "stream",
     "text": [
      "3966414\n",
      "CPU times: user 18.5 s, sys: 31.9 ms, total: 18.5 s\n",
      "Wall time: 18.6 s\n"
     ]
    }
   ],
   "source": [
    "%%time\n",
    "# and now the quick way ...\n",
    "depths_cycles = [(k, 2*v-2) for k, v in fw_spec.items()]\n",
    "\n",
    "def caught_at_delay(depths_cycles, delay):\n",
    "    return 0 in [(d + delay) % c for d, c in depths_cycles]\n",
    "\n",
    "d = 0\n",
    "while caught_at_delay(depths_cycles, d):\n",
    "    d += 1\n",
    "print(d)"
   ]
  },
  {
   "cell_type": "code",
   "execution_count": 11,
   "metadata": {},
   "outputs": [
    {
     "name": "stdout",
     "output_type": "stream",
     "text": [
      "3966414\n",
      "CPU times: user 2.07 s, sys: 2.05 ms, total: 2.07 s\n",
      "Wall time: 2.07 s\n"
     ]
    }
   ],
   "source": [
    "%%time\n",
    "# maybe even quicker ...\n",
    "depths_cycles = [(k, 2*v-2) for k, v in fw_spec.items()]\n",
    "\n",
    "def caught_at_delay(depths_cycles, delay):\n",
    "    for d, c in depths_cycles:\n",
    "        if (d + delay) % c == 0:\n",
    "            return True\n",
    "    return False\n",
    "\n",
    "d = 0\n",
    "while caught_at_delay(depths_cycles, d):\n",
    "    d += 1\n",
    "print(d)"
   ]
  },
  {
   "cell_type": "code",
   "execution_count": null,
   "metadata": {},
   "outputs": [],
   "source": []
  },
  {
   "cell_type": "code",
   "execution_count": null,
   "metadata": {},
   "outputs": [],
   "source": []
  },
  {
   "cell_type": "markdown",
   "metadata": {},
   "source": [
    "# day 12"
   ]
  },
  {
   "cell_type": "code",
   "execution_count": 1,
   "metadata": {},
   "outputs": [],
   "source": [
    "connections = []\n",
    "with open('input_day_12.txt') as f:\n",
    "    for line in f:\n",
    "        connections.append(line.strip())"
   ]
  },
  {
   "cell_type": "code",
   "execution_count": 2,
   "metadata": {},
   "outputs": [
    {
     "data": {
      "text/plain": [
       "['1995 <-> 773, 1499',\n",
       " '1996 <-> 95, 1996',\n",
       " '1997 <-> 510, 796',\n",
       " '1998 <-> 626',\n",
       " '1999 <-> 964, 1568']"
      ]
     },
     "execution_count": 2,
     "metadata": {},
     "output_type": "execute_result"
    }
   ],
   "source": [
    "connections[-5:]"
   ]
  },
  {
   "cell_type": "code",
   "execution_count": 3,
   "metadata": {},
   "outputs": [],
   "source": [
    "connections_dict = {}\n",
    "def parse_connection(conn):\n",
    "    prog, comlist = conn.split(' <-> ')\n",
    "    prog = int(prog)\n",
    "    comlist = [int(p) for p in comlist.split(',')]\n",
    "    connections_dict[prog] = comlist\n",
    "    \n",
    "for conn in connections:\n",
    "    parse_connection(conn)"
   ]
  },
  {
   "cell_type": "code",
   "execution_count": 4,
   "metadata": {},
   "outputs": [],
   "source": [
    "def group_from_prog(prog):\n",
    "    ctp = connections_dict[prog][:]\n",
    "    to_visit = []\n",
    "    visited = []\n",
    "    to_visit.extend(ctp)\n",
    "    while to_visit:\n",
    "        pv = to_visit.pop()\n",
    "        for p in connections_dict[pv]:\n",
    "            if p not in visited:\n",
    "                ctp.append(p)\n",
    "                visited.append(p)\n",
    "                to_visit.extend(connections_dict[p])\n",
    "    return set(ctp)"
   ]
  },
  {
   "cell_type": "code",
   "execution_count": 5,
   "metadata": {},
   "outputs": [
    {
     "data": {
      "text/plain": [
       "113"
      ]
     },
     "execution_count": 5,
     "metadata": {},
     "output_type": "execute_result"
    }
   ],
   "source": [
    "len(group_from_prog(0))"
   ]
  },
  {
   "cell_type": "code",
   "execution_count": 6,
   "metadata": {},
   "outputs": [
    {
     "data": {
      "text/plain": [
       "202"
      ]
     },
     "execution_count": 6,
     "metadata": {},
     "output_type": "execute_result"
    }
   ],
   "source": [
    "all_progs = set(connections_dict.keys())\n",
    "grouped_progs = set()\n",
    "groups = 0\n",
    "ungrouped_progs = all_progs.difference(grouped_progs)\n",
    "while ungrouped_progs:\n",
    "    group = group_from_prog(next(iter(ungrouped_progs)))\n",
    "    grouped_progs.update(group)\n",
    "    ungrouped_progs = all_progs.difference(grouped_progs)\n",
    "    groups += 1\n",
    "groups"
   ]
  },
  {
   "cell_type": "code",
   "execution_count": null,
   "metadata": {},
   "outputs": [],
   "source": []
  },
  {
   "cell_type": "code",
   "execution_count": null,
   "metadata": {},
   "outputs": [],
   "source": []
  },
  {
   "cell_type": "markdown",
   "metadata": {},
   "source": [
    "# day 11\n",
    "\n",
    "Struggled for a few minutes with coordinates for the hex grid, then googled and got the idea for the hex-as-3d from [here](http://keekerdc.com/2011/03/hexagon-grids-coordinate-systems-and-distance-calculations/). Obviously, it makes the solution fairly trivial."
   ]
  },
  {
   "cell_type": "code",
   "execution_count": 1,
   "metadata": {},
   "outputs": [],
   "source": [
    "with open('input_day_11.txt') as f:\n",
    "    child_walk = f.read().strip().split(',')"
   ]
  },
  {
   "cell_type": "code",
   "execution_count": 2,
   "metadata": {},
   "outputs": [],
   "source": [
    "compass_to_3d_offset = {'n': (-1, 1, 0),\n",
    "                        'ne': (-1, 0, 1),\n",
    "                        'se': (0, -1, 1),\n",
    "                        's': (1, -1, 0),\n",
    "                        'sw': (1, 0, -1),\n",
    "                        'nw': (0, 1, -1)}"
   ]
  },
  {
   "cell_type": "code",
   "execution_count": 3,
   "metadata": {},
   "outputs": [],
   "source": [
    "def add_vecs(va, vb):\n",
    "    return tuple(map(lambda t: t[0] + t[1], zip(va, vb)))"
   ]
  },
  {
   "cell_type": "code",
   "execution_count": 4,
   "metadata": {},
   "outputs": [
    {
     "data": {
      "text/plain": [
       "((314, -759, 445), 759, 1501)"
      ]
     },
     "execution_count": 4,
     "metadata": {},
     "output_type": "execute_result"
    }
   ],
   "source": [
    "cur_pos = (0, 0, 0)\n",
    "max_dist = 0\n",
    "for step in child_walk:\n",
    "    cur_pos = add_vecs(cur_pos, compass_to_3d_offset[step])\n",
    "    max_dist = max([max_dist] + list(map(abs, cur_pos)))\n",
    "cur_pos, max(map(abs, cur_pos)), max_dist"
   ]
  },
  {
   "cell_type": "code",
   "execution_count": null,
   "metadata": {},
   "outputs": [],
   "source": []
  },
  {
   "cell_type": "code",
   "execution_count": null,
   "metadata": {},
   "outputs": [],
   "source": []
  },
  {
   "cell_type": "markdown",
   "metadata": {},
   "source": [
    "# day 10"
   ]
  },
  {
   "cell_type": "code",
   "execution_count": 1,
   "metadata": {},
   "outputs": [],
   "source": [
    "with open('input_day_10.txt') as f:\n",
    "    puzinp = f.read().strip()"
   ]
  },
  {
   "cell_type": "code",
   "execution_count": 2,
   "metadata": {},
   "outputs": [
    {
     "data": {
      "text/plain": [
       "8536"
      ]
     },
     "execution_count": 2,
     "metadata": {},
     "output_type": "execute_result"
    }
   ],
   "source": [
    "numbers_max = 255\n",
    "#numbers_max = 4\n",
    "numbers = list(range(numbers_max + 1))\n",
    "current_position = 0\n",
    "skip_size = 0\n",
    "overshot = False\n",
    "lengths = [int(n) for n in puzinp.split(',')]\n",
    "#lengths = [3, 4, 1, 5]\n",
    "\n",
    "for length in lengths:\n",
    "    #print(numbers)\n",
    "    rev_span_start = current_position\n",
    "    rev_span_end = rev_span_start + length\n",
    "    if rev_span_end > numbers_max:\n",
    "        overshot = True\n",
    "        overshoot = rev_span_end - numbers_max - 1\n",
    "        numbers = numbers + numbers\n",
    "    numbers[rev_span_start:rev_span_end] = reversed(numbers[rev_span_start:rev_span_end])\n",
    "    #print(list(reversed(numbers[rev_span_start:rev_span_end])))\n",
    "    if overshot:\n",
    "        numbers[0:overshoot] = numbers[numbers_max+1:numbers_max+1+overshoot]\n",
    "        numbers = numbers[:numbers_max + 1]\n",
    "        overshot = False\n",
    "    current_position = (current_position + length + skip_size) % (numbers_max + 1)\n",
    "    #print(f'position: {current_position}, skip size: {skip_size}')\n",
    "    skip_size += 1\n",
    "assert sorted(numbers) == list(range(256))\n",
    "#print()\n",
    "\n",
    "numbers[0]*numbers[1]"
   ]
  },
  {
   "cell_type": "code",
   "execution_count": 3,
   "metadata": {},
   "outputs": [],
   "source": [
    "part_two_input = [ord(ch) for ch in puzinp] + [17, 31, 73, 47, 23]"
   ]
  },
  {
   "cell_type": "code",
   "execution_count": 4,
   "metadata": {},
   "outputs": [],
   "source": [
    "from functools import reduce\n",
    "from operator import xor"
   ]
  },
  {
   "cell_type": "code",
   "execution_count": 5,
   "metadata": {},
   "outputs": [
    {
     "data": {
      "text/plain": [
       "'aff593797989d665349efe11bb4fd99b'"
      ]
     },
     "execution_count": 5,
     "metadata": {},
     "output_type": "execute_result"
    }
   ],
   "source": [
    "numbers_max = 255\n",
    "numbers = list(range(numbers_max + 1))\n",
    "current_position = 0\n",
    "skip_size = 0\n",
    "overshot = False\n",
    "lengths = part_two_input\n",
    "\n",
    "for _ in range(64):\n",
    "    for length in lengths:\n",
    "        rev_span_start = current_position\n",
    "        rev_span_end = rev_span_start + length\n",
    "        if rev_span_end > numbers_max:\n",
    "            overshot = True\n",
    "            overshoot = rev_span_end - numbers_max - 1\n",
    "            numbers = numbers + numbers\n",
    "        numbers[rev_span_start:rev_span_end] = reversed(numbers[rev_span_start:rev_span_end])\n",
    "        if overshot:\n",
    "            numbers[0:overshoot] = numbers[numbers_max+1:numbers_max+1+overshoot]\n",
    "            numbers = numbers[:numbers_max + 1]\n",
    "            overshot = False\n",
    "        current_position = (current_position + length + skip_size) % (numbers_max + 1)\n",
    "        skip_size += 1\n",
    "assert sorted(numbers) == list(range(256))\n",
    "\n",
    "sparse_hashes = []\n",
    "while numbers:\n",
    "    take, numbers = numbers[:16], numbers[16:]\n",
    "    sparse_hashes.append(reduce(xor, take))\n",
    "\n",
    "''.join([hex(n)[2:] for n in sparse_hashes])"
   ]
  },
  {
   "cell_type": "code",
   "execution_count": null,
   "metadata": {},
   "outputs": [],
   "source": []
  },
  {
   "cell_type": "code",
   "execution_count": null,
   "metadata": {},
   "outputs": [],
   "source": []
  },
  {
   "cell_type": "markdown",
   "metadata": {},
   "source": [
    "# day 9\n",
    "\n",
    "Didn't like the nesting of the first approach.\n",
    "\n",
    "Tried combining conditions for the seconds approach. I think it is harder to read, even though less nested.\n",
    "\n",
    "For the third approach, I:\n",
    "- moved short / specific / non-'default' cases to earliest positions in if/elif stack\n",
    "- elif then allowed coverage of remaining options more clearly, allowing nesting to be halved\n",
    "\n",
    "I also tried seeing if commenting some of the later elif branches would add to readability, and my opinion was that it did not.\n",
    "\n",
    "Ultimately, I find the third version to be a modest but useful improvement in readability vs the first approach."
   ]
  },
  {
   "cell_type": "code",
   "execution_count": 1,
   "metadata": {},
   "outputs": [],
   "source": [
    "with open('input_day_9.txt') as f:\n",
    "    puzinp = f.read().strip()"
   ]
  },
  {
   "cell_type": "code",
   "execution_count": 2,
   "metadata": {},
   "outputs": [
    {
     "data": {
      "text/plain": [
       "24038"
      ]
     },
     "execution_count": 2,
     "metadata": {},
     "output_type": "execute_result"
    }
   ],
   "source": [
    "len(puzinp)"
   ]
  },
  {
   "cell_type": "code",
   "execution_count": 3,
   "metadata": {},
   "outputs": [
    {
     "data": {
      "text/plain": [
       "(16689, 7982)"
      ]
     },
     "execution_count": 3,
     "metadata": {},
     "output_type": "execute_result"
    }
   ],
   "source": [
    "score = 0\n",
    "nesting = 0\n",
    "garb_ct = 0\n",
    "in_garb = False\n",
    "skip = False\n",
    "for c in puzinp:\n",
    "    if not skip:\n",
    "        if c == '!':\n",
    "            skip = True\n",
    "        else:\n",
    "            if not in_garb:\n",
    "                if c == '<':\n",
    "                    in_garb = True\n",
    "                elif c == '{':\n",
    "                    nesting += 1\n",
    "                    score += nesting\n",
    "                elif c == '}':\n",
    "                    nesting -= 1\n",
    "            else:\n",
    "                if c == '>':\n",
    "                    in_garb = False\n",
    "                else:\n",
    "                    garb_ct += 1\n",
    "    else:\n",
    "        skip = False    \n",
    "\n",
    "score, garb_ct"
   ]
  },
  {
   "cell_type": "code",
   "execution_count": 4,
   "metadata": {},
   "outputs": [
    {
     "data": {
      "text/plain": [
       "(16689, 7982)"
      ]
     },
     "execution_count": 4,
     "metadata": {},
     "output_type": "execute_result"
    }
   ],
   "source": [
    "score = 0\n",
    "nesting = 0\n",
    "garb_ct = 0\n",
    "in_garb = False\n",
    "skip = False\n",
    "for c in puzinp:\n",
    "    if not skip and c == '!':\n",
    "        skip = True\n",
    "    elif not skip and not in_garb:\n",
    "        if c == '<':\n",
    "            in_garb = True\n",
    "        elif c == '{':\n",
    "            nesting += 1\n",
    "            score += nesting\n",
    "        elif c == '}':\n",
    "            nesting -= 1\n",
    "    elif not skip:  # and in_garb\n",
    "        if c == '>':\n",
    "            in_garb = False\n",
    "        else:\n",
    "            garb_ct += 1\n",
    "    else:  # skip == True, so only unset\n",
    "        skip = False    \n",
    "\n",
    "score, garb_ct"
   ]
  },
  {
   "cell_type": "code",
   "execution_count": 5,
   "metadata": {},
   "outputs": [
    {
     "data": {
      "text/plain": [
       "(16689, 7982)"
      ]
     },
     "execution_count": 5,
     "metadata": {},
     "output_type": "execute_result"
    }
   ],
   "source": [
    "score = 0\n",
    "nesting = 0\n",
    "garb_ct = 0\n",
    "in_garb = False\n",
    "skip = False\n",
    "for c in puzinp:\n",
    "    if skip:\n",
    "        skip = False\n",
    "    elif c == '!':\n",
    "        skip = True\n",
    "    elif in_garb:\n",
    "        if c == '>':\n",
    "            in_garb = False\n",
    "        else:\n",
    "            garb_ct += 1 \n",
    "    else:\n",
    "        if c == '<':\n",
    "            in_garb = True\n",
    "        elif c == '{':\n",
    "            nesting += 1\n",
    "            score += nesting\n",
    "        elif c == '}':\n",
    "            nesting -= 1  \n",
    "\n",
    "score, garb_ct"
   ]
  },
  {
   "cell_type": "code",
   "execution_count": null,
   "metadata": {},
   "outputs": [],
   "source": []
  },
  {
   "cell_type": "code",
   "execution_count": null,
   "metadata": {},
   "outputs": [],
   "source": []
  },
  {
   "cell_type": "markdown",
   "metadata": {},
   "source": [
    "# day 8"
   ]
  },
  {
   "cell_type": "code",
   "execution_count": 1,
   "metadata": {},
   "outputs": [],
   "source": [
    "instructions = []\n",
    "with open('input_day_8.txt') as f:\n",
    "    for line in f:\n",
    "        instructions.append(line.strip())"
   ]
  },
  {
   "cell_type": "code",
   "execution_count": 2,
   "metadata": {
    "scrolled": false
   },
   "outputs": [
    {
     "data": {
      "text/plain": [
       "['o dec -427 if wnh < -1',\n",
       " 'ugc dec -128 if baj <= 3',\n",
       " 'ugc inc 294 if xml <= -1',\n",
       " 'ugc inc -277 if wfu < -2',\n",
       " 'l inc 302 if sqf == 0',\n",
       " 'l inc -940 if wnh > -6',\n",
       " 'vke inc 687 if fy >= -3',\n",
       " 'b inc 976 if ugc > 118',\n",
       " 'rz dec 201 if jyi < 5',\n",
       " 'y dec -960 if l >= -647']"
      ]
     },
     "execution_count": 2,
     "metadata": {},
     "output_type": "execute_result"
    }
   ],
   "source": [
    "instructions[:10]"
   ]
  },
  {
   "cell_type": "code",
   "execution_count": 3,
   "metadata": {},
   "outputs": [],
   "source": [
    "from collections import defaultdict\n",
    "\n",
    "registers = defaultdict(int)\n",
    "all_time_max = 0\n",
    "for ins in instructions:\n",
    "    reg, op, val, _, cond_reg, cond_rest = ins.split(maxsplit=5)\n",
    "    if op == 'inc':\n",
    "        op = '+='\n",
    "    elif op == 'dec':\n",
    "        op = '-='\n",
    "    test_expression = \"test = registers['\" + cond_reg + \"'] \" + cond_rest\n",
    "    action_expression = ' '.join([\"registers['\" + reg + \"']\", op, val])\n",
    "    exec(test_expression)\n",
    "    if test:\n",
    "        exec(action_expression)\n",
    "    all_time_max = max([all_time_max, max(registers.values())])"
   ]
  },
  {
   "cell_type": "code",
   "execution_count": 4,
   "metadata": {},
   "outputs": [
    {
     "data": {
      "text/plain": [
       "4448"
      ]
     },
     "execution_count": 4,
     "metadata": {},
     "output_type": "execute_result"
    }
   ],
   "source": [
    "max(registers.values())"
   ]
  },
  {
   "cell_type": "code",
   "execution_count": 5,
   "metadata": {},
   "outputs": [
    {
     "data": {
      "text/plain": [
       "6582"
      ]
     },
     "execution_count": 5,
     "metadata": {},
     "output_type": "execute_result"
    }
   ],
   "source": [
    "all_time_max"
   ]
  },
  {
   "cell_type": "code",
   "execution_count": null,
   "metadata": {},
   "outputs": [],
   "source": []
  },
  {
   "cell_type": "code",
   "execution_count": null,
   "metadata": {},
   "outputs": [],
   "source": []
  },
  {
   "cell_type": "markdown",
   "metadata": {},
   "source": [
    "# day 7"
   ]
  },
  {
   "cell_type": "code",
   "execution_count": 1,
   "metadata": {},
   "outputs": [],
   "source": [
    "reports = []\n",
    "with open('input_day_7.txt') as f:\n",
    "    for line in f:\n",
    "        reports.append(line.strip())"
   ]
  },
  {
   "cell_type": "code",
   "execution_count": 2,
   "metadata": {},
   "outputs": [
    {
     "name": "stdout",
     "output_type": "stream",
     "text": [
      "0 xsddbi (61)\n",
      "1 nqtowev (11)\n",
      "2 xwohr (82)\n",
      "3 flejt (36)\n",
      "4 idwpug (54)\n",
      "5 uoxzkp (51)\n",
      "6 choeijs (54)\n",
      "7 gmsjkn (65)\n",
      "8 txszqu (687) -> mvjqmad, lwqlyjq, jlgnsu\n",
      "9 zhlfdac (15)\n"
     ]
    }
   ],
   "source": [
    "for ri, r in enumerate(reports[:10]):\n",
    "    print(ri, r)"
   ]
  },
  {
   "cell_type": "code",
   "execution_count": 3,
   "metadata": {},
   "outputs": [],
   "source": [
    "from collections import defaultdict"
   ]
  },
  {
   "cell_type": "code",
   "execution_count": 4,
   "metadata": {},
   "outputs": [],
   "source": [
    "held_sets = []\n",
    "progs = defaultdict(dict)\n",
    "for rep in reports:\n",
    "    prog, *held = rep.replace(' -> ',',').split(',')\n",
    "    name, weight = prog.split()\n",
    "    weight = int(weight[1:-1])\n",
    "    progs[name]['weight'] = weight\n",
    "    held = [h.strip() for h in held]\n",
    "    progs[name]['holds'] = held\n",
    "    for h in held:\n",
    "        progs[h]['on'] = name\n",
    "    if held:\n",
    "        held_sets.append(held)"
   ]
  },
  {
   "cell_type": "code",
   "execution_count": 5,
   "metadata": {},
   "outputs": [
    {
     "name": "stdout",
     "output_type": "stream",
     "text": [
      "fbgguv\n"
     ]
    }
   ],
   "source": [
    "for k, v in progs.items():\n",
    "    if 'on' not in v.keys():\n",
    "        print(k)"
   ]
  },
  {
   "cell_type": "code",
   "execution_count": 6,
   "metadata": {},
   "outputs": [
    {
     "name": "stdout",
     "output_type": "stream",
     "text": [
      "xsddbi {'weight': 61, 'holds': [], 'on': 'ptawnqq'}\n",
      "nqtowev {'weight': 11, 'holds': [], 'on': 'nsxrvpg'}\n",
      "xwohr {'weight': 82, 'holds': [], 'on': 'utyrttu'}\n",
      "flejt {'weight': 36, 'holds': [], 'on': 'ydqgvnf'}\n",
      "idwpug {'weight': 54, 'holds': [], 'on': 'vgqmfj'}\n",
      "uoxzkp {'weight': 51, 'holds': [], 'on': 'ndhitxf'}\n",
      "choeijs {'weight': 54, 'holds': [], 'on': 'thneux'}\n",
      "gmsjkn {'weight': 65, 'holds': [], 'on': 'tmigcw'}\n",
      "txszqu {'weight': 687, 'holds': ['mvjqmad', 'lwqlyjq', 'jlgnsu'], 'on': 'evows'}\n",
      "mvjqmad {'on': 'txszqu', 'weight': 359, 'holds': ['swaxyxe', 'perbvgz']}\n"
     ]
    }
   ],
   "source": [
    "for k in list(progs.keys())[:10]:\n",
    "    print(k, progs[k])"
   ]
  },
  {
   "cell_type": "code",
   "execution_count": 7,
   "metadata": {},
   "outputs": [],
   "source": [
    "def get_tot_wt(prog):\n",
    "    wt = progs[prog]['weight']\n",
    "    for hp in progs[prog]['holds']:\n",
    "        wt += get_tot_wt(hp)\n",
    "    progs[prog]['tot_weight'] = wt\n",
    "    return wt"
   ]
  },
  {
   "cell_type": "code",
   "execution_count": 8,
   "metadata": {},
   "outputs": [
    {
     "data": {
      "text/plain": [
       "537824"
      ]
     },
     "execution_count": 8,
     "metadata": {},
     "output_type": "execute_result"
    }
   ],
   "source": [
    "get_tot_wt('fbgguv')"
   ]
  },
  {
   "cell_type": "code",
   "execution_count": 9,
   "metadata": {},
   "outputs": [
    {
     "data": {
      "text/plain": [
       "[['mvjqmad', 'lwqlyjq', 'jlgnsu'],\n",
       " ['nbrvl', 'bcmbao', 'vfimqtl'],\n",
       " ['molth', 'atqewc'],\n",
       " ['tyjyc', 'xyemll'],\n",
       " ['jxsmuey', 'uelnii', 'vcwezm', 'uxnwtp']]"
      ]
     },
     "execution_count": 9,
     "metadata": {},
     "output_type": "execute_result"
    }
   ],
   "source": [
    "held_sets[:5]"
   ]
  },
  {
   "cell_type": "code",
   "execution_count": 10,
   "metadata": {},
   "outputs": [
    {
     "name": "stdout",
     "output_type": "stream",
     "text": [
      "[('bkomu', 89627), ('tynxlau', 89627), ('sfruur', 89632), ('zxvbb', 89627), ('khupkt', 89627), ('xkntkvz', 89627)]\n",
      "[('twbxgv', 17913), ('evows', 17913), ('xwwzp', 17913), ('vsfgg', 17913), ('zsasjr', 17918)]\n",
      "[('jopcvyb', 2548), ('pyoma', 2548), ('jdxfsa', 2553), ('liwlcz', 2548), ('cxetjr', 2548), ('vifbi', 2548), ('tlmxygb', 2548)]\n"
     ]
    }
   ],
   "source": [
    "for hs in held_sets:\n",
    "    wts = [progs[h]['tot_weight'] for h in hs]\n",
    "    if len(set(wts)) > 1:\n",
    "        print(list(zip(hs, wts)))"
   ]
  },
  {
   "cell_type": "code",
   "execution_count": 11,
   "metadata": {},
   "outputs": [
    {
     "data": {
      "text/plain": [
       "[('twbxgv', 17913),\n",
       " ('evows', 17913),\n",
       " ('xwwzp', 17913),\n",
       " ('vsfgg', 17913),\n",
       " ('zsasjr', 17918)]"
      ]
     },
     "execution_count": 11,
     "metadata": {},
     "output_type": "execute_result"
    }
   ],
   "source": [
    "[(h, progs[h]['tot_weight']) for h in progs['sfruur']['holds']]"
   ]
  },
  {
   "cell_type": "code",
   "execution_count": 12,
   "metadata": {},
   "outputs": [
    {
     "data": {
      "text/plain": [
       "[('jopcvyb', 2548),\n",
       " ('pyoma', 2548),\n",
       " ('jdxfsa', 2553),\n",
       " ('liwlcz', 2548),\n",
       " ('cxetjr', 2548),\n",
       " ('vifbi', 2548),\n",
       " ('tlmxygb', 2548)]"
      ]
     },
     "execution_count": 12,
     "metadata": {},
     "output_type": "execute_result"
    }
   ],
   "source": [
    "[(h, progs[h]['tot_weight']) for h in progs['zsasjr']['holds']]"
   ]
  },
  {
   "cell_type": "code",
   "execution_count": 13,
   "metadata": {},
   "outputs": [
    {
     "data": {
      "text/plain": [
       "[('lugwl', 228), ('ckcjr', 228), ('umutl', 228)]"
      ]
     },
     "execution_count": 13,
     "metadata": {},
     "output_type": "execute_result"
    }
   ],
   "source": [
    "[(h, progs[h]['tot_weight']) for h in progs['jdxfsa']['holds']]"
   ]
  },
  {
   "cell_type": "code",
   "execution_count": 14,
   "metadata": {},
   "outputs": [
    {
     "data": {
      "text/plain": [
       "{'holds': ['lugwl', 'ckcjr', 'umutl'],\n",
       " 'on': 'zsasjr',\n",
       " 'tot_weight': 2553,\n",
       " 'weight': 1869}"
      ]
     },
     "execution_count": 14,
     "metadata": {},
     "output_type": "execute_result"
    }
   ],
   "source": [
    "progs['jdxfsa']"
   ]
  },
  {
   "cell_type": "code",
   "execution_count": null,
   "metadata": {},
   "outputs": [],
   "source": []
  },
  {
   "cell_type": "code",
   "execution_count": null,
   "metadata": {},
   "outputs": [],
   "source": []
  },
  {
   "cell_type": "markdown",
   "metadata": {},
   "source": [
    "# day 6"
   ]
  },
  {
   "cell_type": "code",
   "execution_count": 1,
   "metadata": {},
   "outputs": [
    {
     "data": {
      "text/plain": [
       "5042"
      ]
     },
     "execution_count": 1,
     "metadata": {},
     "output_type": "execute_result"
    }
   ],
   "source": [
    "with open('input_day_6.txt') as f:\n",
    "    mem_banks = f.read().strip().split()\n",
    "    mem_banks = [int(b) for b in mem_banks]\n",
    "\n",
    "seen_configs = {}\n",
    "config_repeated = False\n",
    "bank_ct = len(mem_banks)\n",
    "redistribution_count = 0\n",
    "\n",
    "while not config_repeated:\n",
    "    dist_ct = max(mem_banks)\n",
    "    bank_index = mem_banks.index(dist_ct)\n",
    "    mem_banks[bank_index] = 0\n",
    "    while dist_ct:\n",
    "        bank_index += 1\n",
    "        if bank_index == bank_ct:\n",
    "            bank_index = 0\n",
    "        mem_banks[bank_index] += 1\n",
    "        dist_ct -= 1\n",
    "    redistribution_count += 1\n",
    "    if tuple(mem_banks) in seen_configs.keys():\n",
    "        config_repeated = True\n",
    "    else:\n",
    "        seen_configs[tuple(mem_banks)] = redistribution_count\n",
    "        \n",
    "redistribution_count"
   ]
  },
  {
   "cell_type": "code",
   "execution_count": 2,
   "metadata": {},
   "outputs": [
    {
     "data": {
      "text/plain": [
       "1086"
      ]
     },
     "execution_count": 2,
     "metadata": {},
     "output_type": "execute_result"
    }
   ],
   "source": [
    "redistribution_count-seen_configs[tuple(mem_banks)]"
   ]
  },
  {
   "cell_type": "code",
   "execution_count": null,
   "metadata": {},
   "outputs": [],
   "source": []
  },
  {
   "cell_type": "code",
   "execution_count": null,
   "metadata": {},
   "outputs": [],
   "source": []
  },
  {
   "cell_type": "markdown",
   "metadata": {},
   "source": [
    "# day 5"
   ]
  },
  {
   "cell_type": "code",
   "execution_count": 1,
   "metadata": {},
   "outputs": [],
   "source": [
    "jos = []\n",
    "with open('input_day_5.txt') as f:\n",
    "    for line in f:\n",
    "        jos.append(int(line))\n",
    "\n",
    "max_index = len(jos) - 1\n",
    "index = 0\n",
    "steps = 0\n",
    "while 0 <= index <= max_index:\n",
    "    jo = jos[index]\n",
    "    jos[index] += 1 if jo < 3 else -1\n",
    "    steps += 1\n",
    "    index += jo"
   ]
  },
  {
   "cell_type": "code",
   "execution_count": 2,
   "metadata": {},
   "outputs": [
    {
     "data": {
      "text/plain": [
       "24490906"
      ]
     },
     "execution_count": 2,
     "metadata": {},
     "output_type": "execute_result"
    }
   ],
   "source": [
    "steps"
   ]
  },
  {
   "cell_type": "code",
   "execution_count": null,
   "metadata": {},
   "outputs": [],
   "source": []
  },
  {
   "cell_type": "code",
   "execution_count": null,
   "metadata": {},
   "outputs": [],
   "source": []
  },
  {
   "cell_type": "markdown",
   "metadata": {},
   "source": [
    "# day 4"
   ]
  },
  {
   "cell_type": "code",
   "execution_count": 1,
   "metadata": {},
   "outputs": [
    {
     "data": {
      "text/plain": [
       "167"
      ]
     },
     "execution_count": 1,
     "metadata": {},
     "output_type": "execute_result"
    }
   ],
   "source": [
    "valid_count = 0\n",
    "with open('input_day_4.txt') as f:\n",
    "    for line in f:\n",
    "        words = line.split()\n",
    "        words = [''.join(sorted(list(w))) for w in words]\n",
    "        if len(words) == len(set(words)):\n",
    "            valid_count += 1\n",
    "valid_count"
   ]
  },
  {
   "cell_type": "code",
   "execution_count": null,
   "metadata": {},
   "outputs": [],
   "source": []
  },
  {
   "cell_type": "code",
   "execution_count": null,
   "metadata": {},
   "outputs": [],
   "source": []
  },
  {
   "cell_type": "markdown",
   "metadata": {},
   "source": [
    "# day 3\n",
    "\n",
    "I watched Joel Grus’ livecoding solution of same, and learned two things:\n",
    "1. Using a dictionary for storing the grid cells allows direct lookup and modification, and saves space vs. a fixed size grid (which is made larger than it needs to be in order to accommodate uncertainty in the final required size). The easier lookup is a very compelling reason to use this approach.\n",
    "2. This was an opportunity to use generator functions (a modest number of yields, vs looping over three lists of indices."
   ]
  },
  {
   "cell_type": "code",
   "execution_count": 2,
   "metadata": {},
   "outputs": [],
   "source": [
    "puzzle_input = 277678"
   ]
  },
  {
   "cell_type": "code",
   "execution_count": 3,
   "metadata": {},
   "outputs": [],
   "source": [
    "puzzle_input = 1024"
   ]
  },
  {
   "cell_type": "code",
   "execution_count": 4,
   "metadata": {},
   "outputs": [
    {
     "name": "stdout",
     "output_type": "stream",
     "text": [
      "25 5 2 1 1\n",
      "25 5 2 2 0\n",
      "1089 33 16 1 15\n"
     ]
    }
   ],
   "source": [
    "import math\n",
    "\n",
    "\n",
    "def next_square_of_odd(inp):\n",
    "    trial = inp\n",
    "    while math.sqrt(trial) % 2 != 1:\n",
    "        trial += 1\n",
    "    return int(math.sqrt(trial))\n",
    "\n",
    "def day_3(inp):\n",
    "    ns = next_square_of_odd(inp)\n",
    "    te = (ns - 1)//2\n",
    "    fo = (ns**2-inp) % (ns - 1)\n",
    "    print(ns**2, ns, te, fo, abs(fo-te))\n",
    "    return te + abs(fo-te)\n",
    "\n",
    "#assert day_3(1) == 0\n",
    "assert day_3(12) == 3\n",
    "assert day_3(23) == 2\n",
    "assert day_3(1024) == 31"
   ]
  },
  {
   "cell_type": "code",
   "execution_count": 5,
   "metadata": {},
   "outputs": [
    {
     "name": "stdout",
     "output_type": "stream",
     "text": [
      "25 5 2 3 1\n"
     ]
    },
    {
     "data": {
      "text/plain": [
       "3"
      ]
     },
     "execution_count": 5,
     "metadata": {},
     "output_type": "execute_result"
    }
   ],
   "source": [
    "day_3(22)"
   ]
  },
  {
   "cell_type": "code",
   "execution_count": 6,
   "metadata": {},
   "outputs": [
    {
     "name": "stdout",
     "output_type": "stream",
     "text": [
      "25 5 2 2 0\n"
     ]
    },
    {
     "data": {
      "text/plain": [
       "2"
      ]
     },
     "execution_count": 6,
     "metadata": {},
     "output_type": "execute_result"
    }
   ],
   "source": [
    "day_3(23)"
   ]
  },
  {
   "cell_type": "code",
   "execution_count": 7,
   "metadata": {},
   "outputs": [
    {
     "name": "stdout",
     "output_type": "stream",
     "text": [
      "1089 33 16 1 15\n"
     ]
    },
    {
     "data": {
      "text/plain": [
       "31"
      ]
     },
     "execution_count": 7,
     "metadata": {},
     "output_type": "execute_result"
    }
   ],
   "source": [
    "day_3(1024)"
   ]
  },
  {
   "cell_type": "code",
   "execution_count": 8,
   "metadata": {},
   "outputs": [
    {
     "name": "stdout",
     "output_type": "stream",
     "text": [
      "277729 527 263 51 212\n"
     ]
    },
    {
     "data": {
      "text/plain": [
       "475"
      ]
     },
     "execution_count": 8,
     "metadata": {},
     "output_type": "execute_result"
    }
   ],
   "source": [
    "day_3(277678)"
   ]
  },
  {
   "cell_type": "code",
   "execution_count": 9,
   "metadata": {},
   "outputs": [],
   "source": [
    "def solution(num):\n",
    "    width = 1001\n",
    "    solarr = [[0] * width] * width\n",
    "    cr = (width - 1) // 2\n",
    "    cc = (width - 1) // 2\n",
    "    \n",
    "    def set_cell_in_solarr(r, c, v):\n",
    "        row = solarr[r][:]\n",
    "        row[c] = v\n",
    "        solarr[r] = row\n",
    "    \n",
    "    def sum_around(center_row, center_col):\n",
    "        sa = sum(solarr[center_row - 1][center_col - 1:center_col + 2])\n",
    "        sa += sum(solarr[center_row ][center_col - 1:center_col + 2])\n",
    "        sa += sum(solarr[center_row + 1][center_col - 1:center_col + 2])\n",
    "        return sa\n",
    "\n",
    "    set_cell_in_solarr(cr, cc, 1)\n",
    "    loop_num = 0\n",
    "    found = False\n",
    "    while not found:\n",
    "        loop_num += 1\n",
    "        edge_list = range(2*loop_num)\n",
    "        cr += 1\n",
    "        cc += 1\n",
    "        # loop proceeds up, left, down, right, loop_num + 2 steps each time\n",
    "        for rc_step in ((-1, 0), (0, -1), (1, 0), (0, 1)):\n",
    "            for _ in edge_list:\n",
    "                if not found:\n",
    "                    cr, cc = cr + rc_step[0], cc + rc_step[1]\n",
    "                    csum = sum_around(cr, cc)\n",
    "                    if csum > num:\n",
    "                        found = True\n",
    "                    set_cell_in_solarr(cr, cc, csum)\n",
    "    for r in solarr[496:506]:\n",
    "        print(r[496:506])\n",
    "    return csum"
   ]
  },
  {
   "cell_type": "code",
   "execution_count": 10,
   "metadata": {},
   "outputs": [
    {
     "name": "stdout",
     "output_type": "stream",
     "text": [
      "[0, 0, 0, 0, 0, 0, 279138, 266330, 130654, 0]\n",
      "[0, 6591, 6444, 6155, 5733, 5336, 5022, 2450, 128204, 0]\n",
      "[0, 13486, 147, 142, 133, 122, 59, 2391, 123363, 0]\n",
      "[0, 14267, 304, 5, 4, 2, 57, 2275, 116247, 0]\n",
      "[0, 15252, 330, 10, 1, 1, 54, 2105, 109476, 0]\n",
      "[0, 16295, 351, 11, 23, 25, 26, 1968, 103128, 0]\n",
      "[0, 17008, 362, 747, 806, 880, 931, 957, 98098, 0]\n",
      "[0, 17370, 35487, 37402, 39835, 42452, 45220, 47108, 48065, 0]\n",
      "[0, 0, 0, 0, 0, 0, 0, 0, 0, 0]\n",
      "[0, 0, 0, 0, 0, 0, 0, 0, 0, 0]\n"
     ]
    },
    {
     "data": {
      "text/plain": [
       "279138"
      ]
     },
     "execution_count": 10,
     "metadata": {},
     "output_type": "execute_result"
    }
   ],
   "source": [
    "puzzle_input = 277678\n",
    "solution(puzzle_input)"
   ]
  },
  {
   "cell_type": "code",
   "execution_count": 11,
   "metadata": {},
   "outputs": [
    {
     "name": "stdout",
     "output_type": "stream",
     "text": [
      "[0, 0, 0, 0, 0, 0, 0, 0, 0, 0]\n",
      "[0, 0, 0, 0, 0, 0, 0, 0, 0, 0]\n",
      "[0, 0, 147, 142, 133, 122, 59, 0, 0, 0]\n",
      "[0, 0, 0, 5, 4, 2, 57, 0, 0, 0]\n",
      "[0, 0, 0, 10, 1, 1, 54, 0, 0, 0]\n",
      "[0, 0, 0, 11, 23, 25, 26, 0, 0, 0]\n",
      "[0, 0, 0, 0, 0, 0, 0, 0, 0, 0]\n",
      "[0, 0, 0, 0, 0, 0, 0, 0, 0, 0]\n",
      "[0, 0, 0, 0, 0, 0, 0, 0, 0, 0]\n",
      "[0, 0, 0, 0, 0, 0, 0, 0, 0, 0]\n"
     ]
    },
    {
     "data": {
      "text/plain": [
       "147"
      ]
     },
     "execution_count": 11,
     "metadata": {},
     "output_type": "execute_result"
    }
   ],
   "source": [
    "solution(142)"
   ]
  },
  {
   "cell_type": "code",
   "execution_count": null,
   "metadata": {},
   "outputs": [],
   "source": []
  },
  {
   "cell_type": "code",
   "execution_count": null,
   "metadata": {},
   "outputs": [],
   "source": []
  },
  {
   "cell_type": "markdown",
   "metadata": {},
   "source": [
    "# day 2"
   ]
  },
  {
   "cell_type": "code",
   "execution_count": 1,
   "metadata": {},
   "outputs": [],
   "source": [
    "def ev_div(data):\n",
    "    for a in data:\n",
    "        for b in data:\n",
    "            lrg = max([a, b])\n",
    "            sm = min([a, b])\n",
    "            if lrg != sm and lrg % sm == 0:\n",
    "                return lrg//sm"
   ]
  },
  {
   "cell_type": "code",
   "execution_count": 2,
   "metadata": {},
   "outputs": [
    {
     "data": {
      "text/plain": [
       "(45158, 294)"
      ]
     },
     "execution_count": 2,
     "metadata": {},
     "output_type": "execute_result"
    }
   ],
   "source": [
    "spreadsheet_sum = 0\n",
    "ev_div_sum = 0\n",
    "with open('input_day_2.txt') as f:\n",
    "    for line in f:\n",
    "        line_dat = [int(el) for el in line.strip().split('\\t')]\n",
    "        spreadsheet_sum += max(line_dat) - min(line_dat)\n",
    "        div = ev_div(line_dat)\n",
    "        ev_div_sum += div\n",
    "        \n",
    "spreadsheet_sum, ev_div_sum"
   ]
  },
  {
   "cell_type": "code",
   "execution_count": null,
   "metadata": {},
   "outputs": [],
   "source": []
  },
  {
   "cell_type": "code",
   "execution_count": null,
   "metadata": {},
   "outputs": [],
   "source": []
  },
  {
   "cell_type": "markdown",
   "metadata": {},
   "source": [
    "# day 1"
   ]
  },
  {
   "cell_type": "code",
   "execution_count": 1,
   "metadata": {},
   "outputs": [],
   "source": [
    "puzzle_input = '111831362354551173134957758417849716877188716338227121869992652972154651632296676464285261171625892888598738721925357479249486886375279741651224686642647267979445939836673253446489428761486828844713816198414852769942459766921928735591892723619845983117283575762694758223956262583556675379533479458964152461973321432768858165818549484229241869657725166769662249574889435227698271439423511175653875622976121749344756734658248245212273242115488961818719828258936653236351924292251821352389471971641957941593141159982696396228218461855752555358856127582128823657548151545741663495182446281491763249374581774426225822474112338745629194213976328762985884127324443984163571711941113986826168921187567861288268744663142867866165546795621466134333541274633769865956692539151971953651886381195877638919355216642731848659649263217258599456646635412623461138792945854536154976732167439355548965778313264824237176152196614333748919711422188148687299757751955297978137561935963366682742334867854892581388263132968999722366495346854828316842352829827989419393594846893842746149235681921951476132585199265366836257322121681471877187847219712325933714149151568922456111149524629995933156924418468567649494728828858254296824372929211977446729691143995333874752448315632185286348657293395339475256796591968717487615896959976413637422536563273537972841783386358764761364989261322293887361558128521915542454126546182855197637753115352541578972298715522386683914777967729562229395936593272269661295295223113186683594678533511783187422193626234573849881185849626389774394351115527451886962844431947188429195191724662982411619815811652741733744864411666766133951954595344837179635668177845937578575117168875754181523584442699384167111317875138179567939174589917894597492816476662186746837552978671142265114426813792549412632291424594239391853358914643327549192165466628737614581458189732579814919468795493415762517372227862614224911844744711698557324454211123571327224554259626961741919243229688684838813912553397698937237114287944446722919198743189848428399356842626198635297851274879128322358195585284984366515428245928111112613638341345371'"
   ]
  },
  {
   "cell_type": "code",
   "execution_count": 2,
   "metadata": {},
   "outputs": [],
   "source": [
    "pi_rot = puzzle_input[1:] + puzzle_input[0]"
   ]
  },
  {
   "cell_type": "code",
   "execution_count": 3,
   "metadata": {},
   "outputs": [
    {
     "data": {
      "text/plain": [
       "1044"
      ]
     },
     "execution_count": 3,
     "metadata": {},
     "output_type": "execute_result"
    }
   ],
   "source": [
    "sum([int(a) for a, b in zip(puzzle_input, pi_rot) if a == b])"
   ]
  },
  {
   "cell_type": "code",
   "execution_count": 4,
   "metadata": {},
   "outputs": [],
   "source": [
    "rot = len(puzzle_input)//2"
   ]
  },
  {
   "cell_type": "code",
   "execution_count": 5,
   "metadata": {},
   "outputs": [],
   "source": [
    "pi_rot = puzzle_input[rot:] + puzzle_input[:rot]"
   ]
  },
  {
   "cell_type": "code",
   "execution_count": 6,
   "metadata": {},
   "outputs": [
    {
     "data": {
      "text/plain": [
       "1054"
      ]
     },
     "execution_count": 6,
     "metadata": {},
     "output_type": "execute_result"
    }
   ],
   "source": [
    "sum([int(a) for a, b in zip(puzzle_input, pi_rot) if a == b])"
   ]
  },
  {
   "cell_type": "code",
   "execution_count": null,
   "metadata": {},
   "outputs": [],
   "source": []
  },
  {
   "cell_type": "code",
   "execution_count": null,
   "metadata": {},
   "outputs": [],
   "source": []
  }
 ],
 "metadata": {
  "kernelspec": {
   "display_name": "Python 3",
   "language": "python",
   "name": "python3"
  },
  "language_info": {
   "codemirror_mode": {
    "name": "ipython",
    "version": 3
   },
   "file_extension": ".py",
   "mimetype": "text/x-python",
   "name": "python",
   "nbconvert_exporter": "python",
   "pygments_lexer": "ipython3",
   "version": "3.6.3"
  }
 },
 "nbformat": 4,
 "nbformat_minor": 2
}
