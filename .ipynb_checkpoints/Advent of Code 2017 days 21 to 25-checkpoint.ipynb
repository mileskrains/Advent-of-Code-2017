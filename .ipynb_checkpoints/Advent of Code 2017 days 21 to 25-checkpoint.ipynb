{
 "cells": [
  {
   "cell_type": "markdown",
   "metadata": {},
   "source": [
    "# day 25: The Halting Problem"
   ]
  },
  {
   "cell_type": "code",
   "execution_count": 41,
   "metadata": {},
   "outputs": [],
   "source": [
    "from collections import defaultdict"
   ]
  },
  {
   "cell_type": "code",
   "execution_count": 39,
   "metadata": {},
   "outputs": [],
   "source": [
    "test_input = '''\n",
    "Begin in state A.\n",
    "Perform a diagnostic checksum after 6 steps.\n",
    "\n",
    "In state A:\n",
    "  If the current value is 0:\n",
    "    - Write the value 1.\n",
    "    - Move one slot to the right.\n",
    "    - Continue with state B.\n",
    "  If the current value is 1:\n",
    "    - Write the value 0.\n",
    "    - Move one slot to the left.\n",
    "    - Continue with state B.\n",
    "\n",
    "In state B:\n",
    "  If the current value is 0:\n",
    "    - Write the value 1.\n",
    "    - Move one slot to the left.\n",
    "    - Continue with state A.\n",
    "  If the current value is 1:\n",
    "    - Write the value 1.\n",
    "    - Move one slot to the right.\n",
    "    - Continue with state A.'''\n",
    "\n",
    "blueprint = []\n",
    "for line in test_input.strip().split('\\n'):\n",
    "    blueprint.append(line.strip())"
   ]
  },
  {
   "cell_type": "code",
   "execution_count": 50,
   "metadata": {},
   "outputs": [],
   "source": [
    "blueprint = []\n",
    "with open('input_day_25.txt') as f:\n",
    "    for line in f:\n",
    "        blueprint.append(line.strip())"
   ]
  },
  {
   "cell_type": "code",
   "execution_count": 51,
   "metadata": {},
   "outputs": [
    {
     "name": "stdout",
     "output_type": "stream",
     "text": [
      "start state: A\n",
      "do checksum after: 12425180 steps\n",
      "\n",
      "('A', 0)  ->  (1, 1, 'B')\n",
      "('A', 1)  ->  (0, 1, 'F')\n",
      "('B', 0)  ->  (0, -1, 'B')\n",
      "('B', 1)  ->  (1, -1, 'C')\n",
      "('C', 0)  ->  (1, -1, 'D')\n",
      "('C', 1)  ->  (0, 1, 'C')\n",
      "('D', 0)  ->  (1, -1, 'E')\n",
      "('D', 1)  ->  (1, 1, 'A')\n",
      "('E', 0)  ->  (1, -1, 'F')\n",
      "('E', 1)  ->  (0, -1, 'D')\n",
      "('F', 0)  ->  (1, 1, 'A')\n",
      "('F', 1)  ->  (0, -1, 'E')\n"
     ]
    },
    {
     "data": {
      "text/plain": [
       "3099"
      ]
     },
     "execution_count": 51,
     "metadata": {},
     "output_type": "execute_result"
    }
   ],
   "source": [
    "instructions = {}\n",
    "instruction_line = -3\n",
    "for ln, line in enumerate(blueprint):\n",
    "    if ln == 0:\n",
    "        state = line[-2]\n",
    "    elif ln == 1:\n",
    "        checksum_after = int(line.split()[-2])\n",
    "    elif line == '':\n",
    "        instruction_line = -1\n",
    "    elif instruction_line == 0:\n",
    "        ins_state = line[-2]\n",
    "    elif instruction_line == 1:\n",
    "        cv = int(line[-2])\n",
    "    elif instruction_line == 2:\n",
    "        wv = int(line[-2])\n",
    "    elif instruction_line == 3:\n",
    "        move_dir = line.split()[-1]\n",
    "        mv = 1 if move_dir == 'right.' else -1\n",
    "    elif instruction_line == 4:\n",
    "        ts = line[-2]\n",
    "        instruction_line = 0\n",
    "        instructions[ins_state, cv] = (wv, mv, ts)\n",
    "    instruction_line += 1\n",
    "    \n",
    "print(f'start state: {state}\\ndo checksum after: {checksum_after} steps\\n')\n",
    "for k, v in instructions.items():\n",
    "    print(k, ' -> ', v)\n",
    "\n",
    "tape = defaultdict(int)\n",
    "pos = 0\n",
    "for _ in range(checksum_after):\n",
    "    val = tape[pos]\n",
    "    wv, mv, state = instructions[state, val]\n",
    "    tape[pos] = wv\n",
    "    pos += mv\n",
    "sum(tape.values())"
   ]
  },
  {
   "cell_type": "code",
   "execution_count": null,
   "metadata": {},
   "outputs": [],
   "source": []
  },
  {
   "cell_type": "code",
   "execution_count": null,
   "metadata": {},
   "outputs": [],
   "source": []
  },
  {
   "cell_type": "markdown",
   "metadata": {},
   "source": [
    "# day 24: Electromagnetic Moat"
   ]
  },
  {
   "cell_type": "code",
   "execution_count": 1,
   "metadata": {},
   "outputs": [],
   "source": [
    "class Bridge_Comp():\n",
    "    def __init__(self, comp, components):\n",
    "        self.comp = comp\n",
    "        self.components = components[:]\n",
    "        self.out_port = comp[1]\n",
    "        self.compatibles = []\n",
    "        self.children = []\n",
    "        self._gather_compatibles()\n",
    "        self._extend()\n",
    "        \n",
    "    def _gather_compatibles(self):\n",
    "        self.compatibles = [conn \n",
    "                            for conn in self.components \n",
    "                            if self.out_port in conn]\n",
    "                \n",
    "    def _extend(self):\n",
    "        for comp in self.compatibles:\n",
    "            child_components = self.components[:]\n",
    "            if child_components:\n",
    "                child_components.remove(comp)\n",
    "            if comp[0] != self.out_port:\n",
    "                comp = [comp[1], comp[0]]\n",
    "            self.children.append(Bridge_Comp(comp, child_components))\n",
    "    \n",
    "    def max_comps(self):\n",
    "        self_score = sum(self.comp)\n",
    "        if self.children:\n",
    "            self_score += max([child.max_comps() for child in self.children])\n",
    "        return self_score\n",
    "    \n",
    "    def longest(self):\n",
    "        tot_len = 1\n",
    "        tot_score = sum(self.comp)\n",
    "        if self.children:\n",
    "            c_len, c_score = max([child.longest() for child in self.children])\n",
    "            tot_len += c_len\n",
    "            tot_score += c_score\n",
    "        return tot_len, tot_score"
   ]
  },
  {
   "cell_type": "code",
   "execution_count": 2,
   "metadata": {},
   "outputs": [
    {
     "data": {
      "text/plain": [
       "[[0, 2], [2, 2], [2, 3], [3, 4], [3, 5], [0, 1], [10, 1], [9, 10]]"
      ]
     },
     "execution_count": 2,
     "metadata": {},
     "output_type": "execute_result"
    }
   ],
   "source": [
    "test_input = '''\n",
    "0/2\n",
    "2/2\n",
    "2/3\n",
    "3/4\n",
    "3/5\n",
    "0/1\n",
    "10/1\n",
    "9/10'''\n",
    "\n",
    "components = test_input.strip().split('\\n')\n",
    "components = [[int(n) for n in comp.split('/')] for comp in components]\n",
    "components"
   ]
  },
  {
   "cell_type": "code",
   "execution_count": 3,
   "metadata": {},
   "outputs": [
    {
     "name": "stdout",
     "output_type": "stream",
     "text": [
      "31 (5, 19)\n",
      "CPU times: user 377 µs, sys: 86 µs, total: 463 µs\n",
      "Wall time: 399 µs\n"
     ]
    }
   ],
   "source": [
    "%%time\n",
    "bridge_tree_root = Bridge_Comp([0, 0], components[:])\n",
    "print(bridge_tree_root.max_comps(), bridge_tree_root.longest())"
   ]
  },
  {
   "cell_type": "code",
   "execution_count": 4,
   "metadata": {},
   "outputs": [
    {
     "name": "stdout",
     "output_type": "stream",
     "text": [
      "56\n",
      "[[5, 0], [16, 0], [19, 0], [0, 43], [17, 1], [26, 1], [2, 2], [2, 17], [2, 35], [3, 14], [3, 16], [50, 3], [4, 4], [7, 4], [19, 4], [5, 5], [5, 27], [5, 45], [29, 6], [31, 7], [33, 7], [40, 7], [9, 14], [9, 48], [50, 9], [31, 11], [12, 12], [26, 13], [13, 38], [14, 21], [14, 42], [14, 44], [14, 46], [45, 15], [17, 29], [34, 17], [18, 18], [19, 33], [20, 20], [41, 22], [22, 48], [33, 24], [26, 29], [50, 27], [29, 29], [29, 46], [32, 31], [46, 31], [50, 32], [33, 38], [33, 50], [36, 34], [37, 35], [45, 43], [50, 43], [49, 49]]\n"
     ]
    }
   ],
   "source": [
    "components = []\n",
    "with open('input_day_24.txt') as f:\n",
    "    for line in f:\n",
    "        components.append([int(n) for n in line.strip().split('/')])\n",
    "\n",
    "print(len(components))\n",
    "print(sorted(components, key = lambda conn: (min(conn), sum(conn))))"
   ]
  },
  {
   "cell_type": "code",
   "execution_count": 5,
   "metadata": {},
   "outputs": [
    {
     "name": "stdout",
     "output_type": "stream",
     "text": [
      "1511 (32, 1471)\n",
      "CPU times: user 9.4 s, sys: 229 ms, total: 9.63 s\n",
      "Wall time: 9.63 s\n"
     ]
    }
   ],
   "source": [
    "%%time\n",
    "bridge_tree_root = Bridge_Comp([0, 0], components[:])\n",
    "print(bridge_tree_root.max_comps(), bridge_tree_root.longest())"
   ]
  },
  {
   "cell_type": "code",
   "execution_count": null,
   "metadata": {},
   "outputs": [],
   "source": []
  },
  {
   "cell_type": "code",
   "execution_count": null,
   "metadata": {},
   "outputs": [],
   "source": []
  },
  {
   "cell_type": "markdown",
   "metadata": {},
   "source": [
    "# day 23: Coprocessor Conflagration"
   ]
  },
  {
   "cell_type": "code",
   "execution_count": 1,
   "metadata": {},
   "outputs": [],
   "source": [
    "from collections import defaultdict\n",
    "\n",
    "\n",
    "def do_instruction(instr):\n",
    "    offset = 1\n",
    "    \n",
    "    ins, *args = instr.split()\n",
    "    if len(args) == 1:\n",
    "        [reg] = args\n",
    "    else:\n",
    "        reg, arg = args\n",
    "        if arg.isalpha():\n",
    "            arg = registers[arg]\n",
    "        arg = int(arg)\n",
    "    \n",
    "    if ins == 'set':\n",
    "        registers[reg] = arg\n",
    "    elif ins == 'sub':\n",
    "        registers[reg] -= arg\n",
    "    elif ins == 'mul':\n",
    "        registers[reg] = registers[reg] * arg\n",
    "        registers['mul_ct'] += 1\n",
    "    elif ins == 'jnz':\n",
    "        if reg.isalpha():\n",
    "            val = registers[reg]\n",
    "        else:\n",
    "            val = int(reg)\n",
    "        if val != 0:\n",
    "            offset = int(arg)\n",
    "            \n",
    "    return offset\n",
    "\n",
    "\n",
    "def partition(input_, partition_length, partition_offset):\n",
    "    start_indices = range(len(input_)-partition_length)[::partition_offset]\n",
    "    return [tuple(input_[si: si+partition_length])\n",
    "            for si in start_indices]"
   ]
  },
  {
   "cell_type": "code",
   "execution_count": 2,
   "metadata": {},
   "outputs": [],
   "source": [
    "instructions = []\n",
    "with open('input_day_23.txt') as f:\n",
    "    for line in f:\n",
    "        instructions.append(line.strip())"
   ]
  },
  {
   "cell_type": "code",
   "execution_count": 3,
   "metadata": {},
   "outputs": [
    {
     "data": {
      "text/plain": [
       "(32081,\n",
       " defaultdict(int,\n",
       "             {'a': 0,\n",
       "              'b': 65,\n",
       "              'c': 65,\n",
       "              'd': 65,\n",
       "              'e': 65,\n",
       "              'f': 0,\n",
       "              'g': 0,\n",
       "              'h': 1,\n",
       "              'mul_ct': 3969}))"
      ]
     },
     "execution_count": 3,
     "metadata": {},
     "output_type": "execute_result"
    }
   ],
   "source": [
    "registers = defaultdict(int)\n",
    "cur_ins = 0\n",
    "instr_ct = 0\n",
    "while 0 <= cur_ins < len(instructions):\n",
    "    cur_ins += do_instruction(instructions[cur_ins])\n",
    "    instr_ct += 1\n",
    "    \n",
    "instr_ct, registers"
   ]
  },
  {
   "cell_type": "code",
   "execution_count": null,
   "metadata": {},
   "outputs": [],
   "source": []
  },
  {
   "cell_type": "code",
   "execution_count": 4,
   "metadata": {},
   "outputs": [
    {
     "name": "stdout",
     "output_type": "stream",
     "text": [
      "0  -  set b 65 \n",
      "1  -  set c b \n",
      "2  -  jnz a 2 \n",
      "3  -  jnz 1 5 \n",
      "4  -  mul b 100 \n",
      "5  -  sub b -100000 \n",
      "6  -  set c b \n",
      "7  -  sub c -17000 \n",
      "8  -  set f 1 \n",
      "9  -  set d 2 \n",
      "10  -  set e 2 \n",
      "11  -  set g d \n",
      "12  -  mul g e \n",
      "13  -  sub g b \n",
      "14  -  jnz g 2 \n",
      "15  -  set f 0 \n",
      "16  -  sub e -1 \n",
      "17  -  set g e \n",
      "18  -  sub g b \n",
      "19  -  jnz g -8 \n",
      "20  -  sub d -1 \n",
      "21  -  set g d \n",
      "22  -  sub g b \n",
      "23  -  jnz g -13 \n",
      "24  -  jnz f 2 \n",
      "25  -  sub h -1  << affects h\n",
      "26  -  set g b \n",
      "27  -  sub g c \n",
      "28  -  jnz g 2 \n",
      "29  -  jnz 1 3 \n",
      "30  -  sub b -17 \n",
      "31  -  jnz 1 -23 \n",
      "\n"
     ]
    },
    {
     "data": {
      "text/plain": [
       "[(2, 4),\n",
       " (3, 8),\n",
       " (14, 16),\n",
       " (19, 11),\n",
       " (23, 10),\n",
       " (24, 26),\n",
       " (28, 30),\n",
       " (29, 32),\n",
       " (31, 8)]"
      ]
     },
     "execution_count": 4,
     "metadata": {},
     "output_type": "execute_result"
    }
   ],
   "source": [
    "jump_targets = []\n",
    "for ii, ins in enumerate(instructions):\n",
    "    if ins.startswith('jnz'):\n",
    "        targ = ii + int(ins.split()[2])\n",
    "        jump_targets.append((ii, targ))\n",
    "    has_h = ' << affects h' if 'h' in ins else ''\n",
    "    print(ii, ' - ', ins, has_h)\n",
    "\n",
    "print()\n",
    "    \n",
    "jump_targets"
   ]
  },
  {
   "cell_type": "code",
   "execution_count": 5,
   "metadata": {},
   "outputs": [
    {
     "name": "stdout",
     "output_type": "stream",
     "text": [
      "1 set c b\n",
      "6 set c b\n",
      "7 sub c -17000\n",
      "27 sub g c\n"
     ]
    }
   ],
   "source": [
    "for ii, ins in enumerate(instructions):\n",
    "    if 'c' in ins:\n",
    "        print(ii, ins)"
   ]
  },
  {
   "cell_type": "code",
   "execution_count": 6,
   "metadata": {},
   "outputs": [
    {
     "name": "stdout",
     "output_type": "stream",
     "text": [
      "  1 -       set c b  a: 1       b: 65      c: 0       d: 0       e: 0       f: 0       g: 0       h: 0      \n",
      "  2 -       jnz a 2  a: 1       b: 65      c: 65      d: 0       e: 0       f: 0       g: 0       h: 0      \n",
      "  4 -     mul b 100  a: 1       b: 65      c: 65      d: 0       e: 0       f: 0       g: 0       h: 0      \n",
      "  5 - sub b -100000  a: 1       b: 6500    c: 65      d: 0       e: 0       f: 0       g: 0       h: 0      \n",
      "  6 -       set c b  a: 1       b: 106500  c: 65      d: 0       e: 0       f: 0       g: 0       h: 0      \n",
      "  7 -  sub c -17000  a: 1       b: 106500  c: 106500  d: 0       e: 0       f: 0       g: 0       h: 0      \n",
      "  8 -       set f 1  a: 1       b: 106500  c: 123500  d: 0       e: 0       f: 0       g: 0       h: 0      \n",
      "  9 -       set d 2  a: 1       b: 106500  c: 123500  d: 0       e: 0       f: 1       g: 0       h: 0      \n",
      " 10 -       set e 2  a: 1       b: 106500  c: 123500  d: 2       e: 0       f: 1       g: 0       h: 0      \n",
      "\n",
      " 11 -       set g d  a: 1       b: 106500  c: 123500  d: 2       e: 2       f: 1       g: 0       h: 0      \n",
      " 12 -       mul g e  a: 1       b: 106500  c: 123500  d: 2       e: 2       f: 1       g: 2       h: 0      \n",
      " 13 -       sub g b  a: 1       b: 106500  c: 123500  d: 2       e: 2       f: 1       g: 4       h: 0      \n",
      " 14 -       jnz g 2  a: 1       b: 106500  c: 123500  d: 2       e: 2       f: 1       g: -106496 h: 0      \n",
      " 16 -      sub e -1  a: 1       b: 106500  c: 123500  d: 2       e: 2       f: 1       g: -106496 h: 0      \n",
      " 17 -       set g e  a: 1       b: 106500  c: 123500  d: 2       e: 3       f: 1       g: -106496 h: 0      \n",
      " 18 -       sub g b  a: 1       b: 106500  c: 123500  d: 2       e: 3       f: 1       g: 3       h: 0      \n",
      " 19 -      jnz g -8  a: 1       b: 106500  c: 123500  d: 2       e: 3       f: 1       g: -106497 h: 0      \n",
      "\n",
      " 11 -       set g d  a: 1       b: 106500  c: 123500  d: 2       e: 3       f: 1       g: -106497 h: 0      \n",
      " 12 -       mul g e  a: 1       b: 106500  c: 123500  d: 2       e: 3       f: 1       g: 2       h: 0      \n",
      " 13 -       sub g b  a: 1       b: 106500  c: 123500  d: 2       e: 3       f: 1       g: 6       h: 0      \n",
      " 14 -       jnz g 2  a: 1       b: 106500  c: 123500  d: 2       e: 3       f: 1       g: -106494 h: 0      \n",
      " 16 -      sub e -1  a: 1       b: 106500  c: 123500  d: 2       e: 3       f: 1       g: -106494 h: 0      \n",
      " 17 -       set g e  a: 1       b: 106500  c: 123500  d: 2       e: 4       f: 1       g: -106494 h: 0      \n",
      " 18 -       sub g b  a: 1       b: 106500  c: 123500  d: 2       e: 4       f: 1       g: 4       h: 0      \n",
      " 19 -      jnz g -8  a: 1       b: 106500  c: 123500  d: 2       e: 4       f: 1       g: -106496 h: 0      \n",
      "\n",
      " 11 -       set g d  a: 1       b: 106500  c: 123500  d: 2       e: 4       f: 1       g: -106496 h: 0      \n",
      " 12 -       mul g e  a: 1       b: 106500  c: 123500  d: 2       e: 4       f: 1       g: 2       h: 0      \n",
      " 13 -       sub g b  a: 1       b: 106500  c: 123500  d: 2       e: 4       f: 1       g: 8       h: 0      \n",
      " 14 -       jnz g 2  a: 1       b: 106500  c: 123500  d: 2       e: 4       f: 1       g: -106492 h: 0      \n",
      " 16 -      sub e -1  a: 1       b: 106500  c: 123500  d: 2       e: 4       f: 1       g: -106492 h: 0      \n",
      " 17 -       set g e  a: 1       b: 106500  c: 123500  d: 2       e: 5       f: 1       g: -106492 h: 0      \n",
      " 18 -       sub g b  a: 1       b: 106500  c: 123500  d: 2       e: 5       f: 1       g: 5       h: 0      \n",
      " 19 -      jnz g -8  a: 1       b: 106500  c: 123500  d: 2       e: 5       f: 1       g: -106495 h: 0      \n",
      "\n",
      " 11 -       set g d  a: 1       b: 106500  c: 123500  d: 2       e: 5       f: 1       g: -106495 h: 0      \n",
      " 12 -       mul g e  a: 1       b: 106500  c: 123500  d: 2       e: 5       f: 1       g: 2       h: 0      \n",
      " 13 -       sub g b  a: 1       b: 106500  c: 123500  d: 2       e: 5       f: 1       g: 10      h: 0      \n",
      " 14 -       jnz g 2  a: 1       b: 106500  c: 123500  d: 2       e: 5       f: 1       g: -106490 h: 0      \n",
      " 16 -      sub e -1  a: 1       b: 106500  c: 123500  d: 2       e: 5       f: 1       g: -106490 h: 0      \n",
      " 17 -       set g e  a: 1       b: 106500  c: 123500  d: 2       e: 6       f: 1       g: -106490 h: 0      \n",
      " 18 -       sub g b  a: 1       b: 106500  c: 123500  d: 2       e: 6       f: 1       g: 6       h: 0      \n",
      " 19 -      jnz g -8  a: 1       b: 106500  c: 123500  d: 2       e: 6       f: 1       g: -106494 h: 0      \n",
      "\n"
     ]
    }
   ],
   "source": [
    "def regs_repr(regs):\n",
    "    return ' '.join([f'{k}: {regs[k]:<7}' for k in 'abcdefgh'])\n",
    "\n",
    "\n",
    "registers = dict(zip(list('abcdefgh'),[1, 0, 0, 0, 0, 0, 0, 0]))\n",
    "registers['mul_ct'] = 0\n",
    "cur_ins = 0\n",
    "ex_ct = 0\n",
    "while 0 <= cur_ins < len(instructions)and ex_ct < 41:\n",
    "    cur_ins += do_instruction(instructions[cur_ins])\n",
    "    ex_ct += 1\n",
    "    print(f'{cur_ins:>3} -{instructions[cur_ins]:>14} ', regs_repr(registers))\n",
    "    if cur_ins in (10, 19):\n",
    "        print()"
   ]
  },
  {
   "cell_type": "markdown",
   "metadata": {},
   "source": [
    "Based on inspection of the instruction list, the following code would solve for h, if I had time to allow it the 11.3 trillion iterations (about a month or so).\n",
    "\n",
    "Further consideration shows that b should be factorizable into d and e except when it is prime. Checking for non-prime values of b is trivial ..."
   ]
  },
  {
   "cell_type": "code",
   "execution_count": 7,
   "metadata": {},
   "outputs": [
    {
     "ename": "KeyboardInterrupt",
     "evalue": "",
     "output_type": "error",
     "traceback": [
      "\u001b[0;31m---------------------------------------------------------------------------\u001b[0m",
      "\u001b[0;31mKeyboardInterrupt\u001b[0m                         Traceback (most recent call last)",
      "\u001b[0;32m<ipython-input-7-4330a83b21af>\u001b[0m in \u001b[0;36m<module>\u001b[0;34m()\u001b[0m\n\u001b[1;32m     11\u001b[0m             \u001b[0;32mif\u001b[0m \u001b[0md\u001b[0m \u001b[0;34m*\u001b[0m \u001b[0me\u001b[0m \u001b[0;34m==\u001b[0m \u001b[0mb\u001b[0m\u001b[0;34m:\u001b[0m\u001b[0;34m\u001b[0m\u001b[0m\n\u001b[1;32m     12\u001b[0m                 \u001b[0mf\u001b[0m \u001b[0;34m=\u001b[0m \u001b[0;36m0\u001b[0m\u001b[0;34m\u001b[0m\u001b[0m\n\u001b[0;32m---> 13\u001b[0;31m             \u001b[0me\u001b[0m \u001b[0;34m+=\u001b[0m \u001b[0;36m1\u001b[0m\u001b[0;34m\u001b[0m\u001b[0m\n\u001b[0m\u001b[1;32m     14\u001b[0m         \u001b[0md\u001b[0m \u001b[0;34m+=\u001b[0m \u001b[0;36m1\u001b[0m\u001b[0;34m\u001b[0m\u001b[0m\n\u001b[1;32m     15\u001b[0m     \u001b[0;32mif\u001b[0m \u001b[0mf\u001b[0m \u001b[0;34m==\u001b[0m \u001b[0;36m0\u001b[0m\u001b[0;34m:\u001b[0m\u001b[0;34m\u001b[0m\u001b[0m\n",
      "\u001b[0;31mKeyboardInterrupt\u001b[0m: "
     ]
    }
   ],
   "source": [
    "c = 123500\n",
    "h = 0\n",
    "\n",
    "b = 106500\n",
    "while b < c:\n",
    "    f = 1\n",
    "    d = 2\n",
    "    while d < b:\n",
    "        e = 2\n",
    "        while e < b:\n",
    "            if d * e == b:\n",
    "                f = 0\n",
    "            e += 1\n",
    "        d += 1\n",
    "    if f == 0:\n",
    "        h += 1\n",
    "    b += 17\n",
    "\n",
    "ex, h"
   ]
  },
  {
   "cell_type": "code",
   "execution_count": 8,
   "metadata": {},
   "outputs": [],
   "source": [
    "from sympy.ntheory.primetest import isprime"
   ]
  },
  {
   "cell_type": "code",
   "execution_count": 9,
   "metadata": {},
   "outputs": [
    {
     "data": {
      "text/plain": [
       "917"
      ]
     },
     "execution_count": 9,
     "metadata": {},
     "output_type": "execute_result"
    }
   ],
   "source": [
    "b_vals = [num for num in range(106500, 123500+1, 17) if not isprime(num)]\n",
    "len(b_vals)"
   ]
  },
  {
   "cell_type": "code",
   "execution_count": null,
   "metadata": {},
   "outputs": [],
   "source": []
  },
  {
   "cell_type": "code",
   "execution_count": null,
   "metadata": {},
   "outputs": [],
   "source": []
  },
  {
   "cell_type": "markdown",
   "metadata": {},
   "source": [
    "# day 22: Sporifica Virus"
   ]
  },
  {
   "cell_type": "code",
   "execution_count": 1,
   "metadata": {},
   "outputs": [],
   "source": [
    "from collections import defaultdict\n",
    "\n",
    "\n",
    "n, s, e, w = (-1, 0), (1, 0), (0, 1), (0, -1)\n",
    "\n",
    "def turn_left(cur_dir):\n",
    "    return{n: w, w: s, s: e, e: n}[cur_dir]\n",
    "\n",
    "def turn_right(cur_dir):\n",
    "    return{n: e, e: s, s: w, w: n}[cur_dir]\n",
    "\n",
    "def do_burst(r, c, cur_dir, inf_ct):\n",
    "    global grid_dict\n",
    "    if grid_dict[r, c]:\n",
    "        cur_dir = turn_right(cur_dir)\n",
    "        grid_dict[r, c] = 0\n",
    "    else:\n",
    "        cur_dir = turn_left(cur_dir)\n",
    "        grid_dict[r, c] = 1\n",
    "        inf_ct += 1\n",
    "    r, c = r + cur_dir[0], c + cur_dir[1]\n",
    "    return r, c, cur_dir, inf_ct"
   ]
  },
  {
   "cell_type": "code",
   "execution_count": 2,
   "metadata": {},
   "outputs": [],
   "source": [
    "test_input = '''\n",
    "..#\n",
    "#..\n",
    "...'''\n",
    "\n",
    "test_rows = test_input.strip().split('\\n')"
   ]
  },
  {
   "cell_type": "code",
   "execution_count": 3,
   "metadata": {},
   "outputs": [
    {
     "name": "stdout",
     "output_type": "stream",
     "text": [
      "5587 2143\n"
     ]
    }
   ],
   "source": [
    "rows = test_rows\n",
    "\n",
    "\n",
    "offset = (len(rows)-1)//2\n",
    "grid_dict = defaultdict(int)\n",
    "for ri, row in enumerate(rows):\n",
    "    for ci, col in enumerate(row):\n",
    "        grid_dict[ri-offset, ci-offset] = 0 if col == '.' else 1\n",
    "\n",
    "r, c = 0, 0\n",
    "cur_dir = n\n",
    "inf_ct = 0\n",
    "\n",
    "for _ in range(10_000):\n",
    "    r, c, cur_dir, inf_ct = do_burst(r, c, cur_dir, inf_ct)\n",
    "    \n",
    "print(inf_ct, len(grid_dict))"
   ]
  },
  {
   "cell_type": "code",
   "execution_count": 4,
   "metadata": {},
   "outputs": [],
   "source": [
    "input_rows = []\n",
    "with open('input_day_22.txt') as f:\n",
    "    for line in f:\n",
    "        input_rows.append(line.strip())"
   ]
  },
  {
   "cell_type": "code",
   "execution_count": 5,
   "metadata": {},
   "outputs": [
    {
     "name": "stdout",
     "output_type": "stream",
     "text": [
      "5575 2714\n"
     ]
    }
   ],
   "source": [
    "rows = input_rows\n",
    "\n",
    "\n",
    "offset = (len(rows)-1)//2\n",
    "grid_dict = defaultdict(int)\n",
    "for ri, row in enumerate(rows):\n",
    "    for ci, col in enumerate(row):\n",
    "        grid_dict[ri-offset, ci-offset] = 0 if col == '.' else 1\n",
    "\n",
    "r, c = 0, 0\n",
    "cur_dir = n\n",
    "inf_ct = 0\n",
    "\n",
    "for _ in range(10_000):\n",
    "    r, c, cur_dir, inf_ct = do_burst(r, c, cur_dir, inf_ct)\n",
    "    \n",
    "print(inf_ct, len(grid_dict))"
   ]
  },
  {
   "cell_type": "markdown",
   "metadata": {},
   "source": [
    "### part two"
   ]
  },
  {
   "cell_type": "code",
   "execution_count": 6,
   "metadata": {},
   "outputs": [],
   "source": [
    "def do_burst(r, c, cur_dir, inf_ct):\n",
    "    global grid_dict\n",
    "    if grid_dict[r, c] == 0:  # is clean\n",
    "        grid_dict[r, c] = 1  # becomes weakened\n",
    "        cur_dir = turn_left(cur_dir)  # turns left\n",
    "    elif grid_dict[r, c] == 1:  # is weakened\n",
    "        grid_dict[r, c] = 2  # becomes infected\n",
    "        inf_ct += 1  \n",
    "    elif grid_dict[r, c] == 2:  # is infected\n",
    "        grid_dict[r, c] = 3  # becomes flagged\n",
    "        cur_dir = turn_right(cur_dir)  # turns right\n",
    "    elif grid_dict[r, c] == 3:  # is flagged\n",
    "        grid_dict[r, c] = 0  # becomes clean\n",
    "        cur_dir = turn_left(turn_left(cur_dir))  # reverses dir\n",
    "    r, c = r + cur_dir[0], c + cur_dir[1]\n",
    "    return r, c, cur_dir, inf_ct"
   ]
  },
  {
   "cell_type": "code",
   "execution_count": 7,
   "metadata": {},
   "outputs": [
    {
     "name": "stdout",
     "output_type": "stream",
     "text": [
      "26 35\n"
     ]
    }
   ],
   "source": [
    "rows = test_rows\n",
    "\n",
    "\n",
    "offset = (len(rows)-1)//2\n",
    "grid_dict = defaultdict(int)\n",
    "for ri, row in enumerate(rows):\n",
    "    for ci, col in enumerate(row):\n",
    "        grid_dict[ri-offset, ci-offset] = 0 if col == '.' else 2\n",
    "\n",
    "r, c = 0, 0\n",
    "cur_dir = n\n",
    "inf_ct = 0\n",
    "\n",
    "for _ in range(100):\n",
    "    r, c, cur_dir, inf_ct = do_burst(r, c, cur_dir, inf_ct)\n",
    "    \n",
    "print(inf_ct, len(grid_dict))"
   ]
  },
  {
   "cell_type": "code",
   "execution_count": 8,
   "metadata": {},
   "outputs": [
    {
     "name": "stdout",
     "output_type": "stream",
     "text": [
      "2511944 98120\n"
     ]
    }
   ],
   "source": [
    "rows = test_rows\n",
    "\n",
    "\n",
    "offset = (len(rows)-1)//2\n",
    "grid_dict = defaultdict(int)\n",
    "for ri, row in enumerate(rows):\n",
    "    for ci, col in enumerate(row):\n",
    "        grid_dict[ri-offset, ci-offset] = 0 if col == '.' else 2\n",
    "\n",
    "r, c = 0, 0\n",
    "cur_dir = n\n",
    "inf_ct = 0\n",
    "\n",
    "for _ in range(10_000_000):\n",
    "    r, c, cur_dir, inf_ct = do_burst(r, c, cur_dir, inf_ct)\n",
    "    \n",
    "print(inf_ct, len(grid_dict))"
   ]
  },
  {
   "cell_type": "code",
   "execution_count": 9,
   "metadata": {},
   "outputs": [
    {
     "name": "stdout",
     "output_type": "stream",
     "text": [
      "2511991 99549\n",
      "CPU times: user 15.8 s, sys: 53.2 ms, total: 15.9 s\n",
      "Wall time: 15.9 s\n"
     ]
    }
   ],
   "source": [
    "%%time\n",
    "rows = input_rows\n",
    "\n",
    "\n",
    "offset = (len(rows)-1)//2\n",
    "grid_dict = defaultdict(int)\n",
    "for ri, row in enumerate(rows):\n",
    "    for ci, col in enumerate(row):\n",
    "        grid_dict[ri-offset, ci-offset] = 0 if col == '.' else 2\n",
    "\n",
    "r, c = 0, 0\n",
    "cur_dir = n\n",
    "inf_ct = 0\n",
    "\n",
    "for _ in range(10_000_000):\n",
    "    r, c, cur_dir, inf_ct = do_burst(r, c, cur_dir, inf_ct)\n",
    "    \n",
    "print(inf_ct, len(grid_dict))"
   ]
  },
  {
   "cell_type": "code",
   "execution_count": null,
   "metadata": {},
   "outputs": [],
   "source": []
  },
  {
   "cell_type": "code",
   "execution_count": null,
   "metadata": {},
   "outputs": [],
   "source": []
  },
  {
   "cell_type": "markdown",
   "metadata": {},
   "source": [
    "# day 21: Fractal Art"
   ]
  },
  {
   "cell_type": "code",
   "execution_count": 1,
   "metadata": {},
   "outputs": [],
   "source": [
    "import random\n",
    "\n",
    "\n",
    "def rot(patn):\n",
    "    rot = list(zip(*[[ch for ch in row] \n",
    "                      for row in reversed(patn.split('/'))]))\n",
    "    return '/'.join([''.join(row) for row in rot])\n",
    "\n",
    "\n",
    "def rot_generator(patn):\n",
    "    yield patn\n",
    "    for _ in range(3):\n",
    "        patn = rot(patn)\n",
    "        yield patn\n",
    "    patn = '/'.join([''.join(row) for row in reversed(patn.split('/'))])\n",
    "    yield patn\n",
    "    for _ in range(3):\n",
    "        patn = rot(patn)\n",
    "        yield patn\n",
    "    patn = reversed(patn)"
   ]
  },
  {
   "cell_type": "code",
   "execution_count": 2,
   "metadata": {},
   "outputs": [],
   "source": [
    "given_rules = {}\n",
    "with open('input_day_21.txt') as f:\n",
    "    for line in f:\n",
    "        k, v = line.strip().split(' => ')\n",
    "        given_rules[k] = v\n",
    "\n",
    "# save some time by loading all of the pattern flip/rotations in as keys\n",
    "enh_rules = {}\n",
    "for k, v in given_rules.items():\n",
    "    for k_var in rot_generator(k):\n",
    "        enh_rules[k_var] = v"
   ]
  },
  {
   "cell_type": "code",
   "execution_count": null,
   "metadata": {},
   "outputs": [],
   "source": []
  },
  {
   "cell_type": "code",
   "execution_count": 12,
   "metadata": {},
   "outputs": [
    {
     "data": {
      "text/plain": [
       "528"
      ]
     },
     "execution_count": 12,
     "metadata": {},
     "output_type": "execute_result"
    }
   ],
   "source": [
    "skip_rules = {}\n",
    "\n"
   ]
  },
  {
   "cell_type": "code",
   "execution_count": null,
   "metadata": {},
   "outputs": [],
   "source": []
  },
  {
   "cell_type": "code",
   "execution_count": null,
   "metadata": {},
   "outputs": [],
   "source": []
  },
  {
   "cell_type": "code",
   "execution_count": 3,
   "metadata": {},
   "outputs": [
    {
     "name": "stdout",
     "output_type": "stream",
     "text": [
      "#.#/..#/.#.  ->  ..#./.##./..../..##\n",
      "..#/.##/.##  ->  ..../#.##/###./...#\n",
      "##/#.  ->  ##./.##/#..\n",
      "#.#/###/#..  ->  .###/...#/...#/..#.\n",
      "##/.#  ->  ##./.##/#..\n",
      ".#./.##/###  ->  .###/###./.##./###.\n",
      "#./#.  ->  ###/.##/##.\n",
      ".##/###/#..  ->  #.#./..../###./.#.#\n",
      "##/##  ->  #.#/###/.##\n",
      ".#/..  ->  ###/#.#/.#.\n",
      ".#./#../..#  ->  .#../#.##/.##./..#.\n",
      "#../.#./.#.  ->  ..../#..#/.#../#..#\n"
     ]
    }
   ],
   "source": [
    "for _ in range(12):\n",
    "    patn_size = random.choice([2, 3])\n",
    "    inp = '/'.join(''.join(random.choices('#.', k = patn_size)) for _ in range(patn_size))\n",
    "\n",
    "    print(inp, ' -> ', enh_rules[inp])"
   ]
  },
  {
   "cell_type": "code",
   "execution_count": 4,
   "metadata": {},
   "outputs": [
    {
     "name": "stdout",
     "output_type": "stream",
     "text": [
      "194 324\n",
      "CPU times: user 904 µs, sys: 477 µs, total: 1.38 ms\n",
      "Wall time: 973 µs\n"
     ]
    }
   ],
   "source": [
    "%%time\n",
    "initial_pattern = '.#./..#/###'\n",
    "grid = initial_pattern\n",
    "\n",
    "for _ in range(5):\n",
    "    grid_size = len(grid.split('/')[0])\n",
    "    sub_size = 2 if grid_size % 2 == 0 else 3\n",
    "    sub_ct = grid_size // sub_size\n",
    "\n",
    "    enh_grid = []\n",
    "    for sr in range(sub_ct):\n",
    "        enh_row_parts = []\n",
    "        for sc in range(sub_ct):\n",
    "            sub_grid = []\n",
    "            for r in range(sr*sub_size, (sr+1)*sub_size):\n",
    "                sub_grid.append(grid.split('/')[r][sc*sub_size:(sc+1)*sub_size])\n",
    "            sub_grid = enh_rules['/'.join(sub_grid)]\n",
    "            enh_row_parts.append(sub_grid)\n",
    "        enh_row = []\n",
    "        for rsr in range(sub_size + 1):\n",
    "            enh_row.append(''.join([part.split('/')[rsr] for part in enh_row_parts]))\n",
    "        enh_grid.append('/'.join(enh_row))\n",
    "    grid = '/'.join(enh_grid)\n",
    "\n",
    "print(grid.count('#'), grid.count('#') + grid.count('.'))"
   ]
  },
  {
   "cell_type": "code",
   "execution_count": 6,
   "metadata": {},
   "outputs": [
    {
     "name": "stdout",
     "output_type": "stream",
     "text": [
      "45903 104976\n",
      "CPU times: user 1.46 s, sys: 20.9 ms, total: 1.48 s\n",
      "Wall time: 1.5 s\n"
     ]
    }
   ],
   "source": [
    "%%time\n",
    "initial_pattern = '.#./..#/###'\n",
    "grid = initial_pattern\n",
    "\n",
    "for _ in range(13):\n",
    "    grid_size = len(grid.split('/')[0])\n",
    "    sub_size = 2 if grid_size % 2 == 0 else 3\n",
    "    sub_ct = grid_size // sub_size\n",
    "\n",
    "    enh_grid = []\n",
    "    for sr in range(sub_ct):\n",
    "        enh_row_parts = []\n",
    "        for sc in range(sub_ct):\n",
    "            sub_grid = []\n",
    "            for r in range(sr*sub_size, (sr+1)*sub_size):\n",
    "                sub_grid.append(grid.split('/')[r][sc*sub_size:(sc+1)*sub_size])\n",
    "            sub_grid = enh_rules['/'.join(sub_grid)]\n",
    "            enh_row_parts.append(sub_grid)\n",
    "        enh_row = []\n",
    "        for rsr in range(sub_size + 1):\n",
    "            enh_row.append(''.join([part.split('/')[rsr] for part in enh_row_parts]))\n",
    "        enh_grid.append('/'.join(enh_row))\n",
    "    grid = '/'.join(enh_grid)\n",
    "\n",
    "print(grid.count('#'), grid.count('#') + grid.count('.'))"
   ]
  },
  {
   "cell_type": "code",
   "execution_count": 11,
   "metadata": {},
   "outputs": [
    {
     "name": "stdout",
     "output_type": "stream",
     "text": [
      "45903 104976\n",
      "CPU times: user 1.49 s, sys: 22.6 ms, total: 1.51 s\n",
      "Wall time: 1.52 s\n"
     ]
    }
   ],
   "source": [
    "%%time\n",
    "initial_pattern = '.#./..#/###'\n",
    "grid = initial_pattern\n",
    "\n",
    "enhancement_iteration_count = 13\n",
    "\n",
    "for ei in range(enhancement_iteration_count):\n",
    "    if ei in skiplist:\n",
    "        continue\n",
    "    else:\n",
    "        grid_size = len(grid.split('/')[0])\n",
    "        sub_size = 2 if grid_size % 2 == 0 else 3\n",
    "        if sub_size == 3:\n",
    "            skip = True\n",
    "        sub_ct = grid_size // sub_size\n",
    "\n",
    "        enh_grid = []\n",
    "        for sr in range(sub_ct):\n",
    "            enh_row_parts = []\n",
    "            for sc in range(sub_ct):\n",
    "                sub_grid = []\n",
    "                for r in range(sr*sub_size, (sr+1)*sub_size):\n",
    "                    sub_grid.append(grid.split('/')[r][sc*sub_size:(sc+1)*sub_size])\n",
    "                sub_grid = enh_rules['/'.join(sub_grid)]\n",
    "                if skip:\n",
    "                    if sub_grid in enh_rules:\n",
    "                        sub_grid = enh_rules[sub_grid]\n",
    "                    else:\n",
    "                        skip = False\n",
    "                enh_row_parts.append(sub_grid)\n",
    "            enh_row = []\n",
    "            for rsr in range(sub_size + 1):\n",
    "                enh_row.append(''.join([part.split('/')[rsr] for part in enh_row_parts]))\n",
    "            enh_grid.append('/'.join(enh_row))\n",
    "        grid = '/'.join(enh_grid)\n",
    "\n",
    "print(grid.count('#'), grid.count('#') + grid.count('.'))"
   ]
  },
  {
   "cell_type": "markdown",
   "metadata": {},
   "source": [
    "if divisible by 3 and not the last expansion, next 2 can be skipped by going directly from 3x3 to 6x6, instead of 3x3 to 4x4 to 6x6\n",
    "\n",
    "TODO: exploit the above fact, for a ?x speedup. I don't think it will be a 10x sort of improvement, but it should still be significant."
   ]
  },
  {
   "cell_type": "code",
   "execution_count": 104,
   "metadata": {},
   "outputs": [
    {
     "name": "stdout",
     "output_type": "stream",
     "text": [
      "2536879 4782969\n",
      "CPU times: user 36min 2s, sys: 5.77 s, total: 36min 8s\n",
      "Wall time: 36min 19s\n"
     ]
    }
   ],
   "source": [
    "%%time\n",
    "initial_pattern = '.#./..#/###'\n",
    "grid = initial_pattern\n",
    "\n",
    "for _ in range(18):\n",
    "    grid_size = len(grid.split('/')[0])\n",
    "    sub_size = 2 if grid_size % 2 == 0 else 3\n",
    "    sub_ct = grid_size // sub_size\n",
    "\n",
    "    enh_grid = []\n",
    "    for sr in range(sub_ct):\n",
    "        enh_row_parts = []\n",
    "        for sc in range(sub_ct):\n",
    "            sub_grid = []\n",
    "            for r in range(sr*sub_size, (sr+1)*sub_size):\n",
    "                sub_grid.append(grid.split('/')[r][sc*sub_size:(sc+1)*sub_size])\n",
    "            sub_grid = enh_rules['/'.join(sub_grid)]\n",
    "            enh_row_parts.append(sub_grid)\n",
    "        enh_row = []\n",
    "        for rsr in range(sub_size + 1):\n",
    "            enh_row.append(''.join([part.split('/')[rsr] for part in enh_row_parts]))\n",
    "        enh_grid.append('/'.join(enh_row))\n",
    "    grid = '/'.join(enh_grid)\n",
    "\n",
    "print(grid.count('#'), grid.count('#') + grid.count('.'))"
   ]
  },
  {
   "cell_type": "code",
   "execution_count": null,
   "metadata": {},
   "outputs": [],
   "source": []
  },
  {
   "cell_type": "code",
   "execution_count": null,
   "metadata": {},
   "outputs": [],
   "source": []
  }
 ],
 "metadata": {
  "kernelspec": {
   "display_name": "Python 3",
   "language": "python",
   "name": "python3"
  },
  "language_info": {
   "codemirror_mode": {
    "name": "ipython",
    "version": 3
   },
   "file_extension": ".py",
   "mimetype": "text/x-python",
   "name": "python",
   "nbconvert_exporter": "python",
   "pygments_lexer": "ipython3",
   "version": "3.6.3"
  }
 },
 "nbformat": 4,
 "nbformat_minor": 2
}
