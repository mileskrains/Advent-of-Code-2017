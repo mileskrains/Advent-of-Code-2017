{
 "cells": [
  {
   "cell_type": "markdown",
   "metadata": {},
   "source": [
    "# day 25: The Halting Problem"
   ]
  },
  {
   "cell_type": "code",
   "execution_count": null,
   "metadata": {},
   "outputs": [],
   "source": []
  },
  {
   "cell_type": "code",
   "execution_count": null,
   "metadata": {},
   "outputs": [],
   "source": []
  },
  {
   "cell_type": "markdown",
   "metadata": {},
   "source": [
    "# day 24: Electromagnetic Moat"
   ]
  },
  {
   "cell_type": "code",
   "execution_count": null,
   "metadata": {},
   "outputs": [],
   "source": []
  },
  {
   "cell_type": "code",
   "execution_count": null,
   "metadata": {},
   "outputs": [],
   "source": []
  },
  {
   "cell_type": "markdown",
   "metadata": {},
   "source": [
    "# day 23: Coprocessor Conflagration"
   ]
  },
  {
   "cell_type": "code",
   "execution_count": null,
   "metadata": {},
   "outputs": [],
   "source": []
  },
  {
   "cell_type": "code",
   "execution_count": null,
   "metadata": {},
   "outputs": [],
   "source": []
  },
  {
   "cell_type": "markdown",
   "metadata": {},
   "source": [
    "# day 22: Sporifica Virus"
   ]
  },
  {
   "cell_type": "code",
   "execution_count": 1,
   "metadata": {},
   "outputs": [],
   "source": [
    "from collections import defaultdict\n",
    "\n",
    "\n",
    "n, s, e, w = (-1, 0), (1, 0), (0, 1), (0, -1)\n",
    "\n",
    "def turn_left(cur_dir):\n",
    "    return{n: w, w: s, s: e, e: n}[cur_dir]\n",
    "\n",
    "def turn_right(cur_dir):\n",
    "    return{n: e, e: s, s: w, w: n}[cur_dir]\n",
    "\n",
    "def do_burst(r, c, cur_dir, inf_ct):\n",
    "    global grid_dict\n",
    "    if grid_dict[r, c]:\n",
    "        cur_dir = turn_right(cur_dir)\n",
    "        grid_dict[r, c] = 0\n",
    "    else:\n",
    "        cur_dir = turn_left(cur_dir)\n",
    "        grid_dict[r, c] = 1\n",
    "        inf_ct += 1\n",
    "    r, c = r + cur_dir[0], c + cur_dir[1]\n",
    "    return r, c, cur_dir, inf_ct"
   ]
  },
  {
   "cell_type": "code",
   "execution_count": 2,
   "metadata": {},
   "outputs": [],
   "source": [
    "test_input = '''\n",
    "..#\n",
    "#..\n",
    "...'''\n",
    "\n",
    "test_rows = test_input.strip().split('\\n')"
   ]
  },
  {
   "cell_type": "code",
   "execution_count": 3,
   "metadata": {},
   "outputs": [
    {
     "name": "stdout",
     "output_type": "stream",
     "text": [
      "5587 2143\n"
     ]
    }
   ],
   "source": [
    "rows = test_rows\n",
    "\n",
    "\n",
    "offset = (len(rows)-1)//2\n",
    "grid_dict = defaultdict(int)\n",
    "for ri, row in enumerate(rows):\n",
    "    for ci, col in enumerate(row):\n",
    "        grid_dict[ri-offset, ci-offset] = 0 if col == '.' else 1\n",
    "\n",
    "r, c = 0, 0\n",
    "cur_dir = n\n",
    "inf_ct = 0\n",
    "\n",
    "for _ in range(10_000):\n",
    "    r, c, cur_dir, inf_ct = do_burst(r, c, cur_dir, inf_ct)\n",
    "    \n",
    "print(inf_ct, len(grid_dict))"
   ]
  },
  {
   "cell_type": "code",
   "execution_count": 4,
   "metadata": {},
   "outputs": [],
   "source": [
    "input_rows = []\n",
    "with open('input_day_22.txt') as f:\n",
    "    for line in f:\n",
    "        input_rows.append(line.strip())"
   ]
  },
  {
   "cell_type": "code",
   "execution_count": 5,
   "metadata": {},
   "outputs": [
    {
     "name": "stdout",
     "output_type": "stream",
     "text": [
      "5575 2714\n"
     ]
    }
   ],
   "source": [
    "rows = input_rows\n",
    "\n",
    "\n",
    "offset = (len(rows)-1)//2\n",
    "grid_dict = defaultdict(int)\n",
    "for ri, row in enumerate(rows):\n",
    "    for ci, col in enumerate(row):\n",
    "        grid_dict[ri-offset, ci-offset] = 0 if col == '.' else 1\n",
    "\n",
    "r, c = 0, 0\n",
    "cur_dir = n\n",
    "inf_ct = 0\n",
    "\n",
    "for _ in range(10_000):\n",
    "    r, c, cur_dir, inf_ct = do_burst(r, c, cur_dir, inf_ct)\n",
    "    \n",
    "print(inf_ct, len(grid_dict))"
   ]
  },
  {
   "cell_type": "markdown",
   "metadata": {},
   "source": [
    "### part two"
   ]
  },
  {
   "cell_type": "code",
   "execution_count": 6,
   "metadata": {},
   "outputs": [],
   "source": [
    "def do_burst(r, c, cur_dir, inf_ct):\n",
    "    global grid_dict\n",
    "    if grid_dict[r, c] == 0:  # is clean\n",
    "        grid_dict[r, c] = 1  # becomes weakened\n",
    "        cur_dir = turn_left(cur_dir)  # turns left\n",
    "    elif grid_dict[r, c] == 1:  # is weakened\n",
    "        grid_dict[r, c] = 2  # becomes infected\n",
    "        inf_ct += 1  \n",
    "    elif grid_dict[r, c] == 2:  # is infected\n",
    "        grid_dict[r, c] = 3  # becomes flagged\n",
    "        cur_dir = turn_right(cur_dir)  # turns right\n",
    "    elif grid_dict[r, c] == 3:  # is flagged\n",
    "        grid_dict[r, c] = 0  # becomes clean\n",
    "        cur_dir = turn_left(turn_left(cur_dir))  # reverses dir\n",
    "    r, c = r + cur_dir[0], c + cur_dir[1]\n",
    "    return r, c, cur_dir, inf_ct"
   ]
  },
  {
   "cell_type": "code",
   "execution_count": 7,
   "metadata": {},
   "outputs": [
    {
     "name": "stdout",
     "output_type": "stream",
     "text": [
      "26 35\n"
     ]
    }
   ],
   "source": [
    "rows = test_rows\n",
    "\n",
    "\n",
    "offset = (len(rows)-1)//2\n",
    "grid_dict = defaultdict(int)\n",
    "for ri, row in enumerate(rows):\n",
    "    for ci, col in enumerate(row):\n",
    "        grid_dict[ri-offset, ci-offset] = 0 if col == '.' else 2\n",
    "\n",
    "r, c = 0, 0\n",
    "cur_dir = n\n",
    "inf_ct = 0\n",
    "\n",
    "for _ in range(100):\n",
    "    r, c, cur_dir, inf_ct = do_burst(r, c, cur_dir, inf_ct)\n",
    "    \n",
    "print(inf_ct, len(grid_dict))"
   ]
  },
  {
   "cell_type": "code",
   "execution_count": 8,
   "metadata": {},
   "outputs": [
    {
     "name": "stdout",
     "output_type": "stream",
     "text": [
      "2511944 98120\n"
     ]
    }
   ],
   "source": [
    "rows = test_rows\n",
    "\n",
    "\n",
    "offset = (len(rows)-1)//2\n",
    "grid_dict = defaultdict(int)\n",
    "for ri, row in enumerate(rows):\n",
    "    for ci, col in enumerate(row):\n",
    "        grid_dict[ri-offset, ci-offset] = 0 if col == '.' else 2\n",
    "\n",
    "r, c = 0, 0\n",
    "cur_dir = n\n",
    "inf_ct = 0\n",
    "\n",
    "for _ in range(10_000_000):\n",
    "    r, c, cur_dir, inf_ct = do_burst(r, c, cur_dir, inf_ct)\n",
    "    \n",
    "print(inf_ct, len(grid_dict))"
   ]
  },
  {
   "cell_type": "code",
   "execution_count": 9,
   "metadata": {},
   "outputs": [
    {
     "name": "stdout",
     "output_type": "stream",
     "text": [
      "2511991 99549\n",
      "CPU times: user 15.8 s, sys: 53.2 ms, total: 15.9 s\n",
      "Wall time: 15.9 s\n"
     ]
    }
   ],
   "source": [
    "%%time\n",
    "rows = input_rows\n",
    "\n",
    "\n",
    "offset = (len(rows)-1)//2\n",
    "grid_dict = defaultdict(int)\n",
    "for ri, row in enumerate(rows):\n",
    "    for ci, col in enumerate(row):\n",
    "        grid_dict[ri-offset, ci-offset] = 0 if col == '.' else 2\n",
    "\n",
    "r, c = 0, 0\n",
    "cur_dir = n\n",
    "inf_ct = 0\n",
    "\n",
    "for _ in range(10_000_000):\n",
    "    r, c, cur_dir, inf_ct = do_burst(r, c, cur_dir, inf_ct)\n",
    "    \n",
    "print(inf_ct, len(grid_dict))"
   ]
  },
  {
   "cell_type": "code",
   "execution_count": null,
   "metadata": {},
   "outputs": [],
   "source": []
  },
  {
   "cell_type": "code",
   "execution_count": null,
   "metadata": {},
   "outputs": [],
   "source": []
  },
  {
   "cell_type": "markdown",
   "metadata": {},
   "source": [
    "# day 21: Fractal Art"
   ]
  },
  {
   "cell_type": "code",
   "execution_count": 1,
   "metadata": {},
   "outputs": [],
   "source": [
    "import random\n",
    "\n",
    "\n",
    "def rot(patn):\n",
    "    rot = list(zip(*[[ch for ch in row] \n",
    "                      for row in reversed(patn.split('/'))]))\n",
    "    return '/'.join([''.join(row) for row in rot])\n",
    "\n",
    "\n",
    "def rot_generator(patn):\n",
    "    yield patn\n",
    "    for _ in range(3):\n",
    "        patn = rot(patn)\n",
    "        yield patn\n",
    "    patn = '/'.join([''.join(row) for row in reversed(patn.split('/'))])\n",
    "    yield patn\n",
    "    for _ in range(3):\n",
    "        patn = rot(patn)\n",
    "        yield patn\n",
    "    patn = reversed(patn)"
   ]
  },
  {
   "cell_type": "code",
   "execution_count": 2,
   "metadata": {},
   "outputs": [],
   "source": [
    "given_rules = {}\n",
    "with open('input_day_21.txt') as f:\n",
    "    for line in f:\n",
    "        k, v = line.strip().split(' => ')\n",
    "        given_rules[k] = v\n",
    "\n",
    "# save some time by loading all of the pattern flip/rotations in as keys\n",
    "enh_rules = {}\n",
    "for k, v in given_rules.items():\n",
    "    for k_var in rot_generator(k):\n",
    "        enh_rules[k_var] = v"
   ]
  },
  {
   "cell_type": "code",
   "execution_count": 12,
   "metadata": {},
   "outputs": [
    {
     "data": {
      "text/plain": [
       "528"
      ]
     },
     "execution_count": 12,
     "metadata": {},
     "output_type": "execute_result"
    }
   ],
   "source": [
    "skip_rules = {}\n",
    "\n"
   ]
  },
  {
   "cell_type": "code",
   "execution_count": null,
   "metadata": {},
   "outputs": [],
   "source": []
  },
  {
   "cell_type": "code",
   "execution_count": null,
   "metadata": {},
   "outputs": [],
   "source": []
  },
  {
   "cell_type": "code",
   "execution_count": null,
   "metadata": {},
   "outputs": [],
   "source": []
  },
  {
   "cell_type": "code",
   "execution_count": 3,
   "metadata": {},
   "outputs": [
    {
     "name": "stdout",
     "output_type": "stream",
     "text": [
      "#.#/..#/.#.  ->  ..#./.##./..../..##\n",
      "..#/.##/.##  ->  ..../#.##/###./...#\n",
      "##/#.  ->  ##./.##/#..\n",
      "#.#/###/#..  ->  .###/...#/...#/..#.\n",
      "##/.#  ->  ##./.##/#..\n",
      ".#./.##/###  ->  .###/###./.##./###.\n",
      "#./#.  ->  ###/.##/##.\n",
      ".##/###/#..  ->  #.#./..../###./.#.#\n",
      "##/##  ->  #.#/###/.##\n",
      ".#/..  ->  ###/#.#/.#.\n",
      ".#./#../..#  ->  .#../#.##/.##./..#.\n",
      "#../.#./.#.  ->  ..../#..#/.#../#..#\n"
     ]
    }
   ],
   "source": [
    "for _ in range(12):\n",
    "    patn_size = random.choice([2, 3])\n",
    "    inp = '/'.join(''.join(random.choices('#.', k = patn_size)) for _ in range(patn_size))\n",
    "\n",
    "    print(inp, ' -> ', enh_rules[inp])"
   ]
  },
  {
   "cell_type": "code",
   "execution_count": 4,
   "metadata": {},
   "outputs": [
    {
     "name": "stdout",
     "output_type": "stream",
     "text": [
      "194 324\n",
      "CPU times: user 904 µs, sys: 477 µs, total: 1.38 ms\n",
      "Wall time: 973 µs\n"
     ]
    }
   ],
   "source": [
    "%%time\n",
    "initial_pattern = '.#./..#/###'\n",
    "grid = initial_pattern\n",
    "\n",
    "for _ in range(5):\n",
    "    grid_size = len(grid.split('/')[0])\n",
    "    sub_size = 2 if grid_size % 2 == 0 else 3\n",
    "    sub_ct = grid_size // sub_size\n",
    "\n",
    "    enh_grid = []\n",
    "    for sr in range(sub_ct):\n",
    "        enh_row_parts = []\n",
    "        for sc in range(sub_ct):\n",
    "            sub_grid = []\n",
    "            for r in range(sr*sub_size, (sr+1)*sub_size):\n",
    "                sub_grid.append(grid.split('/')[r][sc*sub_size:(sc+1)*sub_size])\n",
    "            sub_grid = enh_rules['/'.join(sub_grid)]\n",
    "            enh_row_parts.append(sub_grid)\n",
    "        enh_row = []\n",
    "        for rsr in range(sub_size + 1):\n",
    "            enh_row.append(''.join([part.split('/')[rsr] for part in enh_row_parts]))\n",
    "        enh_grid.append('/'.join(enh_row))\n",
    "    grid = '/'.join(enh_grid)\n",
    "\n",
    "print(grid.count('#'), grid.count('#') + grid.count('.'))"
   ]
  },
  {
   "cell_type": "code",
   "execution_count": 6,
   "metadata": {},
   "outputs": [
    {
     "name": "stdout",
     "output_type": "stream",
     "text": [
      "45903 104976\n",
      "CPU times: user 1.46 s, sys: 20.9 ms, total: 1.48 s\n",
      "Wall time: 1.5 s\n"
     ]
    }
   ],
   "source": [
    "%%time\n",
    "initial_pattern = '.#./..#/###'\n",
    "grid = initial_pattern\n",
    "\n",
    "for _ in range(13):\n",
    "    grid_size = len(grid.split('/')[0])\n",
    "    sub_size = 2 if grid_size % 2 == 0 else 3\n",
    "    sub_ct = grid_size // sub_size\n",
    "\n",
    "    enh_grid = []\n",
    "    for sr in range(sub_ct):\n",
    "        enh_row_parts = []\n",
    "        for sc in range(sub_ct):\n",
    "            sub_grid = []\n",
    "            for r in range(sr*sub_size, (sr+1)*sub_size):\n",
    "                sub_grid.append(grid.split('/')[r][sc*sub_size:(sc+1)*sub_size])\n",
    "            sub_grid = enh_rules['/'.join(sub_grid)]\n",
    "            enh_row_parts.append(sub_grid)\n",
    "        enh_row = []\n",
    "        for rsr in range(sub_size + 1):\n",
    "            enh_row.append(''.join([part.split('/')[rsr] for part in enh_row_parts]))\n",
    "        enh_grid.append('/'.join(enh_row))\n",
    "    grid = '/'.join(enh_grid)\n",
    "\n",
    "print(grid.count('#'), grid.count('#') + grid.count('.'))"
   ]
  },
  {
   "cell_type": "code",
   "execution_count": 11,
   "metadata": {},
   "outputs": [
    {
     "name": "stdout",
     "output_type": "stream",
     "text": [
      "45903 104976\n",
      "CPU times: user 1.49 s, sys: 22.6 ms, total: 1.51 s\n",
      "Wall time: 1.52 s\n"
     ]
    }
   ],
   "source": [
    "%%time\n",
    "initial_pattern = '.#./..#/###'\n",
    "grid = initial_pattern\n",
    "\n",
    "enhancement_iteration_count = 13\n",
    "\n",
    "for ei in range(enhancement_iteration_count):\n",
    "    if ei in skiplist:\n",
    "        continue\n",
    "    else:\n",
    "        grid_size = len(grid.split('/')[0])\n",
    "        sub_size = 2 if grid_size % 2 == 0 else 3\n",
    "        if sub_size == 3:\n",
    "            skip = True\n",
    "        sub_ct = grid_size // sub_size\n",
    "\n",
    "        enh_grid = []\n",
    "        for sr in range(sub_ct):\n",
    "            enh_row_parts = []\n",
    "            for sc in range(sub_ct):\n",
    "                sub_grid = []\n",
    "                for r in range(sr*sub_size, (sr+1)*sub_size):\n",
    "                    sub_grid.append(grid.split('/')[r][sc*sub_size:(sc+1)*sub_size])\n",
    "                sub_grid = enh_rules['/'.join(sub_grid)]\n",
    "                if skip:\n",
    "                    if sub_grid in enh_rules:\n",
    "                        sub_grid = enh_rules[sub_grid]\n",
    "                    else:\n",
    "                        skip = False\n",
    "                enh_row_parts.append(sub_grid)\n",
    "            enh_row = []\n",
    "            for rsr in range(sub_size + 1):\n",
    "                enh_row.append(''.join([part.split('/')[rsr] for part in enh_row_parts]))\n",
    "            enh_grid.append('/'.join(enh_row))\n",
    "        grid = '/'.join(enh_grid)\n",
    "\n",
    "print(grid.count('#'), grid.count('#') + grid.count('.'))"
   ]
  },
  {
   "cell_type": "markdown",
   "metadata": {},
   "source": [
    "if divisible by 3 and not the last expansion, next 2 can be skipped by going directly from 3x3 to 6x6, instead of 3x3 to 4x4 to 6x6\n",
    "\n",
    "TODO: exploit the above fact, for a ?x speedup. I don't think it will be a 10x sort of improvement, but it should still be significant."
   ]
  },
  {
   "cell_type": "code",
   "execution_count": 104,
   "metadata": {},
   "outputs": [
    {
     "name": "stdout",
     "output_type": "stream",
     "text": [
      "2536879 4782969\n",
      "CPU times: user 36min 2s, sys: 5.77 s, total: 36min 8s\n",
      "Wall time: 36min 19s\n"
     ]
    }
   ],
   "source": [
    "%%time\n",
    "initial_pattern = '.#./..#/###'\n",
    "grid = initial_pattern\n",
    "\n",
    "for _ in range(18):\n",
    "    grid_size = len(grid.split('/')[0])\n",
    "    sub_size = 2 if grid_size % 2 == 0 else 3\n",
    "    sub_ct = grid_size // sub_size\n",
    "\n",
    "    enh_grid = []\n",
    "    for sr in range(sub_ct):\n",
    "        enh_row_parts = []\n",
    "        for sc in range(sub_ct):\n",
    "            sub_grid = []\n",
    "            for r in range(sr*sub_size, (sr+1)*sub_size):\n",
    "                sub_grid.append(grid.split('/')[r][sc*sub_size:(sc+1)*sub_size])\n",
    "            sub_grid = enh_rules['/'.join(sub_grid)]\n",
    "            enh_row_parts.append(sub_grid)\n",
    "        enh_row = []\n",
    "        for rsr in range(sub_size + 1):\n",
    "            enh_row.append(''.join([part.split('/')[rsr] for part in enh_row_parts]))\n",
    "        enh_grid.append('/'.join(enh_row))\n",
    "    grid = '/'.join(enh_grid)\n",
    "\n",
    "print(grid.count('#'), grid.count('#') + grid.count('.'))"
   ]
  },
  {
   "cell_type": "code",
   "execution_count": null,
   "metadata": {},
   "outputs": [],
   "source": []
  },
  {
   "cell_type": "code",
   "execution_count": null,
   "metadata": {},
   "outputs": [],
   "source": []
  }
 ],
 "metadata": {
  "kernelspec": {
   "display_name": "Python 3",
   "language": "python",
   "name": "python3"
  },
  "language_info": {
   "codemirror_mode": {
    "name": "ipython",
    "version": 3
   },
   "file_extension": ".py",
   "mimetype": "text/x-python",
   "name": "python",
   "nbconvert_exporter": "python",
   "pygments_lexer": "ipython3",
   "version": "3.6.3"
  }
 },
 "nbformat": 4,
 "nbformat_minor": 2
}
