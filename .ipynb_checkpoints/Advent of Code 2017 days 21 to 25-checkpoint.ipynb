{
 "cells": [
  {
   "cell_type": "markdown",
   "metadata": {},
   "source": [
    "# day 25"
   ]
  },
  {
   "cell_type": "code",
   "execution_count": null,
   "metadata": {},
   "outputs": [],
   "source": []
  },
  {
   "cell_type": "code",
   "execution_count": null,
   "metadata": {},
   "outputs": [],
   "source": []
  },
  {
   "cell_type": "markdown",
   "metadata": {},
   "source": [
    "# day 24"
   ]
  },
  {
   "cell_type": "code",
   "execution_count": null,
   "metadata": {},
   "outputs": [],
   "source": []
  },
  {
   "cell_type": "code",
   "execution_count": null,
   "metadata": {},
   "outputs": [],
   "source": []
  },
  {
   "cell_type": "markdown",
   "metadata": {},
   "source": [
    "# day 23"
   ]
  },
  {
   "cell_type": "code",
   "execution_count": null,
   "metadata": {},
   "outputs": [],
   "source": []
  },
  {
   "cell_type": "code",
   "execution_count": null,
   "metadata": {},
   "outputs": [],
   "source": []
  },
  {
   "cell_type": "markdown",
   "metadata": {},
   "source": [
    "# day 22"
   ]
  },
  {
   "cell_type": "code",
   "execution_count": null,
   "metadata": {},
   "outputs": [],
   "source": []
  },
  {
   "cell_type": "code",
   "execution_count": null,
   "metadata": {},
   "outputs": [],
   "source": []
  },
  {
   "cell_type": "markdown",
   "metadata": {},
   "source": [
    "# day 21: Fractal Art"
   ]
  },
  {
   "cell_type": "code",
   "execution_count": 1,
   "metadata": {},
   "outputs": [],
   "source": [
    "import random\n",
    "\n",
    "\n",
    "def rot(patn):\n",
    "    rot = list(zip(*[[ch for ch in row] \n",
    "                      for row in reversed(patn.split('/'))]))\n",
    "    return '/'.join([''.join(row) for row in rot])\n",
    "\n",
    "\n",
    "def rot_generator(patn):\n",
    "    yield patn\n",
    "    for _ in range(3):\n",
    "        patn = rot(patn)\n",
    "        yield patn\n",
    "    patn = '/'.join([''.join(row) for row in reversed(patn.split('/'))])\n",
    "    yield patn\n",
    "    for _ in range(3):\n",
    "        patn = rot(patn)\n",
    "        yield patn\n",
    "    patn = reversed(patn)"
   ]
  },
  {
   "cell_type": "code",
   "execution_count": 2,
   "metadata": {},
   "outputs": [],
   "source": [
    "given_rules = {}\n",
    "with open('input_day_21.txt') as f:\n",
    "    for line in f:\n",
    "        k, v = line.strip().split(' => ')\n",
    "        given_rules[k] = v\n",
    "\n",
    "# save some time by loading all of the pattern flip/rotations in as keys\n",
    "enh_rules = {}\n",
    "for k, v in given_rules.items():\n",
    "    for k_var in rot_generator(k):\n",
    "        enh_rules[k_var] = v"
   ]
  },
  {
   "cell_type": "code",
   "execution_count": 3,
   "metadata": {},
   "outputs": [
    {
     "name": "stdout",
     "output_type": "stream",
     "text": [
      "###/###/.##  ->  ..#./###./#.#./..##\n",
      "##/..  ->  ###/.##/##.\n",
      ".##/.#./..#  ->  ###./..##/#.#./#...\n",
      "##./.../#..  ->  #.##/..##/..../##.#\n",
      "../.#  ->  ###/#.#/.#.\n",
      "#./##  ->  ##./.##/#..\n",
      "##/##  ->  #.#/###/.##\n",
      "##/.#  ->  ##./.##/#..\n",
      "../##  ->  ###/.##/##.\n",
      "##/#.  ->  ##./.##/#..\n",
      "#../##./#.#  ->  #..#/.#.#/.##./....\n",
      ".##/###/.#.  ->  ##../#.#./#.#./.#..\n"
     ]
    }
   ],
   "source": [
    "for _ in range(12):\n",
    "    patn_size = random.choice([2, 3])\n",
    "    inp = '/'.join(''.join(random.choices('#.', k = patn_size)) for _ in range(patn_size))\n",
    "\n",
    "    print(inp, ' -> ', enh_rules[inp])"
   ]
  },
  {
   "cell_type": "code",
   "execution_count": 4,
   "metadata": {},
   "outputs": [
    {
     "name": "stdout",
     "output_type": "stream",
     "text": [
      "194 324\n",
      "CPU times: user 490 µs, sys: 51 µs, total: 541 µs\n",
      "Wall time: 505 µs\n"
     ]
    }
   ],
   "source": [
    "%%time\n",
    "initial_pattern = '.#./..#/###'\n",
    "grid = initial_pattern\n",
    "\n",
    "for _ in range(5):\n",
    "    grid_size = len(grid.split('/')[0])\n",
    "    sub_size = 2 if grid_size % 2 == 0 else 3\n",
    "    sub_ct = grid_size // sub_size\n",
    "\n",
    "    enh_grid = []\n",
    "    for sr in range(sub_ct):\n",
    "        enh_row_parts = []\n",
    "        for sc in range(sub_ct):\n",
    "            sub_grid = []\n",
    "            for r in range(sr*sub_size, (sr+1)*sub_size):\n",
    "                sub_grid.append(grid.split('/')[r][sc*sub_size:(sc+1)*sub_size])\n",
    "            sub_grid = enh_rules['/'.join(sub_grid)]\n",
    "            enh_row_parts.append(sub_grid)\n",
    "        enh_row = []\n",
    "        for rsr in range(sub_size + 1):\n",
    "            enh_row.append(''.join([part.split('/')[rsr] for part in enh_row_parts]))\n",
    "        enh_grid.append('/'.join(enh_row))\n",
    "    grid = '/'.join(enh_grid)\n",
    "\n",
    "print(grid.count('#'), grid.count('#') + grid.count('.'))"
   ]
  },
  {
   "cell_type": "code",
   "execution_count": 5,
   "metadata": {},
   "outputs": [
    {
     "name": "stdout",
     "output_type": "stream",
     "text": [
      "281939 531441\n",
      "CPU times: user 31.9 s, sys: 196 ms, total: 32.1 s\n",
      "Wall time: 32.6 s\n"
     ]
    }
   ],
   "source": [
    "%%time\n",
    "initial_pattern = '.#./..#/###'\n",
    "grid = initial_pattern\n",
    "\n",
    "for _ in range(15):\n",
    "    grid_size = len(grid.split('/')[0])\n",
    "    sub_size = 2 if grid_size % 2 == 0 else 3\n",
    "    sub_ct = grid_size // sub_size\n",
    "\n",
    "    enh_grid = []\n",
    "    for sr in range(sub_ct):\n",
    "        enh_row_parts = []\n",
    "        for sc in range(sub_ct):\n",
    "            sub_grid = []\n",
    "            for r in range(sr*sub_size, (sr+1)*sub_size):\n",
    "                sub_grid.append(grid.split('/')[r][sc*sub_size:(sc+1)*sub_size])\n",
    "            sub_grid = enh_rules['/'.join(sub_grid)]\n",
    "            enh_row_parts.append(sub_grid)\n",
    "        enh_row = []\n",
    "        for rsr in range(sub_size + 1):\n",
    "            enh_row.append(''.join([part.split('/')[rsr] for part in enh_row_parts]))\n",
    "        enh_grid.append('/'.join(enh_row))\n",
    "    grid = '/'.join(enh_grid)\n",
    "\n",
    "print(grid.count('#'), grid.count('#') + grid.count('.'))"
   ]
  },
  {
   "cell_type": "markdown",
   "metadata": {},
   "source": [
    "if divisible by 3 and not the last expansion, next 2 can be skipped by going directly from 3x3 to 6x6, instead of 3x3 to 4x4 to 6x6\n",
    "\n",
    "TODO: exploit the above fact, for a ?x speedup. I don't think it will be a 10x sort of improvement, but it should still be significant."
   ]
  },
  {
   "cell_type": "code",
   "execution_count": 104,
   "metadata": {},
   "outputs": [
    {
     "name": "stdout",
     "output_type": "stream",
     "text": [
      "2536879 4782969\n",
      "CPU times: user 36min 2s, sys: 5.77 s, total: 36min 8s\n",
      "Wall time: 36min 19s\n"
     ]
    }
   ],
   "source": [
    "%%time\n",
    "initial_pattern = '.#./..#/###'\n",
    "grid = initial_pattern\n",
    "\n",
    "for _ in range(18):\n",
    "    grid_size = len(grid.split('/')[0])\n",
    "    sub_size = 2 if grid_size % 2 == 0 else 3\n",
    "    sub_ct = grid_size // sub_size\n",
    "\n",
    "    enh_grid = []\n",
    "    for sr in range(sub_ct):\n",
    "        enh_row_parts = []\n",
    "        for sc in range(sub_ct):\n",
    "            sub_grid = []\n",
    "            for r in range(sr*sub_size, (sr+1)*sub_size):\n",
    "                sub_grid.append(grid.split('/')[r][sc*sub_size:(sc+1)*sub_size])\n",
    "            sub_grid = enh_rules['/'.join(sub_grid)]\n",
    "            enh_row_parts.append(sub_grid)\n",
    "        enh_row = []\n",
    "        for rsr in range(sub_size + 1):\n",
    "            enh_row.append(''.join([part.split('/')[rsr] for part in enh_row_parts]))\n",
    "        enh_grid.append('/'.join(enh_row))\n",
    "    grid = '/'.join(enh_grid)\n",
    "\n",
    "print(grid.count('#'), grid.count('#') + grid.count('.'))"
   ]
  },
  {
   "cell_type": "code",
   "execution_count": null,
   "metadata": {},
   "outputs": [],
   "source": []
  },
  {
   "cell_type": "code",
   "execution_count": null,
   "metadata": {},
   "outputs": [],
   "source": []
  }
 ],
 "metadata": {
  "kernelspec": {
   "display_name": "Python 3",
   "language": "python",
   "name": "python3"
  },
  "language_info": {
   "codemirror_mode": {
    "name": "ipython",
    "version": 3
   },
   "file_extension": ".py",
   "mimetype": "text/x-python",
   "name": "python",
   "nbconvert_exporter": "python",
   "pygments_lexer": "ipython3",
   "version": "3.6.3"
  }
 },
 "nbformat": 4,
 "nbformat_minor": 2
}
