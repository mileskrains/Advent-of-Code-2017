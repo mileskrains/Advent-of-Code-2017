{
 "cells": [
  {
   "cell_type": "markdown",
   "metadata": {},
   "source": [
    "# day 15: Dueling Generators"
   ]
  },
  {
   "cell_type": "code",
   "execution_count": 1,
   "metadata": {},
   "outputs": [],
   "source": [
    "def generator_d15(factor, prev, divisor):\n",
    "    while True:\n",
    "        prev = prev * factor % divisor\n",
    "        yield prev\n",
    "        \n",
    "\n",
    "factor_A = 16807\n",
    "factor_B = 48271\n",
    "\n",
    "prev_A = 65\n",
    "prev_B = 8921\n",
    "\n",
    "divisor = 2147483647\n",
    "    "
   ]
  },
  {
   "cell_type": "code",
   "execution_count": 2,
   "metadata": {},
   "outputs": [
    {
     "name": "stdout",
     "output_type": "stream",
     "text": [
      "1010101101100111\n",
      "1101001100110111\n",
      "\n",
      "1111011100111001\n",
      "1000010110001000\n",
      "\n",
      "1110001101001010\n",
      "1110001101001010\n",
      "\n",
      "0001011011000111\n",
      "1100110000000111\n",
      "\n",
      "1001100000100100\n",
      "0010100000000100\n",
      "\n"
     ]
    }
   ],
   "source": [
    "genA = generator_d15(factor_A, prev_A, divisor)\n",
    "genB = generator_d15(factor_B, prev_B, divisor) \n",
    "\n",
    "for _ in range(5):\n",
    "    print(bin(next(genA))[-16:])\n",
    "    print(bin(next(genB))[-16:])\n",
    "    print()"
   ]
  },
  {
   "cell_type": "code",
   "execution_count": 3,
   "metadata": {},
   "outputs": [
    {
     "name": "stdout",
     "output_type": "stream",
     "text": [
      "594\n",
      "CPU times: user 1min 6s, sys: 308 ms, total: 1min 7s\n",
      "Wall time: 1min 8s\n"
     ]
    }
   ],
   "source": [
    "%%time\n",
    "prev_A = 703\n",
    "prev_B = 516\n",
    "genA = generator_d15(factor_A, prev_A, divisor)\n",
    "genB = generator_d15(factor_B, prev_B, divisor)\n",
    "\n",
    "match_ct = 0\n",
    "for _ in range(40*10**6):\n",
    "    nextA = bin(next(genA))[-16:]\n",
    "    nextB = bin(next(genB))[-16:]\n",
    "    if nextA == nextB:\n",
    "        match_ct += 1\n",
    "\n",
    "print(match_ct)"
   ]
  },
  {
   "cell_type": "code",
   "execution_count": 4,
   "metadata": {},
   "outputs": [],
   "source": [
    "def generator_d15_p2(factor, prev, divisor, multiple):\n",
    "    while True:\n",
    "        prev = prev * factor % divisor\n",
    "        if prev % multiple == 0:\n",
    "            yield prev    "
   ]
  },
  {
   "cell_type": "code",
   "execution_count": 5,
   "metadata": {},
   "outputs": [
    {
     "name": "stdout",
     "output_type": "stream",
     "text": [
      "328\n",
      "CPU times: user 23.7 s, sys: 159 ms, total: 23.9 s\n",
      "Wall time: 24.8 s\n"
     ]
    }
   ],
   "source": [
    "%%time\n",
    "multiple_A = 4\n",
    "multiple_B = 8\n",
    "genA = generator_d15_p2(factor_A, prev_A, divisor, multiple_A)\n",
    "genB = generator_d15_p2(factor_B, prev_B, divisor, multiple_B)\n",
    "\n",
    "match_ct = 0\n",
    "for _ in range(5*10**6):\n",
    "    nextA = bin(next(genA))[-16:]\n",
    "    nextB = bin(next(genB))[-16:]\n",
    "    if nextA == nextB:\n",
    "        match_ct += 1\n",
    "\n",
    "print(match_ct)"
   ]
  },
  {
   "cell_type": "code",
   "execution_count": null,
   "metadata": {},
   "outputs": [],
   "source": []
  },
  {
   "cell_type": "code",
   "execution_count": null,
   "metadata": {},
   "outputs": [],
   "source": []
  },
  {
   "cell_type": "markdown",
   "metadata": {},
   "source": [
    "# day 14: Disk Defragmentation"
   ]
  },
  {
   "cell_type": "code",
   "execution_count": 1,
   "metadata": {},
   "outputs": [],
   "source": [
    "from collections import defaultdict\n",
    "from functools import reduce\n",
    "from operator import xor\n",
    "\n",
    "\n",
    "def knot_hash(key):\n",
    "    numbers_max = 255\n",
    "    numbers = list(range(numbers_max + 1))\n",
    "    current_position = 0\n",
    "    skip_size = 0\n",
    "    overshot = False\n",
    "    lengths = [ord(ch) for ch in key] + [17, 31, 73, 47, 23]\n",
    "\n",
    "    for _ in range(64):\n",
    "        for length in lengths:\n",
    "            rev_span_start = current_position\n",
    "            rev_span_end = rev_span_start + length\n",
    "            if rev_span_end > numbers_max:\n",
    "                overshot = True\n",
    "                overshoot = rev_span_end - numbers_max - 1\n",
    "                numbers = numbers + numbers\n",
    "            numbers[rev_span_start:rev_span_end] = reversed(numbers[rev_span_start:rev_span_end])\n",
    "            if overshot:\n",
    "                numbers[0:overshoot] = numbers[numbers_max+1:numbers_max+1+overshoot]\n",
    "                numbers = numbers[:numbers_max + 1]\n",
    "                overshot = False\n",
    "            current_position = (current_position + length + skip_size) % (numbers_max + 1)\n",
    "            skip_size += 1\n",
    "    assert sorted(numbers) == list(range(256))\n",
    "\n",
    "    sparse_hashes = []\n",
    "    while numbers:\n",
    "        take, numbers = numbers[:16], numbers[16:]\n",
    "        sparse_hashes.append(reduce(xor, take))\n",
    "\n",
    "    as_hex = ''.join([hex(n)[2:] for n in sparse_hashes])\n",
    "    as_bin = ''.join(['{:08b}'.format(h) for h in sparse_hashes])\n",
    "    return as_bin"
   ]
  },
  {
   "cell_type": "code",
   "execution_count": 2,
   "metadata": {},
   "outputs": [],
   "source": [
    "test_key = 'flqrgnkx'\n",
    "test_rep = '''\n",
    "##.#.#..\n",
    ".#.#.#.#   \n",
    "....#.#.   \n",
    "#.#.##.#   \n",
    ".##.#...   \n",
    "##..#..#   \n",
    ".#...#..   \n",
    "##.#.##.\n",
    "'''\n",
    "key_string = 'wenycdww'"
   ]
  },
  {
   "cell_type": "code",
   "execution_count": 3,
   "metadata": {},
   "outputs": [
    {
     "name": "stdout",
     "output_type": "stream",
     "text": [
      "##.#.#..\n",
      ".#.#.#.#\n",
      "....#.#.\n",
      "#.#.##.#\n",
      ".##.#...\n",
      "##..#..#\n",
      ".#...#..\n",
      "##.#.##.\n"
     ]
    }
   ],
   "source": [
    "for row in range(8):\n",
    "    hashed = knot_hash(test_key+'-'+str(row))\n",
    "    print(hashed[:8].replace('1', '#').replace('0', '.'))"
   ]
  },
  {
   "cell_type": "code",
   "execution_count": 4,
   "metadata": {},
   "outputs": [
    {
     "name": "stdout",
     "output_type": "stream",
     "text": [
      "8226\n"
     ]
    }
   ],
   "source": [
    "total = 0\n",
    "grid = []\n",
    "for row in range(128):\n",
    "    hashed = knot_hash(key_string+'-'+str(row))\n",
    "    total += hashed.count('1')\n",
    "    grid.append(list(hashed))\n",
    "print(total)"
   ]
  },
  {
   "cell_type": "code",
   "execution_count": 5,
   "metadata": {},
   "outputs": [
    {
     "name": "stdout",
     "output_type": "stream",
     "text": [
      "##..#.#.##.#...#.#....#########.\n",
      "...#.....#.#.#.#..#....#..#...##\n",
      "###.###....##.#.#...#####...#.##\n",
      "##.#.#..#.#.#.......####..##.#..\n",
      "#..#..#...##.##......#.####..#.#\n",
      "##......####...##..#..###..####.\n",
      "#.###.###.##.###..###.#.....###.\n",
      "##..###.#..#.######.#..#..##....\n",
      ".#....####..##.###.##.###..#..#.\n",
      ".#.####...####..##.#..#..###.###\n",
      "##...##.#.#.#.#.##.#..#..#..##..\n",
      ".#.######.###.##.####.#.#..#.##.\n",
      "####.####...#.##...#.#.###..#..#\n",
      "....#.####.#.#.#...#.#...##.#.##\n",
      "#..###.#.###.#.####.######...#.#\n",
      ".###......###..#.....#.##.#.#..#\n"
     ]
    }
   ],
   "source": [
    "for row in range(16):\n",
    "    hashed = ''.join(grid[row])\n",
    "    print(hashed[:32].replace('1', '#').replace('0', '.'))"
   ]
  },
  {
   "cell_type": "code",
   "execution_count": 6,
   "metadata": {},
   "outputs": [
    {
     "name": "stdout",
     "output_type": "stream",
     "text": [
      "1128\n"
     ]
    }
   ],
   "source": [
    "class Grid_Pt:\n",
    "    def __init__(self, value=0, group=0):\n",
    "        self.value = value\n",
    "        self.group = group\n",
    "\n",
    "        \n",
    "def label_group(r, c, grp_lbl):\n",
    "    new_group = False\n",
    "    grp_rem = [(r, c)]\n",
    "    while grp_rem:\n",
    "        r, c = grp_rem.pop()\n",
    "        if grid_dict[r, c].value and not grid_dict[r, c].group:\n",
    "            new_group = True\n",
    "            grid_dict[r, c].group = grp_lbl\n",
    "            grp_rem.extend([(r-1, c),\n",
    "                            (r+1, c),\n",
    "                            (r, c-1),\n",
    "                            (r, c+1)])\n",
    "    return new_group\n",
    "\n",
    "\n",
    "grid_dict = defaultdict(Grid_Pt)\n",
    "\n",
    "for r, row in enumerate(grid):\n",
    "    for c, val in enumerate(row):\n",
    "        grid_dict[r,c] = Grid_Pt(int(val))\n",
    "        \n",
    "grp_lbl = 1\n",
    "for r, row in enumerate(grid):\n",
    "    for c, val in enumerate(row):\n",
    "        if label_group(r, c, grp_lbl):\n",
    "            grp_lbl += 1\n",
    "  \n",
    "print(grp_lbl-1)"
   ]
  },
  {
   "cell_type": "code",
   "execution_count": 9,
   "metadata": {},
   "outputs": [],
   "source": [
    "grp_reps = dict(zip(range(10),list('!@#$%^&*()')))\n",
    "def grp_char(grp):\n",
    "    if grp:\n",
    "        return grp_reps[grp % 10]\n",
    "    else:\n",
    "        return ' '"
   ]
  },
  {
   "cell_type": "code",
   "execution_count": 10,
   "metadata": {},
   "outputs": [
    {
     "name": "stdout",
     "output_type": "stream",
     "text": [
      "@@  # $ %% ^   & *    ((((((((( )) !!! @@@ @@ #  $ %%  ^^^^  &  \n",
      "   @     % ^ # &  $    (  (   ((   !  @@ @@@@    $    ^  ^^     \n",
      "))) !!!    ^^ @ #   (((((   $ (( % !! @ @ @   ^^^   & ^  ^^  ^^^\n",
      ")) ! !  @ ) ^       ((((  (( #  %%  !!  @@@@   ^^^ $  ^ ^ ^^^^^ \n",
      ")  !  *   )) ((      ( ((((  # %%%    @@@@@@   ^  ) ! ^^^^^^^^^ \n",
      "))      ))))   **  *  (((  ####   (((  @ @@@         )    ^^  ^^\n",
      ") ))) ))) )) ***  *** (     ### &&   @@@  @@ *****  )) (((   )  \n",
      "))  ))) )  ) ****** *  &  **     &&&  @   @@ * *   )))) ((( (   \n",
      " )    ))))  ** *** ** &&&  *  @ &&  @@@ ## @@  ****  )   (  ( $ \n",
      " ) ))))   ****  ** *  &  *** @@@  @ @@ ) #    ! **      @  #    \n",
      "))   )) ) * * ( ** *  &  *  @@  @@@@@@   # ### )     ! @ #     !\n",
      " ) )))))) *** (( **** & $  % @@ @@     ### #### ^^  !!! #### & !\n",
      ")))) ))))   * ((   * $ $$$  (  ) @   # # #  ## ^^  !! ! #  #   !\n",
      "    % )))) ) ^ (   * $   $$ ( )))  # #  ##### #  #     &    *  !\n",
      "!  %%% ) ))) ^ (((( $$$$$$   @ ))  ####### ######## #  &&  $ %  \n",
      " %%%      )))  (     $ $$ @ #  )) ## #    ## # #### #  &  $$    \n",
      ")     !!!  )    @@@  $  $$ ####   ##### # ## #        # $$$ $   \n",
      ")     !! !  @   @@@      $$      ## #   ## ###### #    #    $$  \n",
      ")   !!!!!!!!  !! @@@ (  $$  )) ### ####  # # ######   ! @@@@  @ \n",
      " !!!! !  !!!!!!! @ @ ((  $$   #########  ###     ##  &  @ @ @ @ \n",
      "!!!  #  !!!!   !     (  $$ ####      #  ##   $$ %  ^ & &  @@@@@ \n",
      " !!   !!! !!    # #  (( $$    #  #  ## # #  $$$  $$ % ^   @ @  &\n",
      "!! !!!     !   #### @       # ####  ##### $ $ $ $  # @ @@@@@@   \n",
      "!  !    * !!!!    #    (   #####  )) #### $$$ $$$$$  @@@@  @@@  \n",
      "!! !!   * ! !!     ^        ####     #   $$$$     $ $    $ @ @ &\n",
      "   !!!!!    !        % ^^^ & ## *  # #### $  $$ $ $ $ $$$$ @@ @ \n",
      "# $  !! %  ^ &&&  *** (  ^ &&   *  ####  )  $ $$$ $$$ $ $$ @@@@@\n",
      "#  !!!!! @@ #      ***    $  % ^  ##  #     $$$ $$$ $$$  $  @@@@\n",
      "#  !!!  @ @@  **   *    ( $$        )) !    $ $$$ $$  $$  @@@ @ \n",
      "   !   @@@@@   * ^ *****  $  &&& *** ) ! $$$$$$  $ $   $  @ @   \n",
      " !!!! !  @ @  (   )  *  $$$  &&& *  ! @   $$$ $$$$$$ #   @@   $ \n",
      "!!! !!!  @@  (( $  %%      ^^     &    ***  $$$$$$$ ( ) !  ((   \n"
     ]
    }
   ],
   "source": [
    "for row in range(32):\n",
    "    hashed = ''.join([grp_char(grid_dict[row, c].group) for c in range(128)])\n",
    "    print(hashed[:64])"
   ]
  },
  {
   "cell_type": "code",
   "execution_count": null,
   "metadata": {},
   "outputs": [],
   "source": []
  },
  {
   "cell_type": "code",
   "execution_count": null,
   "metadata": {},
   "outputs": [],
   "source": []
  },
  {
   "cell_type": "markdown",
   "metadata": {},
   "source": [
    "# day 13: Packet Scanners\n",
    "\n",
    "My first attempt at Part Two was even slower, as it repeated the full timestep sequence for every delay duration calculation. Might have worked if I gave it a week to run ..."
   ]
  },
  {
   "cell_type": "code",
   "execution_count": 1,
   "metadata": {},
   "outputs": [],
   "source": [
    "from itertools import cycle\n",
    "\n",
    "\n",
    "def make_scanner(rng):\n",
    "    r = list(range(rng))\n",
    "    return cycle(r + r[-2:0:-1])\n",
    "\n",
    "\n",
    "def make_firewall(spec):\n",
    "    fw = []\n",
    "    max_depth = max(spec.keys())\n",
    "    for d in range(max_depth + 1):\n",
    "        r = spec.get(d, 0)\n",
    "        if r:\n",
    "            fw.append(make_scanner(r))\n",
    "        else:\n",
    "            fw.append(cycle([-1]))\n",
    "    return fw\n",
    "\n",
    "\n",
    "def make_fw_state_table(spec, table_len):\n",
    "    fw = make_firewall(spec)\n",
    "    fw_state_table = []\n",
    "    for _ in range(table_len):\n",
    "        fw_state_table.append([next(s) for s in fw])\n",
    "    return fw_state_table\n",
    "\n",
    "\n",
    "def make_traverse(fw_spec, delay):\n",
    "    fw = make_firewall(fw_spec)\n",
    "    for _ in range(delay):\n",
    "        fw_sp = [next(s) for s in fw]\n",
    "    severity = 0\n",
    "    for tp in range(max(fw_spec.keys())+1):\n",
    "        fw_sp = [next(s) for s in fw]\n",
    "        if fw_sp[tp] == 0:\n",
    "            severity += tp*fw_spec[tp]\n",
    "    return severity\n",
    "\n",
    "def make_traverse_w_state_table(fw_spec, fw_state_table, delay):\n",
    "    for tp in range(max(fw_spec.keys())+1):\n",
    "        if fw_state_table[tp+delay][tp] == 0:\n",
    "            return False\n",
    "    return True"
   ]
  },
  {
   "cell_type": "code",
   "execution_count": 2,
   "metadata": {},
   "outputs": [],
   "source": [
    "test_input = \"\"\"0: 3\n",
    "1: 2\n",
    "4: 4\n",
    "6: 4\"\"\"\n",
    "\n",
    "test_fw_spec = {}\n",
    "for line in test_input.split('\\n'):\n",
    "    dep, rng = [int(n) for n in line.split(': ')]\n",
    "    test_fw_spec[dep] = rng"
   ]
  },
  {
   "cell_type": "code",
   "execution_count": 3,
   "metadata": {},
   "outputs": [],
   "source": [
    "fw_spec = {}\n",
    "with open('input_day_13.txt') as f:\n",
    "    for line in f:\n",
    "            dep, rng = [int(n) for n in line.split(': ')]\n",
    "            fw_spec[dep] = rng"
   ]
  },
  {
   "cell_type": "code",
   "execution_count": 4,
   "metadata": {},
   "outputs": [
    {
     "data": {
      "text/plain": [
       "[(0, 24),\n",
       " (1, 2),\n",
       " (2, 16),\n",
       " (3, 2),\n",
       " (4, 0),\n",
       " (5, 2),\n",
       " (6, 24),\n",
       " (7, 2),\n",
       " (8, 16),\n",
       " (9, 2),\n",
       " (10, 0),\n",
       " (11, 2)]"
      ]
     },
     "execution_count": 4,
     "metadata": {},
     "output_type": "execute_result"
    }
   ],
   "source": [
    "[(d, make_traverse(test_fw_spec, d)) for d in range(12)]"
   ]
  },
  {
   "cell_type": "code",
   "execution_count": 5,
   "metadata": {},
   "outputs": [
    {
     "data": {
      "text/plain": [
       "[(0, False),\n",
       " (1, False),\n",
       " (2, False),\n",
       " (3, False),\n",
       " (4, False),\n",
       " (5, False),\n",
       " (6, False),\n",
       " (7, False),\n",
       " (8, False),\n",
       " (9, False),\n",
       " (10, True),\n",
       " (11, False)]"
      ]
     },
     "execution_count": 5,
     "metadata": {},
     "output_type": "execute_result"
    }
   ],
   "source": [
    "fw_state_table = make_fw_state_table(test_fw_spec, 1000)\n",
    "[(d, make_traverse_w_state_table(test_fw_spec, fw_state_table, d)) for d in range(12)]"
   ]
  },
  {
   "cell_type": "code",
   "execution_count": 6,
   "metadata": {},
   "outputs": [
    {
     "data": {
      "text/plain": [
       "1900"
      ]
     },
     "execution_count": 6,
     "metadata": {},
     "output_type": "execute_result"
    }
   ],
   "source": [
    "make_traverse(fw_spec, 0)"
   ]
  },
  {
   "cell_type": "code",
   "execution_count": 7,
   "metadata": {},
   "outputs": [
    {
     "name": "stdout",
     "output_type": "stream",
     "text": [
      "CPU times: user 3min 12s, sys: 53.2 s, total: 4min 5s\n",
      "Wall time: 4min 16s\n"
     ]
    }
   ],
   "source": [
    "%%time\n",
    "fw_state_table = make_fw_state_table(fw_spec, 10000000)"
   ]
  },
  {
   "cell_type": "code",
   "execution_count": 8,
   "metadata": {},
   "outputs": [
    {
     "name": "stdout",
     "output_type": "stream",
     "text": [
      "3966414\n",
      "CPU times: user 10.7 s, sys: 4.32 s, total: 15 s\n",
      "Wall time: 15.5 s\n"
     ]
    }
   ],
   "source": [
    "%%time\n",
    "d = 0\n",
    "while not make_traverse_w_state_table(fw_spec, fw_state_table, d):\n",
    "    d += 1\n",
    "\n",
    "print(d)"
   ]
  },
  {
   "cell_type": "code",
   "execution_count": 9,
   "metadata": {},
   "outputs": [
    {
     "name": "stdout",
     "output_type": "stream",
     "text": [
      "3966414\n",
      "CPU times: user 18.5 s, sys: 31.9 ms, total: 18.5 s\n",
      "Wall time: 18.6 s\n"
     ]
    }
   ],
   "source": [
    "%%time\n",
    "# and now the quick way ...\n",
    "depths_cycles = [(k, 2*v-2) for k, v in fw_spec.items()]\n",
    "\n",
    "def caught_at_delay(depths_cycles, delay):\n",
    "    return 0 in [(d + delay) % c for d, c in depths_cycles]\n",
    "\n",
    "d = 0\n",
    "while caught_at_delay(depths_cycles, d):\n",
    "    d += 1\n",
    "print(d)"
   ]
  },
  {
   "cell_type": "code",
   "execution_count": 11,
   "metadata": {},
   "outputs": [
    {
     "name": "stdout",
     "output_type": "stream",
     "text": [
      "3966414\n",
      "CPU times: user 2.07 s, sys: 2.05 ms, total: 2.07 s\n",
      "Wall time: 2.07 s\n"
     ]
    }
   ],
   "source": [
    "%%time\n",
    "# maybe even quicker ...\n",
    "depths_cycles = [(k, 2*v-2) for k, v in fw_spec.items()]\n",
    "\n",
    "def caught_at_delay(depths_cycles, delay):\n",
    "    for d, c in depths_cycles:\n",
    "        if (d + delay) % c == 0:\n",
    "            return True\n",
    "    return False\n",
    "\n",
    "d = 0\n",
    "while caught_at_delay(depths_cycles, d):\n",
    "    d += 1\n",
    "print(d)"
   ]
  },
  {
   "cell_type": "code",
   "execution_count": null,
   "metadata": {},
   "outputs": [],
   "source": []
  },
  {
   "cell_type": "code",
   "execution_count": null,
   "metadata": {},
   "outputs": [],
   "source": []
  },
  {
   "cell_type": "markdown",
   "metadata": {},
   "source": [
    "# day 12: Digital Plumber"
   ]
  },
  {
   "cell_type": "code",
   "execution_count": 1,
   "metadata": {},
   "outputs": [],
   "source": [
    "connections = []\n",
    "with open('input_day_12.txt') as f:\n",
    "    for line in f:\n",
    "        connections.append(line.strip())"
   ]
  },
  {
   "cell_type": "code",
   "execution_count": 2,
   "metadata": {},
   "outputs": [
    {
     "data": {
      "text/plain": [
       "['1995 <-> 773, 1499',\n",
       " '1996 <-> 95, 1996',\n",
       " '1997 <-> 510, 796',\n",
       " '1998 <-> 626',\n",
       " '1999 <-> 964, 1568']"
      ]
     },
     "execution_count": 2,
     "metadata": {},
     "output_type": "execute_result"
    }
   ],
   "source": [
    "connections[-5:]"
   ]
  },
  {
   "cell_type": "code",
   "execution_count": 3,
   "metadata": {},
   "outputs": [],
   "source": [
    "connections_dict = {}\n",
    "def parse_connection(conn):\n",
    "    prog, comlist = conn.split(' <-> ')\n",
    "    prog = int(prog)\n",
    "    comlist = [int(p) for p in comlist.split(',')]\n",
    "    connections_dict[prog] = comlist\n",
    "    \n",
    "for conn in connections:\n",
    "    parse_connection(conn)"
   ]
  },
  {
   "cell_type": "code",
   "execution_count": 4,
   "metadata": {},
   "outputs": [],
   "source": [
    "def group_from_prog(prog):\n",
    "    ctp = connections_dict[prog][:]\n",
    "    to_visit = []\n",
    "    visited = []\n",
    "    to_visit.extend(ctp)\n",
    "    while to_visit:\n",
    "        pv = to_visit.pop()\n",
    "        for p in connections_dict[pv]:\n",
    "            if p not in visited:\n",
    "                ctp.append(p)\n",
    "                visited.append(p)\n",
    "                to_visit.extend(connections_dict[p])\n",
    "    return set(ctp)"
   ]
  },
  {
   "cell_type": "code",
   "execution_count": 5,
   "metadata": {},
   "outputs": [
    {
     "data": {
      "text/plain": [
       "113"
      ]
     },
     "execution_count": 5,
     "metadata": {},
     "output_type": "execute_result"
    }
   ],
   "source": [
    "len(group_from_prog(0))"
   ]
  },
  {
   "cell_type": "code",
   "execution_count": 6,
   "metadata": {},
   "outputs": [
    {
     "data": {
      "text/plain": [
       "202"
      ]
     },
     "execution_count": 6,
     "metadata": {},
     "output_type": "execute_result"
    }
   ],
   "source": [
    "all_progs = set(connections_dict.keys())\n",
    "grouped_progs = set()\n",
    "groups = 0\n",
    "ungrouped_progs = all_progs.difference(grouped_progs)\n",
    "while ungrouped_progs:\n",
    "    group = group_from_prog(next(iter(ungrouped_progs)))\n",
    "    grouped_progs.update(group)\n",
    "    ungrouped_progs = all_progs.difference(grouped_progs)\n",
    "    groups += 1\n",
    "groups"
   ]
  },
  {
   "cell_type": "code",
   "execution_count": null,
   "metadata": {},
   "outputs": [],
   "source": []
  },
  {
   "cell_type": "code",
   "execution_count": null,
   "metadata": {},
   "outputs": [],
   "source": []
  },
  {
   "cell_type": "markdown",
   "metadata": {},
   "source": [
    "# day 11: Hex Ed\n",
    "\n",
    "Struggled for a few minutes with coordinates for the hex grid, then googled and got the idea for the hex-as-3d from [here](http://keekerdc.com/2011/03/hexagon-grids-coordinate-systems-and-distance-calculations/). Obviously, it makes the solution fairly trivial."
   ]
  },
  {
   "cell_type": "code",
   "execution_count": 1,
   "metadata": {},
   "outputs": [],
   "source": [
    "with open('input_day_11.txt') as f:\n",
    "    child_walk = f.read().strip().split(',')"
   ]
  },
  {
   "cell_type": "code",
   "execution_count": 2,
   "metadata": {},
   "outputs": [],
   "source": [
    "compass_to_3d_offset = {'n': (-1, 1, 0),\n",
    "                        'ne': (-1, 0, 1),\n",
    "                        'se': (0, -1, 1),\n",
    "                        's': (1, -1, 0),\n",
    "                        'sw': (1, 0, -1),\n",
    "                        'nw': (0, 1, -1)}"
   ]
  },
  {
   "cell_type": "code",
   "execution_count": 3,
   "metadata": {},
   "outputs": [],
   "source": [
    "def add_vecs(va, vb):\n",
    "    return tuple(map(lambda t: t[0] + t[1], zip(va, vb)))"
   ]
  },
  {
   "cell_type": "code",
   "execution_count": 4,
   "metadata": {},
   "outputs": [
    {
     "data": {
      "text/plain": [
       "((314, -759, 445), 759, 1501)"
      ]
     },
     "execution_count": 4,
     "metadata": {},
     "output_type": "execute_result"
    }
   ],
   "source": [
    "cur_pos = (0, 0, 0)\n",
    "max_dist = 0\n",
    "for step in child_walk:\n",
    "    cur_pos = add_vecs(cur_pos, compass_to_3d_offset[step])\n",
    "    max_dist = max([max_dist] + list(map(abs, cur_pos)))\n",
    "cur_pos, max(map(abs, cur_pos)), max_dist"
   ]
  },
  {
   "cell_type": "code",
   "execution_count": null,
   "metadata": {},
   "outputs": [],
   "source": []
  },
  {
   "cell_type": "code",
   "execution_count": null,
   "metadata": {},
   "outputs": [],
   "source": []
  }
 ],
 "metadata": {
  "kernelspec": {
   "display_name": "Python 3",
   "language": "python",
   "name": "python3"
  },
  "language_info": {
   "codemirror_mode": {
    "name": "ipython",
    "version": 3
   },
   "file_extension": ".py",
   "mimetype": "text/x-python",
   "name": "python",
   "nbconvert_exporter": "python",
   "pygments_lexer": "ipython3",
   "version": "3.6.3"
  }
 },
 "nbformat": 4,
 "nbformat_minor": 2
}
